{
  "cells": [
    {
      "cell_type": "markdown",
      "metadata": {
        "id": "view-in-github",
        "colab_type": "text"
      },
      "source": [
        "<a href=\"https://colab.research.google.com/github/Secret-Ambush/DelayPredictor/blob/main/extracting_SouthwestFlight.ipynb\" target=\"_parent\"><img src=\"https://colab.research.google.com/assets/colab-badge.svg\" alt=\"Open In Colab\"/></a>"
      ]
    },
    {
      "cell_type": "code",
      "execution_count": null,
      "metadata": {
        "id": "aNQIhR78xbvt"
      },
      "outputs": [],
      "source": [
        "import pandas as pd"
      ]
    },
    {
      "cell_type": "markdown",
      "metadata": {
        "id": "edNm0Y6Uxbvu"
      },
      "source": [
        "#### Reading datasets"
      ]
    },
    {
      "cell_type": "code",
      "execution_count": null,
      "metadata": {
        "id": "e6CExNYDxbvv"
      },
      "outputs": [],
      "source": [
        "df1 = pd.read_csv(\"/Users/bristi/Desktop/DelayPredictor/Combined_Flights_2018.csv\")"
      ]
    },
    {
      "cell_type": "code",
      "execution_count": null,
      "metadata": {
        "id": "8_kjqLtSxbvv"
      },
      "outputs": [],
      "source": [
        "df2 = pd.read_csv(\"/Users/bristi/Desktop/DelayPredictor/Combined_Flights_2019.csv\")"
      ]
    },
    {
      "cell_type": "code",
      "execution_count": null,
      "metadata": {
        "id": "L4NgRQqkxbvv"
      },
      "outputs": [],
      "source": [
        "df3 = pd.read_csv(\"/Users/bristi/Desktop/DelayPredictor/Combined_Flights_2020.csv\")"
      ]
    },
    {
      "cell_type": "code",
      "execution_count": null,
      "metadata": {
        "id": "8CrMPFY4xbvv"
      },
      "outputs": [],
      "source": [
        "df4 = pd.read_csv(\"/Users/bristi/Desktop/DelayPredictor/Combined_Flights_2021.csv\")"
      ]
    },
    {
      "cell_type": "code",
      "execution_count": null,
      "metadata": {
        "id": "_4z2OsmIxbvv"
      },
      "outputs": [],
      "source": [
        "df5 = pd.read_csv(\"/Users/bristi/Desktop/DelayPredictor/Combined_Flights_2022.csv\")"
      ]
    },
    {
      "cell_type": "markdown",
      "metadata": {
        "id": "0vfvCAI9xbvv"
      },
      "source": [
        "#### Extracting data for Southwest"
      ]
    },
    {
      "cell_type": "code",
      "execution_count": null,
      "metadata": {
        "id": "s8QKAJ5yxbvv"
      },
      "outputs": [],
      "source": [
        "df18 = df1[df1['Airline'] == 'Southwest Airlines Co.']\n",
        "df19 = df2[df2['Airline'] == 'Southwest Airlines Co.']\n",
        "df20 = df3[df3['Airline'] == 'Southwest Airlines Co.']\n",
        "df21 = df4[df4['Airline'] == 'Southwest Airlines Co.']"
      ]
    },
    {
      "cell_type": "code",
      "execution_count": null,
      "metadata": {
        "id": "4DKcot_7xbvw",
        "outputId": "156cc5b4-b844-49f5-f04c-9e666a7c04d1"
      },
      "outputs": [
        {
          "data": {
            "text/plain": [
              "<bound method NDFrame.head of          FlightDate                 Airline Origin Dest  Cancelled  Diverted  \\\n",
              "55989    2018-01-09  Southwest Airlines Co.    LAS  MSY       True     False   \n",
              "55990    2018-01-09  Southwest Airlines Co.    LAS  OAK      False     False   \n",
              "55991    2018-01-09  Southwest Airlines Co.    LAS  OAK      False     False   \n",
              "55992    2018-01-09  Southwest Airlines Co.    LAS  OAK       True     False   \n",
              "55993    2018-01-09  Southwest Airlines Co.    LAS  OAK      False     False   \n",
              "...             ...                     ...    ...  ...        ...       ...   \n",
              "6311866  2021-06-01  Southwest Airlines Co.    BNA  MDW      False     False   \n",
              "6311867  2021-06-01  Southwest Airlines Co.    BNA  MDW      False     False   \n",
              "6311868  2021-06-01  Southwest Airlines Co.    BNA  MIA      False     False   \n",
              "6311869  2021-06-01  Southwest Airlines Co.    BNA  MIA      False     False   \n",
              "6311870  2021-06-01  Southwest Airlines Co.    BNA  MKE      False     False   \n",
              "\n",
              "         CRSDepTime  DepTime  DepDelayMinutes  DepDelay  ...  WheelsOff  \\\n",
              "55989          1840      NaN              NaN       NaN  ...        NaN   \n",
              "55990           925   1029.0             64.0      64.0  ...     1045.0   \n",
              "55991          1820   1826.0              6.0       6.0  ...     1838.0   \n",
              "55992          2055      NaN              NaN       NaN  ...        NaN   \n",
              "55993          2155   2317.0             82.0      82.0  ...     2325.0   \n",
              "...             ...      ...              ...       ...  ...        ...   \n",
              "6311866        1255   1301.0              6.0       6.0  ...     1310.0   \n",
              "6311867         730    727.0              0.0      -3.0  ...      740.0   \n",
              "6311868         800    757.0              0.0      -3.0  ...      811.0   \n",
              "6311869        1300   1252.0              0.0      -8.0  ...     1300.0   \n",
              "6311870        1925   1948.0             23.0      23.0  ...     2000.0   \n",
              "\n",
              "         WheelsOn  TaxiIn  CRSArrTime  ArrDelay  ArrDel15  ArrivalDelayGroups  \\\n",
              "55989         NaN     NaN        2355       NaN       NaN                 NaN   \n",
              "55990      1149.0     5.0        1100      54.0       1.0                 3.0   \n",
              "55991      1945.0     4.0        1955      -6.0       0.0                -1.0   \n",
              "55992         NaN     NaN        2225       NaN       NaN                 NaN   \n",
              "55993        36.0     5.0        2325      76.0       1.0                 5.0   \n",
              "...           ...     ...         ...       ...       ...                 ...   \n",
              "6311866    1416.0     5.0        1430      -9.0       0.0                -1.0   \n",
              "6311867     842.0     3.0         900     -15.0       0.0                -1.0   \n",
              "6311868    1056.0     5.0        1110      -9.0       0.0                -1.0   \n",
              "6311869    1554.0     5.0        1620     -21.0       0.0                -2.0   \n",
              "6311870    2111.0     5.0        2055      21.0       1.0                 1.0   \n",
              "\n",
              "         ArrTimeBlk  DistanceGroup  DivAirportLandings  \n",
              "55989     2300-2359              7                 0.0  \n",
              "55990     1100-1159              2                 0.0  \n",
              "55991     1900-1959              2                 0.0  \n",
              "55992     2200-2259              2                 0.0  \n",
              "55993     2300-2359              2                 0.0  \n",
              "...             ...            ...                 ...  \n",
              "6311866   1400-1459              2                 0.0  \n",
              "6311867   0900-0959              2                 0.0  \n",
              "6311868   1100-1159              4                 0.0  \n",
              "6311869   1600-1659              4                 0.0  \n",
              "6311870   2000-2059              2                 0.0  \n",
              "\n",
              "[4742414 rows x 61 columns]>"
            ]
          },
          "execution_count": 8,
          "metadata": {},
          "output_type": "execute_result"
        }
      ],
      "source": [
        "data_for_southwest_train = pd.concat([df18, df19])\n",
        "data_for_southwest_train = pd.concat([data_for_southwest_train, df20])\n",
        "data_for_southwest_train = pd.concat([data_for_southwest_train, df21])\n",
        "data_for_southwest_train.head"
      ]
    },
    {
      "cell_type": "code",
      "execution_count": null,
      "metadata": {
        "id": "nrtOfnw-xbvw"
      },
      "outputs": [],
      "source": [
        "data_for_southwest_test = df5[df5['Airline'] == 'Southwest Airlines Co.']"
      ]
    },
    {
      "cell_type": "code",
      "execution_count": null,
      "metadata": {
        "id": "zt4kGbp9xbvw"
      },
      "outputs": [],
      "source": [
        "data_for_southwest_train.to_csv('southwest_train.csv', index=False)\n",
        "data_for_southwest_test.to_csv('southwest_test.csv', index=False)"
      ]
    }
  ],
  "metadata": {
    "kernelspec": {
      "display_name": "base",
      "language": "python",
      "name": "python3"
    },
    "language_info": {
      "codemirror_mode": {
        "name": "ipython",
        "version": 3
      },
      "file_extension": ".py",
      "mimetype": "text/x-python",
      "name": "python",
      "nbconvert_exporter": "python",
      "pygments_lexer": "ipython3",
      "version": "3.9.13"
    },
    "colab": {
      "provenance": [],
      "include_colab_link": true
    }
  },
  "nbformat": 4,
  "nbformat_minor": 0
}