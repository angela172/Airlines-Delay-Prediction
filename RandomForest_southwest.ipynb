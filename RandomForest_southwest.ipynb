{
 "cells": [
  {
   "cell_type": "code",
   "execution_count": 2,
   "metadata": {},
   "outputs": [],
   "source": [
    "import pandas as pd"
   ]
  },
  {
   "cell_type": "markdown",
   "metadata": {},
   "source": [
    "## Training Data"
   ]
  },
  {
   "cell_type": "code",
   "execution_count": 3,
   "metadata": {},
   "outputs": [],
   "source": [
    "df = pd.read_csv(\"/Users/bristi/Desktop/DM assign/Preprocessing/southwest_train.csv\")"
   ]
  },
  {
   "cell_type": "code",
   "execution_count": 4,
   "metadata": {},
   "outputs": [
    {
     "name": "stdout",
     "output_type": "stream",
     "text": [
      "DepTime                 152451\n",
      "DepDelayMinutes         152451\n",
      "DepDelay                152451\n",
      "ArrTime                 154671\n",
      "ArrDelayMinutes         162069\n",
      "AirTime                 162069\n",
      "ActualElapsedTime       162069\n",
      "Tail_Number              71456\n",
      "DepDel15                152451\n",
      "DepartureDelayGroups    152451\n",
      "TaxiOut                 153052\n",
      "WheelsOff               153052\n",
      "WheelsOn                154685\n",
      "TaxiIn                  154685\n",
      "ArrDelay                162069\n",
      "ArrDel15                162069\n",
      "ArrivalDelayGroups      162069\n",
      "dtype: int64\n"
     ]
    }
   ],
   "source": [
    "# Check for missing values in each column\n",
    "missing_values = df.isnull().sum()\n",
    "\n",
    "# Display columns with missing values\n",
    "print(missing_values[missing_values > 0])\n"
   ]
  },
  {
   "cell_type": "code",
   "execution_count": 5,
   "metadata": {},
   "outputs": [
    {
     "name": "stdout",
     "output_type": "stream",
     "text": [
      "<class 'pandas.core.frame.DataFrame'>\n",
      "RangeIndex: 4742414 entries, 0 to 4742413\n",
      "Data columns (total 61 columns):\n",
      " #   Column                                   Dtype  \n",
      "---  ------                                   -----  \n",
      " 0   FlightDate                               object \n",
      " 1   Airline                                  object \n",
      " 2   Origin                                   object \n",
      " 3   Dest                                     object \n",
      " 4   Cancelled                                bool   \n",
      " 5   Diverted                                 bool   \n",
      " 6   CRSDepTime                               int64  \n",
      " 7   DepTime                                  float64\n",
      " 8   DepDelayMinutes                          float64\n",
      " 9   DepDelay                                 float64\n",
      " 10  ArrTime                                  float64\n",
      " 11  ArrDelayMinutes                          float64\n",
      " 12  AirTime                                  float64\n",
      " 13  CRSElapsedTime                           float64\n",
      " 14  ActualElapsedTime                        float64\n",
      " 15  Distance                                 float64\n",
      " 16  Year                                     int64  \n",
      " 17  Quarter                                  int64  \n",
      " 18  Month                                    int64  \n",
      " 19  DayofMonth                               int64  \n",
      " 20  DayOfWeek                                int64  \n",
      " 21  Marketing_Airline_Network                object \n",
      " 22  Operated_or_Branded_Code_Share_Partners  object \n",
      " 23  DOT_ID_Marketing_Airline                 int64  \n",
      " 24  IATA_Code_Marketing_Airline              object \n",
      " 25  Flight_Number_Marketing_Airline          int64  \n",
      " 26  Operating_Airline                        object \n",
      " 27  DOT_ID_Operating_Airline                 int64  \n",
      " 28  IATA_Code_Operating_Airline              object \n",
      " 29  Tail_Number                              object \n",
      " 30  Flight_Number_Operating_Airline          int64  \n",
      " 31  OriginAirportID                          int64  \n",
      " 32  OriginAirportSeqID                       int64  \n",
      " 33  OriginCityMarketID                       int64  \n",
      " 34  OriginCityName                           object \n",
      " 35  OriginState                              object \n",
      " 36  OriginStateFips                          int64  \n",
      " 37  OriginStateName                          object \n",
      " 38  OriginWac                                int64  \n",
      " 39  DestAirportID                            int64  \n",
      " 40  DestAirportSeqID                         int64  \n",
      " 41  DestCityMarketID                         int64  \n",
      " 42  DestCityName                             object \n",
      " 43  DestState                                object \n",
      " 44  DestStateFips                            int64  \n",
      " 45  DestStateName                            object \n",
      " 46  DestWac                                  int64  \n",
      " 47  DepDel15                                 float64\n",
      " 48  DepartureDelayGroups                     float64\n",
      " 49  DepTimeBlk                               object \n",
      " 50  TaxiOut                                  float64\n",
      " 51  WheelsOff                                float64\n",
      " 52  WheelsOn                                 float64\n",
      " 53  TaxiIn                                   float64\n",
      " 54  CRSArrTime                               int64  \n",
      " 55  ArrDelay                                 float64\n",
      " 56  ArrDel15                                 float64\n",
      " 57  ArrivalDelayGroups                       float64\n",
      " 58  ArrTimeBlk                               object \n",
      " 59  DistanceGroup                            int64  \n",
      " 60  DivAirportLandings                       float64\n",
      "dtypes: bool(2), float64(19), int64(22), object(18)\n",
      "memory usage: 2.1+ GB\n"
     ]
    }
   ],
   "source": [
    "df.info()"
   ]
  },
  {
   "cell_type": "markdown",
   "metadata": {},
   "source": [
    "#### Removing unwanted columns"
   ]
  },
  {
   "cell_type": "code",
   "execution_count": 6,
   "metadata": {},
   "outputs": [],
   "source": [
    "df_notcancelled = df[df[\"Cancelled\"]==False]\n",
    "df_train = df_notcancelled[df_notcancelled['Diverted']==False]\n"
   ]
  },
  {
   "cell_type": "code",
   "execution_count": 7,
   "metadata": {},
   "outputs": [],
   "source": [
    "df_train=df_train.drop('Cancelled',axis=1)\n",
    "df_train = df_train.drop('Diverted',axis = 1)\n",
    "df_train = df_train.drop('Airline',axis=1)\n",
    "df_train = df_train.drop('DivAirportLandings',axis = 1)\n",
    "df_train = df_train.drop('DistanceGroup',axis = 1)\n",
    "df_train = df_train.drop('ArrivalDelayGroups',axis = 1)\n",
    "df_train = df_train.drop('DepartureDelayGroups',axis = 1)\n",
    "df_train = df_train.drop('ArrDelay',axis = 1)\n",
    "df_train = df_train.drop('DepDelay',axis = 1)\n",
    "df_train = df_train.drop('ArrDel15',axis = 1)\n",
    "df_train = df_train.drop('ArrTimeBlk',axis = 1)\n",
    "df_train = df_train.drop('DepTimeBlk',axis = 1)\n",
    "df_train= df_train.drop('Year', axis = 1)\n"
   ]
  },
  {
   "cell_type": "code",
   "execution_count": 8,
   "metadata": {},
   "outputs": [],
   "source": [
    "\n",
    "df_train= df_train.drop(['AirTime',\t\n",
    "                         'CRSElapsedTime',\n",
    "                         'ActualElapsedTime',\n",
    "                         'Flight_Number_Marketing_Airline', \n",
    "                         'DOT_ID_Operating_Airline',\n",
    "                         'Operating_Airline', \n",
    "                         'WheelsOn',\n",
    "                         'WheelsOff',\n",
    "                         'IATA_Code_Operating_Airline', \n",
    "                         'Tail_Number', \n",
    "                         'Flight_Number_Operating_Airline', \n",
    "                         'OriginAirportID', \n",
    "                         'OriginAirportSeqID', \n",
    "                         'OriginCityMarketID', \n",
    "                         'OriginCityName', \n",
    "                         'OriginState',\n",
    "                         'OriginStateFips', \n",
    "                         'OriginStateName', \n",
    "                         'OriginWac', \n",
    "                         'DestAirportID',\n",
    "                         'DestAirportSeqID',\n",
    "                         'DestCityMarketID', \n",
    "                         'DestCityName', \n",
    "                         'DestState', \n",
    "                         'DestStateFips', \n",
    "                         'DestStateName', \n",
    "                         'DestWac',\n",
    "                         'DepDel15', \n",
    "                         'Marketing_Airline_Network', \n",
    "                         'Operated_or_Branded_Code_Share_Partners', \n",
    "                         'DOT_ID_Marketing_Airline', \n",
    "                         'IATA_Code_Marketing_Airline'], axis = 1)\n",
    "\n",
    "\n"
   ]
  },
  {
   "cell_type": "code",
   "execution_count": 9,
   "metadata": {},
   "outputs": [
    {
     "data": {
      "text/plain": [
       "(4580345, 16)"
      ]
     },
     "execution_count": 9,
     "metadata": {},
     "output_type": "execute_result"
    }
   ],
   "source": [
    "df_train.shape"
   ]
  },
  {
   "cell_type": "markdown",
   "metadata": {},
   "source": [
    "#### Checking for missing values"
   ]
  },
  {
   "cell_type": "code",
   "execution_count": 10,
   "metadata": {},
   "outputs": [
    {
     "name": "stdout",
     "output_type": "stream",
     "text": [
      "Series([], dtype: int64)\n"
     ]
    }
   ],
   "source": [
    "# Check for missing values in each column\n",
    "missing_values = df_train.isnull().sum()\n",
    "\n",
    "# Display columns with missing values\n",
    "print(missing_values[missing_values > 0])\n"
   ]
  },
  {
   "cell_type": "code",
   "execution_count": 11,
   "metadata": {},
   "outputs": [
    {
     "name": "stdout",
     "output_type": "stream",
     "text": [
      "Number of records with null DepTime: 0\n"
     ]
    }
   ],
   "source": [
    "null_dep_time_count = df_train[\"DepTime\"].isnull().sum()\n",
    "print(\"Number of records with null DepTime:\", null_dep_time_count)"
   ]
  },
  {
   "cell_type": "code",
   "execution_count": 12,
   "metadata": {},
   "outputs": [
    {
     "data": {
      "text/html": [
       "<div>\n",
       "<style scoped>\n",
       "    .dataframe tbody tr th:only-of-type {\n",
       "        vertical-align: middle;\n",
       "    }\n",
       "\n",
       "    .dataframe tbody tr th {\n",
       "        vertical-align: top;\n",
       "    }\n",
       "\n",
       "    .dataframe thead th {\n",
       "        text-align: right;\n",
       "    }\n",
       "</style>\n",
       "<table border=\"1\" class=\"dataframe\">\n",
       "  <thead>\n",
       "    <tr style=\"text-align: right;\">\n",
       "      <th></th>\n",
       "      <th>FlightDate</th>\n",
       "      <th>Origin</th>\n",
       "      <th>Dest</th>\n",
       "      <th>CRSDepTime</th>\n",
       "      <th>DepTime</th>\n",
       "      <th>DepDelayMinutes</th>\n",
       "      <th>ArrTime</th>\n",
       "      <th>ArrDelayMinutes</th>\n",
       "      <th>Distance</th>\n",
       "      <th>Quarter</th>\n",
       "      <th>Month</th>\n",
       "      <th>DayofMonth</th>\n",
       "      <th>DayOfWeek</th>\n",
       "      <th>TaxiOut</th>\n",
       "      <th>TaxiIn</th>\n",
       "      <th>CRSArrTime</th>\n",
       "    </tr>\n",
       "  </thead>\n",
       "  <tbody>\n",
       "    <tr>\n",
       "      <th>1</th>\n",
       "      <td>2018-01-09</td>\n",
       "      <td>LAS</td>\n",
       "      <td>OAK</td>\n",
       "      <td>925</td>\n",
       "      <td>1029.0</td>\n",
       "      <td>64.0</td>\n",
       "      <td>1154.0</td>\n",
       "      <td>54.0</td>\n",
       "      <td>407.0</td>\n",
       "      <td>1</td>\n",
       "      <td>1</td>\n",
       "      <td>9</td>\n",
       "      <td>2</td>\n",
       "      <td>16.0</td>\n",
       "      <td>5.0</td>\n",
       "      <td>1100</td>\n",
       "    </tr>\n",
       "    <tr>\n",
       "      <th>2</th>\n",
       "      <td>2018-01-09</td>\n",
       "      <td>LAS</td>\n",
       "      <td>OAK</td>\n",
       "      <td>1820</td>\n",
       "      <td>1826.0</td>\n",
       "      <td>6.0</td>\n",
       "      <td>1949.0</td>\n",
       "      <td>0.0</td>\n",
       "      <td>407.0</td>\n",
       "      <td>1</td>\n",
       "      <td>1</td>\n",
       "      <td>9</td>\n",
       "      <td>2</td>\n",
       "      <td>12.0</td>\n",
       "      <td>4.0</td>\n",
       "      <td>1955</td>\n",
       "    </tr>\n",
       "    <tr>\n",
       "      <th>4</th>\n",
       "      <td>2018-01-09</td>\n",
       "      <td>LAS</td>\n",
       "      <td>OAK</td>\n",
       "      <td>2155</td>\n",
       "      <td>2317.0</td>\n",
       "      <td>82.0</td>\n",
       "      <td>41.0</td>\n",
       "      <td>76.0</td>\n",
       "      <td>407.0</td>\n",
       "      <td>1</td>\n",
       "      <td>1</td>\n",
       "      <td>9</td>\n",
       "      <td>2</td>\n",
       "      <td>8.0</td>\n",
       "      <td>5.0</td>\n",
       "      <td>2325</td>\n",
       "    </tr>\n",
       "    <tr>\n",
       "      <th>6</th>\n",
       "      <td>2018-01-09</td>\n",
       "      <td>LAS</td>\n",
       "      <td>OAK</td>\n",
       "      <td>1145</td>\n",
       "      <td>1436.0</td>\n",
       "      <td>171.0</td>\n",
       "      <td>1607.0</td>\n",
       "      <td>167.0</td>\n",
       "      <td>407.0</td>\n",
       "      <td>1</td>\n",
       "      <td>1</td>\n",
       "      <td>9</td>\n",
       "      <td>2</td>\n",
       "      <td>22.0</td>\n",
       "      <td>5.0</td>\n",
       "      <td>1320</td>\n",
       "    </tr>\n",
       "    <tr>\n",
       "      <th>8</th>\n",
       "      <td>2018-01-09</td>\n",
       "      <td>LAS</td>\n",
       "      <td>OAK</td>\n",
       "      <td>615</td>\n",
       "      <td>610.0</td>\n",
       "      <td>0.0</td>\n",
       "      <td>733.0</td>\n",
       "      <td>0.0</td>\n",
       "      <td>407.0</td>\n",
       "      <td>1</td>\n",
       "      <td>1</td>\n",
       "      <td>9</td>\n",
       "      <td>2</td>\n",
       "      <td>15.0</td>\n",
       "      <td>6.0</td>\n",
       "      <td>750</td>\n",
       "    </tr>\n",
       "  </tbody>\n",
       "</table>\n",
       "</div>"
      ],
      "text/plain": [
       "   FlightDate Origin Dest  CRSDepTime  DepTime  DepDelayMinutes  ArrTime  \\\n",
       "1  2018-01-09    LAS  OAK         925   1029.0             64.0   1154.0   \n",
       "2  2018-01-09    LAS  OAK        1820   1826.0              6.0   1949.0   \n",
       "4  2018-01-09    LAS  OAK        2155   2317.0             82.0     41.0   \n",
       "6  2018-01-09    LAS  OAK        1145   1436.0            171.0   1607.0   \n",
       "8  2018-01-09    LAS  OAK         615    610.0              0.0    733.0   \n",
       "\n",
       "   ArrDelayMinutes  Distance  Quarter  Month  DayofMonth  DayOfWeek  TaxiOut  \\\n",
       "1             54.0     407.0        1      1           9          2     16.0   \n",
       "2              0.0     407.0        1      1           9          2     12.0   \n",
       "4             76.0     407.0        1      1           9          2      8.0   \n",
       "6            167.0     407.0        1      1           9          2     22.0   \n",
       "8              0.0     407.0        1      1           9          2     15.0   \n",
       "\n",
       "   TaxiIn  CRSArrTime  \n",
       "1     5.0        1100  \n",
       "2     4.0        1955  \n",
       "4     5.0        2325  \n",
       "6     5.0        1320  \n",
       "8     6.0         750  "
      ]
     },
     "execution_count": 12,
     "metadata": {},
     "output_type": "execute_result"
    }
   ],
   "source": [
    "df_train.head()"
   ]
  },
  {
   "cell_type": "code",
   "execution_count": 13,
   "metadata": {},
   "outputs": [
    {
     "data": {
      "text/plain": [
       "(4580345, 16)"
      ]
     },
     "execution_count": 13,
     "metadata": {},
     "output_type": "execute_result"
    }
   ],
   "source": [
    "df_train.shape"
   ]
  },
  {
   "cell_type": "markdown",
   "metadata": {},
   "source": []
  },
  {
   "cell_type": "markdown",
   "metadata": {},
   "source": [
    "## Testing Data"
   ]
  },
  {
   "cell_type": "code",
   "execution_count": 14,
   "metadata": {},
   "outputs": [],
   "source": [
    "df_test  = pd.read_csv(\"/Users/bristi/Desktop/DM assign/Preprocessing/southwest_test.csv\")"
   ]
  },
  {
   "cell_type": "markdown",
   "metadata": {},
   "source": [
    "#### Removing Unwanted Columns"
   ]
  },
  {
   "cell_type": "code",
   "execution_count": 15,
   "metadata": {},
   "outputs": [],
   "source": [
    "df_notcancelled = df_test[df_test[\"Cancelled\"]==False]\n",
    "df_test = df_notcancelled[df_notcancelled['Diverted']==False]\n"
   ]
  },
  {
   "cell_type": "code",
   "execution_count": 16,
   "metadata": {},
   "outputs": [],
   "source": [
    "df_test=df_test.drop('Cancelled',axis=1)\n",
    "df_test = df_test.drop('Diverted',axis = 1)\n",
    "df_test = df_test.drop('Airline',axis=1)\n",
    "df_test = df_test.drop('DivAirportLandings',axis = 1)\n",
    "df_test = df_test.drop('DistanceGroup',axis = 1)\n",
    "df_test = df_test.drop('ArrivalDelayGroups',axis = 1)\n",
    "df_test = df_test.drop('DepartureDelayGroups',axis = 1)\n",
    "df_test = df_test.drop('ArrDelay',axis = 1)\n",
    "df_test = df_test.drop('DepDelay',axis = 1)\n",
    "df_test = df_test.drop('ArrDel15',axis = 1)\n",
    "df_test = df_test.drop('ArrTimeBlk',axis = 1)\n",
    "df_test = df_test.drop('DepTimeBlk',axis = 1)\n",
    "df_test= df_test.drop('Year', axis = 1)\n",
    "df_test= df_test.drop('FlightDate', axis = 1)\n"
   ]
  },
  {
   "cell_type": "code",
   "execution_count": 17,
   "metadata": {},
   "outputs": [],
   "source": [
    "\n",
    "df_test= df_test.drop(['AirTime',\t\n",
    "                         'CRSElapsedTime',\n",
    "                         'ActualElapsedTime',\n",
    "                         'Flight_Number_Marketing_Airline', \n",
    "                         'DOT_ID_Operating_Airline',\n",
    "                         'Operating_Airline', \n",
    "                         'WheelsOn',\n",
    "                         'WheelsOff',\n",
    "                         'IATA_Code_Operating_Airline', \n",
    "                         'Tail_Number', \n",
    "                         'Flight_Number_Operating_Airline', \n",
    "                         'OriginAirportID', \n",
    "                         'OriginAirportSeqID', \n",
    "                         'OriginCityMarketID', \n",
    "                         'OriginCityName', \n",
    "                         'OriginState',\n",
    "                         'OriginStateFips', \n",
    "                         'OriginStateName', \n",
    "                         'OriginWac', \n",
    "                         'DestAirportID',\n",
    "                         'DestAirportSeqID',\n",
    "                         'DestCityMarketID', \n",
    "                         'DestCityName', \n",
    "                         'DestState', \n",
    "                         'DestStateFips', \n",
    "                         'DestStateName', \n",
    "                         'DestWac',\n",
    "                         'DepDel15', \n",
    "                         'Marketing_Airline_Network', \n",
    "                         'Operated_or_Branded_Code_Share_Partners', \n",
    "                         'DOT_ID_Marketing_Airline', \n",
    "                         'IATA_Code_Marketing_Airline'], axis = 1)\n",
    "\n",
    "\n"
   ]
  },
  {
   "cell_type": "code",
   "execution_count": 18,
   "metadata": {},
   "outputs": [
    {
     "data": {
      "text/plain": [
       "(712246, 15)"
      ]
     },
     "execution_count": 18,
     "metadata": {},
     "output_type": "execute_result"
    }
   ],
   "source": [
    "df_test.shape\n"
   ]
  },
  {
   "cell_type": "markdown",
   "metadata": {},
   "source": [
    "#### Checking for missing values"
   ]
  },
  {
   "cell_type": "code",
   "execution_count": 19,
   "metadata": {},
   "outputs": [
    {
     "name": "stdout",
     "output_type": "stream",
     "text": [
      "Series([], dtype: int64)\n"
     ]
    }
   ],
   "source": [
    "# Check for missing values in each column\n",
    "missing_values = df_test.isnull().sum()\n",
    "\n",
    "# Display columns with missing values\n",
    "print(missing_values[missing_values > 0])\n"
   ]
  },
  {
   "cell_type": "code",
   "execution_count": 20,
   "metadata": {},
   "outputs": [
    {
     "name": "stdout",
     "output_type": "stream",
     "text": [
      "Number of records with null DepTime: 0\n"
     ]
    }
   ],
   "source": [
    "null_dep_time_count = df_test[\"DepTime\"].isnull().sum()\n",
    "print(\"Number of records with null DepTime:\", null_dep_time_count)"
   ]
  },
  {
   "cell_type": "code",
   "execution_count": 21,
   "metadata": {},
   "outputs": [
    {
     "data": {
      "text/html": [
       "<div>\n",
       "<style scoped>\n",
       "    .dataframe tbody tr th:only-of-type {\n",
       "        vertical-align: middle;\n",
       "    }\n",
       "\n",
       "    .dataframe tbody tr th {\n",
       "        vertical-align: top;\n",
       "    }\n",
       "\n",
       "    .dataframe thead th {\n",
       "        text-align: right;\n",
       "    }\n",
       "</style>\n",
       "<table border=\"1\" class=\"dataframe\">\n",
       "  <thead>\n",
       "    <tr style=\"text-align: right;\">\n",
       "      <th></th>\n",
       "      <th>Origin</th>\n",
       "      <th>Dest</th>\n",
       "      <th>CRSDepTime</th>\n",
       "      <th>DepTime</th>\n",
       "      <th>DepDelayMinutes</th>\n",
       "      <th>ArrTime</th>\n",
       "      <th>ArrDelayMinutes</th>\n",
       "      <th>Distance</th>\n",
       "      <th>Quarter</th>\n",
       "      <th>Month</th>\n",
       "      <th>DayofMonth</th>\n",
       "      <th>DayOfWeek</th>\n",
       "      <th>TaxiOut</th>\n",
       "      <th>TaxiIn</th>\n",
       "      <th>CRSArrTime</th>\n",
       "    </tr>\n",
       "  </thead>\n",
       "  <tbody>\n",
       "    <tr>\n",
       "      <th>0</th>\n",
       "      <td>ABQ</td>\n",
       "      <td>AUS</td>\n",
       "      <td>1035</td>\n",
       "      <td>1037.0</td>\n",
       "      <td>2.0</td>\n",
       "      <td>1303.0</td>\n",
       "      <td>0.0</td>\n",
       "      <td>619.0</td>\n",
       "      <td>2</td>\n",
       "      <td>4</td>\n",
       "      <td>1</td>\n",
       "      <td>5</td>\n",
       "      <td>8.0</td>\n",
       "      <td>3.0</td>\n",
       "      <td>1315</td>\n",
       "    </tr>\n",
       "    <tr>\n",
       "      <th>1</th>\n",
       "      <td>ABQ</td>\n",
       "      <td>BUR</td>\n",
       "      <td>1750</td>\n",
       "      <td>1823.0</td>\n",
       "      <td>33.0</td>\n",
       "      <td>1914.0</td>\n",
       "      <td>24.0</td>\n",
       "      <td>672.0</td>\n",
       "      <td>2</td>\n",
       "      <td>4</td>\n",
       "      <td>1</td>\n",
       "      <td>5</td>\n",
       "      <td>13.0</td>\n",
       "      <td>2.0</td>\n",
       "      <td>1850</td>\n",
       "    </tr>\n",
       "    <tr>\n",
       "      <th>2</th>\n",
       "      <td>ABQ</td>\n",
       "      <td>DAL</td>\n",
       "      <td>645</td>\n",
       "      <td>648.0</td>\n",
       "      <td>3.0</td>\n",
       "      <td>922.0</td>\n",
       "      <td>0.0</td>\n",
       "      <td>580.0</td>\n",
       "      <td>2</td>\n",
       "      <td>4</td>\n",
       "      <td>1</td>\n",
       "      <td>5</td>\n",
       "      <td>13.0</td>\n",
       "      <td>2.0</td>\n",
       "      <td>930</td>\n",
       "    </tr>\n",
       "    <tr>\n",
       "      <th>3</th>\n",
       "      <td>ABQ</td>\n",
       "      <td>DAL</td>\n",
       "      <td>1150</td>\n",
       "      <td>1146.0</td>\n",
       "      <td>0.0</td>\n",
       "      <td>1439.0</td>\n",
       "      <td>4.0</td>\n",
       "      <td>580.0</td>\n",
       "      <td>2</td>\n",
       "      <td>4</td>\n",
       "      <td>1</td>\n",
       "      <td>5</td>\n",
       "      <td>9.0</td>\n",
       "      <td>28.0</td>\n",
       "      <td>1435</td>\n",
       "    </tr>\n",
       "    <tr>\n",
       "      <th>4</th>\n",
       "      <td>ABQ</td>\n",
       "      <td>DAL</td>\n",
       "      <td>1730</td>\n",
       "      <td>1757.0</td>\n",
       "      <td>27.0</td>\n",
       "      <td>2042.0</td>\n",
       "      <td>32.0</td>\n",
       "      <td>580.0</td>\n",
       "      <td>2</td>\n",
       "      <td>4</td>\n",
       "      <td>1</td>\n",
       "      <td>5</td>\n",
       "      <td>13.0</td>\n",
       "      <td>9.0</td>\n",
       "      <td>2010</td>\n",
       "    </tr>\n",
       "  </tbody>\n",
       "</table>\n",
       "</div>"
      ],
      "text/plain": [
       "  Origin Dest  CRSDepTime  DepTime  DepDelayMinutes  ArrTime  ArrDelayMinutes  \\\n",
       "0    ABQ  AUS        1035   1037.0              2.0   1303.0              0.0   \n",
       "1    ABQ  BUR        1750   1823.0             33.0   1914.0             24.0   \n",
       "2    ABQ  DAL         645    648.0              3.0    922.0              0.0   \n",
       "3    ABQ  DAL        1150   1146.0              0.0   1439.0              4.0   \n",
       "4    ABQ  DAL        1730   1757.0             27.0   2042.0             32.0   \n",
       "\n",
       "   Distance  Quarter  Month  DayofMonth  DayOfWeek  TaxiOut  TaxiIn  \\\n",
       "0     619.0        2      4           1          5      8.0     3.0   \n",
       "1     672.0        2      4           1          5     13.0     2.0   \n",
       "2     580.0        2      4           1          5     13.0     2.0   \n",
       "3     580.0        2      4           1          5      9.0    28.0   \n",
       "4     580.0        2      4           1          5     13.0     9.0   \n",
       "\n",
       "   CRSArrTime  \n",
       "0        1315  \n",
       "1        1850  \n",
       "2         930  \n",
       "3        1435  \n",
       "4        2010  "
      ]
     },
     "execution_count": 21,
     "metadata": {},
     "output_type": "execute_result"
    }
   ],
   "source": [
    "df_test.head()"
   ]
  },
  {
   "cell_type": "code",
   "execution_count": 22,
   "metadata": {},
   "outputs": [
    {
     "data": {
      "text/plain": [
       "(712246, 15)"
      ]
     },
     "execution_count": 22,
     "metadata": {},
     "output_type": "execute_result"
    }
   ],
   "source": [
    "df_test.shape"
   ]
  },
  {
   "cell_type": "markdown",
   "metadata": {},
   "source": [
    "## Feature Encoding"
   ]
  },
  {
   "cell_type": "markdown",
   "metadata": {},
   "source": [
    "### Train Data"
   ]
  },
  {
   "cell_type": "markdown",
   "metadata": {},
   "source": [
    "#### Column Origin"
   ]
  },
  {
   "cell_type": "code",
   "execution_count": 23,
   "metadata": {},
   "outputs": [
    {
     "data": {
      "text/plain": [
       "Origin\n",
       "ABQ    0.007592\n",
       "ALB    0.002804\n",
       "AMA    0.001254\n",
       "ATL    0.029845\n",
       "AUS    0.017642\n",
       "         ...   \n",
       "SYR    0.000031\n",
       "TPA    0.020712\n",
       "TUL    0.003358\n",
       "TUS    0.002983\n",
       "VPS    0.000307\n",
       "Length: 109, dtype: float64"
      ]
     },
     "execution_count": 23,
     "metadata": {},
     "output_type": "execute_result"
    }
   ],
   "source": [
    "enc_nom_1 = (df_train.groupby('Origin').size()) / len(df_train)\n",
    "enc_nom_1"
   ]
  },
  {
   "cell_type": "code",
   "execution_count": 24,
   "metadata": {},
   "outputs": [
    {
     "data": {
      "text/html": [
       "<div>\n",
       "<style scoped>\n",
       "    .dataframe tbody tr th:only-of-type {\n",
       "        vertical-align: middle;\n",
       "    }\n",
       "\n",
       "    .dataframe tbody tr th {\n",
       "        vertical-align: top;\n",
       "    }\n",
       "\n",
       "    .dataframe thead th {\n",
       "        text-align: right;\n",
       "    }\n",
       "</style>\n",
       "<table border=\"1\" class=\"dataframe\">\n",
       "  <thead>\n",
       "    <tr style=\"text-align: right;\">\n",
       "      <th></th>\n",
       "      <th>FlightDate</th>\n",
       "      <th>Origin</th>\n",
       "      <th>Dest</th>\n",
       "      <th>CRSDepTime</th>\n",
       "      <th>DepTime</th>\n",
       "      <th>DepDelayMinutes</th>\n",
       "      <th>ArrTime</th>\n",
       "      <th>ArrDelayMinutes</th>\n",
       "      <th>Distance</th>\n",
       "      <th>Quarter</th>\n",
       "      <th>Month</th>\n",
       "      <th>DayofMonth</th>\n",
       "      <th>DayOfWeek</th>\n",
       "      <th>TaxiOut</th>\n",
       "      <th>TaxiIn</th>\n",
       "      <th>CRSArrTime</th>\n",
       "      <th>Origin_enc</th>\n",
       "    </tr>\n",
       "  </thead>\n",
       "  <tbody>\n",
       "    <tr>\n",
       "      <th>1</th>\n",
       "      <td>2018-01-09</td>\n",
       "      <td>LAS</td>\n",
       "      <td>OAK</td>\n",
       "      <td>925</td>\n",
       "      <td>1029.0</td>\n",
       "      <td>64.0</td>\n",
       "      <td>1154.0</td>\n",
       "      <td>54.0</td>\n",
       "      <td>407.0</td>\n",
       "      <td>1</td>\n",
       "      <td>1</td>\n",
       "      <td>9</td>\n",
       "      <td>2</td>\n",
       "      <td>16.0</td>\n",
       "      <td>5.0</td>\n",
       "      <td>1100</td>\n",
       "      <td>0.053286</td>\n",
       "    </tr>\n",
       "    <tr>\n",
       "      <th>2</th>\n",
       "      <td>2018-01-09</td>\n",
       "      <td>LAS</td>\n",
       "      <td>OAK</td>\n",
       "      <td>1820</td>\n",
       "      <td>1826.0</td>\n",
       "      <td>6.0</td>\n",
       "      <td>1949.0</td>\n",
       "      <td>0.0</td>\n",
       "      <td>407.0</td>\n",
       "      <td>1</td>\n",
       "      <td>1</td>\n",
       "      <td>9</td>\n",
       "      <td>2</td>\n",
       "      <td>12.0</td>\n",
       "      <td>4.0</td>\n",
       "      <td>1955</td>\n",
       "      <td>0.053286</td>\n",
       "    </tr>\n",
       "    <tr>\n",
       "      <th>4</th>\n",
       "      <td>2018-01-09</td>\n",
       "      <td>LAS</td>\n",
       "      <td>OAK</td>\n",
       "      <td>2155</td>\n",
       "      <td>2317.0</td>\n",
       "      <td>82.0</td>\n",
       "      <td>41.0</td>\n",
       "      <td>76.0</td>\n",
       "      <td>407.0</td>\n",
       "      <td>1</td>\n",
       "      <td>1</td>\n",
       "      <td>9</td>\n",
       "      <td>2</td>\n",
       "      <td>8.0</td>\n",
       "      <td>5.0</td>\n",
       "      <td>2325</td>\n",
       "      <td>0.053286</td>\n",
       "    </tr>\n",
       "    <tr>\n",
       "      <th>6</th>\n",
       "      <td>2018-01-09</td>\n",
       "      <td>LAS</td>\n",
       "      <td>OAK</td>\n",
       "      <td>1145</td>\n",
       "      <td>1436.0</td>\n",
       "      <td>171.0</td>\n",
       "      <td>1607.0</td>\n",
       "      <td>167.0</td>\n",
       "      <td>407.0</td>\n",
       "      <td>1</td>\n",
       "      <td>1</td>\n",
       "      <td>9</td>\n",
       "      <td>2</td>\n",
       "      <td>22.0</td>\n",
       "      <td>5.0</td>\n",
       "      <td>1320</td>\n",
       "      <td>0.053286</td>\n",
       "    </tr>\n",
       "    <tr>\n",
       "      <th>8</th>\n",
       "      <td>2018-01-09</td>\n",
       "      <td>LAS</td>\n",
       "      <td>OAK</td>\n",
       "      <td>615</td>\n",
       "      <td>610.0</td>\n",
       "      <td>0.0</td>\n",
       "      <td>733.0</td>\n",
       "      <td>0.0</td>\n",
       "      <td>407.0</td>\n",
       "      <td>1</td>\n",
       "      <td>1</td>\n",
       "      <td>9</td>\n",
       "      <td>2</td>\n",
       "      <td>15.0</td>\n",
       "      <td>6.0</td>\n",
       "      <td>750</td>\n",
       "      <td>0.053286</td>\n",
       "    </tr>\n",
       "  </tbody>\n",
       "</table>\n",
       "</div>"
      ],
      "text/plain": [
       "   FlightDate Origin Dest  CRSDepTime  DepTime  DepDelayMinutes  ArrTime  \\\n",
       "1  2018-01-09    LAS  OAK         925   1029.0             64.0   1154.0   \n",
       "2  2018-01-09    LAS  OAK        1820   1826.0              6.0   1949.0   \n",
       "4  2018-01-09    LAS  OAK        2155   2317.0             82.0     41.0   \n",
       "6  2018-01-09    LAS  OAK        1145   1436.0            171.0   1607.0   \n",
       "8  2018-01-09    LAS  OAK         615    610.0              0.0    733.0   \n",
       "\n",
       "   ArrDelayMinutes  Distance  Quarter  Month  DayofMonth  DayOfWeek  TaxiOut  \\\n",
       "1             54.0     407.0        1      1           9          2     16.0   \n",
       "2              0.0     407.0        1      1           9          2     12.0   \n",
       "4             76.0     407.0        1      1           9          2      8.0   \n",
       "6            167.0     407.0        1      1           9          2     22.0   \n",
       "8              0.0     407.0        1      1           9          2     15.0   \n",
       "\n",
       "   TaxiIn  CRSArrTime  Origin_enc  \n",
       "1     5.0        1100    0.053286  \n",
       "2     4.0        1955    0.053286  \n",
       "4     5.0        2325    0.053286  \n",
       "6     5.0        1320    0.053286  \n",
       "8     6.0         750    0.053286  "
      ]
     },
     "execution_count": 24,
     "metadata": {},
     "output_type": "execute_result"
    }
   ],
   "source": [
    "df_train['Origin_enc'] = df_train['Origin'].apply(lambda x : enc_nom_1[x])\n",
    "df_train.head()"
   ]
  },
  {
   "cell_type": "markdown",
   "metadata": {},
   "source": [
    "#### Column Destination"
   ]
  },
  {
   "cell_type": "code",
   "execution_count": 25,
   "metadata": {},
   "outputs": [
    {
     "data": {
      "text/plain": [
       "Dest\n",
       "ABQ    0.007610\n",
       "ALB    0.002813\n",
       "AMA    0.001254\n",
       "ATL    0.029814\n",
       "AUS    0.017643\n",
       "         ...   \n",
       "SYR    0.000032\n",
       "TPA    0.020701\n",
       "TUL    0.003361\n",
       "TUS    0.002991\n",
       "VPS    0.000308\n",
       "Length: 109, dtype: float64"
      ]
     },
     "execution_count": 25,
     "metadata": {},
     "output_type": "execute_result"
    }
   ],
   "source": [
    "enc_nom_2 = (df_train.groupby('Dest').size()) / len(df_train)\n",
    "enc_nom_2"
   ]
  },
  {
   "cell_type": "code",
   "execution_count": 26,
   "metadata": {},
   "outputs": [
    {
     "data": {
      "text/html": [
       "<div>\n",
       "<style scoped>\n",
       "    .dataframe tbody tr th:only-of-type {\n",
       "        vertical-align: middle;\n",
       "    }\n",
       "\n",
       "    .dataframe tbody tr th {\n",
       "        vertical-align: top;\n",
       "    }\n",
       "\n",
       "    .dataframe thead th {\n",
       "        text-align: right;\n",
       "    }\n",
       "</style>\n",
       "<table border=\"1\" class=\"dataframe\">\n",
       "  <thead>\n",
       "    <tr style=\"text-align: right;\">\n",
       "      <th></th>\n",
       "      <th>FlightDate</th>\n",
       "      <th>Origin</th>\n",
       "      <th>Dest</th>\n",
       "      <th>CRSDepTime</th>\n",
       "      <th>DepTime</th>\n",
       "      <th>DepDelayMinutes</th>\n",
       "      <th>ArrTime</th>\n",
       "      <th>ArrDelayMinutes</th>\n",
       "      <th>Distance</th>\n",
       "      <th>Quarter</th>\n",
       "      <th>Month</th>\n",
       "      <th>DayofMonth</th>\n",
       "      <th>DayOfWeek</th>\n",
       "      <th>TaxiOut</th>\n",
       "      <th>TaxiIn</th>\n",
       "      <th>CRSArrTime</th>\n",
       "      <th>Origin_enc</th>\n",
       "      <th>Dest_enc</th>\n",
       "    </tr>\n",
       "  </thead>\n",
       "  <tbody>\n",
       "    <tr>\n",
       "      <th>1</th>\n",
       "      <td>2018-01-09</td>\n",
       "      <td>LAS</td>\n",
       "      <td>OAK</td>\n",
       "      <td>925</td>\n",
       "      <td>1029.0</td>\n",
       "      <td>64.0</td>\n",
       "      <td>1154.0</td>\n",
       "      <td>54.0</td>\n",
       "      <td>407.0</td>\n",
       "      <td>1</td>\n",
       "      <td>1</td>\n",
       "      <td>9</td>\n",
       "      <td>2</td>\n",
       "      <td>16.0</td>\n",
       "      <td>5.0</td>\n",
       "      <td>1100</td>\n",
       "      <td>0.053286</td>\n",
       "      <td>0.028772</td>\n",
       "    </tr>\n",
       "    <tr>\n",
       "      <th>2</th>\n",
       "      <td>2018-01-09</td>\n",
       "      <td>LAS</td>\n",
       "      <td>OAK</td>\n",
       "      <td>1820</td>\n",
       "      <td>1826.0</td>\n",
       "      <td>6.0</td>\n",
       "      <td>1949.0</td>\n",
       "      <td>0.0</td>\n",
       "      <td>407.0</td>\n",
       "      <td>1</td>\n",
       "      <td>1</td>\n",
       "      <td>9</td>\n",
       "      <td>2</td>\n",
       "      <td>12.0</td>\n",
       "      <td>4.0</td>\n",
       "      <td>1955</td>\n",
       "      <td>0.053286</td>\n",
       "      <td>0.028772</td>\n",
       "    </tr>\n",
       "    <tr>\n",
       "      <th>4</th>\n",
       "      <td>2018-01-09</td>\n",
       "      <td>LAS</td>\n",
       "      <td>OAK</td>\n",
       "      <td>2155</td>\n",
       "      <td>2317.0</td>\n",
       "      <td>82.0</td>\n",
       "      <td>41.0</td>\n",
       "      <td>76.0</td>\n",
       "      <td>407.0</td>\n",
       "      <td>1</td>\n",
       "      <td>1</td>\n",
       "      <td>9</td>\n",
       "      <td>2</td>\n",
       "      <td>8.0</td>\n",
       "      <td>5.0</td>\n",
       "      <td>2325</td>\n",
       "      <td>0.053286</td>\n",
       "      <td>0.028772</td>\n",
       "    </tr>\n",
       "    <tr>\n",
       "      <th>6</th>\n",
       "      <td>2018-01-09</td>\n",
       "      <td>LAS</td>\n",
       "      <td>OAK</td>\n",
       "      <td>1145</td>\n",
       "      <td>1436.0</td>\n",
       "      <td>171.0</td>\n",
       "      <td>1607.0</td>\n",
       "      <td>167.0</td>\n",
       "      <td>407.0</td>\n",
       "      <td>1</td>\n",
       "      <td>1</td>\n",
       "      <td>9</td>\n",
       "      <td>2</td>\n",
       "      <td>22.0</td>\n",
       "      <td>5.0</td>\n",
       "      <td>1320</td>\n",
       "      <td>0.053286</td>\n",
       "      <td>0.028772</td>\n",
       "    </tr>\n",
       "    <tr>\n",
       "      <th>8</th>\n",
       "      <td>2018-01-09</td>\n",
       "      <td>LAS</td>\n",
       "      <td>OAK</td>\n",
       "      <td>615</td>\n",
       "      <td>610.0</td>\n",
       "      <td>0.0</td>\n",
       "      <td>733.0</td>\n",
       "      <td>0.0</td>\n",
       "      <td>407.0</td>\n",
       "      <td>1</td>\n",
       "      <td>1</td>\n",
       "      <td>9</td>\n",
       "      <td>2</td>\n",
       "      <td>15.0</td>\n",
       "      <td>6.0</td>\n",
       "      <td>750</td>\n",
       "      <td>0.053286</td>\n",
       "      <td>0.028772</td>\n",
       "    </tr>\n",
       "  </tbody>\n",
       "</table>\n",
       "</div>"
      ],
      "text/plain": [
       "   FlightDate Origin Dest  CRSDepTime  DepTime  DepDelayMinutes  ArrTime  \\\n",
       "1  2018-01-09    LAS  OAK         925   1029.0             64.0   1154.0   \n",
       "2  2018-01-09    LAS  OAK        1820   1826.0              6.0   1949.0   \n",
       "4  2018-01-09    LAS  OAK        2155   2317.0             82.0     41.0   \n",
       "6  2018-01-09    LAS  OAK        1145   1436.0            171.0   1607.0   \n",
       "8  2018-01-09    LAS  OAK         615    610.0              0.0    733.0   \n",
       "\n",
       "   ArrDelayMinutes  Distance  Quarter  Month  DayofMonth  DayOfWeek  TaxiOut  \\\n",
       "1             54.0     407.0        1      1           9          2     16.0   \n",
       "2              0.0     407.0        1      1           9          2     12.0   \n",
       "4             76.0     407.0        1      1           9          2      8.0   \n",
       "6            167.0     407.0        1      1           9          2     22.0   \n",
       "8              0.0     407.0        1      1           9          2     15.0   \n",
       "\n",
       "   TaxiIn  CRSArrTime  Origin_enc  Dest_enc  \n",
       "1     5.0        1100    0.053286  0.028772  \n",
       "2     4.0        1955    0.053286  0.028772  \n",
       "4     5.0        2325    0.053286  0.028772  \n",
       "6     5.0        1320    0.053286  0.028772  \n",
       "8     6.0         750    0.053286  0.028772  "
      ]
     },
     "execution_count": 26,
     "metadata": {},
     "output_type": "execute_result"
    }
   ],
   "source": [
    "df_train['Dest_enc'] = df_train['Dest'].apply(lambda x : enc_nom_2[x])\n",
    "df_train.head()"
   ]
  },
  {
   "cell_type": "code",
   "execution_count": 27,
   "metadata": {},
   "outputs": [
    {
     "data": {
      "text/plain": [
       "(4580345, 16)"
      ]
     },
     "execution_count": 27,
     "metadata": {},
     "output_type": "execute_result"
    }
   ],
   "source": [
    "df_train = df_train.drop('Origin',axis = 1)\n",
    "df_train = df_train.drop('Dest',axis = 1)\n",
    "df_train.shape"
   ]
  },
  {
   "cell_type": "code",
   "execution_count": 28,
   "metadata": {},
   "outputs": [
    {
     "data": {
      "text/html": [
       "<div>\n",
       "<style scoped>\n",
       "    .dataframe tbody tr th:only-of-type {\n",
       "        vertical-align: middle;\n",
       "    }\n",
       "\n",
       "    .dataframe tbody tr th {\n",
       "        vertical-align: top;\n",
       "    }\n",
       "\n",
       "    .dataframe thead th {\n",
       "        text-align: right;\n",
       "    }\n",
       "</style>\n",
       "<table border=\"1\" class=\"dataframe\">\n",
       "  <thead>\n",
       "    <tr style=\"text-align: right;\">\n",
       "      <th></th>\n",
       "      <th>FlightDate</th>\n",
       "      <th>CRSDepTime</th>\n",
       "      <th>DepTime</th>\n",
       "      <th>DepDelayMinutes</th>\n",
       "      <th>ArrTime</th>\n",
       "      <th>ArrDelayMinutes</th>\n",
       "      <th>Distance</th>\n",
       "      <th>Quarter</th>\n",
       "      <th>Month</th>\n",
       "      <th>DayofMonth</th>\n",
       "      <th>DayOfWeek</th>\n",
       "      <th>TaxiOut</th>\n",
       "      <th>TaxiIn</th>\n",
       "      <th>CRSArrTime</th>\n",
       "      <th>Origin_enc</th>\n",
       "      <th>Dest_enc</th>\n",
       "    </tr>\n",
       "  </thead>\n",
       "  <tbody>\n",
       "    <tr>\n",
       "      <th>1</th>\n",
       "      <td>2018-01-09</td>\n",
       "      <td>925</td>\n",
       "      <td>1029.0</td>\n",
       "      <td>64.0</td>\n",
       "      <td>1154.0</td>\n",
       "      <td>54.0</td>\n",
       "      <td>407.0</td>\n",
       "      <td>1</td>\n",
       "      <td>1</td>\n",
       "      <td>9</td>\n",
       "      <td>2</td>\n",
       "      <td>16.0</td>\n",
       "      <td>5.0</td>\n",
       "      <td>1100</td>\n",
       "      <td>0.053286</td>\n",
       "      <td>0.028772</td>\n",
       "    </tr>\n",
       "    <tr>\n",
       "      <th>2</th>\n",
       "      <td>2018-01-09</td>\n",
       "      <td>1820</td>\n",
       "      <td>1826.0</td>\n",
       "      <td>6.0</td>\n",
       "      <td>1949.0</td>\n",
       "      <td>0.0</td>\n",
       "      <td>407.0</td>\n",
       "      <td>1</td>\n",
       "      <td>1</td>\n",
       "      <td>9</td>\n",
       "      <td>2</td>\n",
       "      <td>12.0</td>\n",
       "      <td>4.0</td>\n",
       "      <td>1955</td>\n",
       "      <td>0.053286</td>\n",
       "      <td>0.028772</td>\n",
       "    </tr>\n",
       "    <tr>\n",
       "      <th>4</th>\n",
       "      <td>2018-01-09</td>\n",
       "      <td>2155</td>\n",
       "      <td>2317.0</td>\n",
       "      <td>82.0</td>\n",
       "      <td>41.0</td>\n",
       "      <td>76.0</td>\n",
       "      <td>407.0</td>\n",
       "      <td>1</td>\n",
       "      <td>1</td>\n",
       "      <td>9</td>\n",
       "      <td>2</td>\n",
       "      <td>8.0</td>\n",
       "      <td>5.0</td>\n",
       "      <td>2325</td>\n",
       "      <td>0.053286</td>\n",
       "      <td>0.028772</td>\n",
       "    </tr>\n",
       "    <tr>\n",
       "      <th>6</th>\n",
       "      <td>2018-01-09</td>\n",
       "      <td>1145</td>\n",
       "      <td>1436.0</td>\n",
       "      <td>171.0</td>\n",
       "      <td>1607.0</td>\n",
       "      <td>167.0</td>\n",
       "      <td>407.0</td>\n",
       "      <td>1</td>\n",
       "      <td>1</td>\n",
       "      <td>9</td>\n",
       "      <td>2</td>\n",
       "      <td>22.0</td>\n",
       "      <td>5.0</td>\n",
       "      <td>1320</td>\n",
       "      <td>0.053286</td>\n",
       "      <td>0.028772</td>\n",
       "    </tr>\n",
       "    <tr>\n",
       "      <th>8</th>\n",
       "      <td>2018-01-09</td>\n",
       "      <td>615</td>\n",
       "      <td>610.0</td>\n",
       "      <td>0.0</td>\n",
       "      <td>733.0</td>\n",
       "      <td>0.0</td>\n",
       "      <td>407.0</td>\n",
       "      <td>1</td>\n",
       "      <td>1</td>\n",
       "      <td>9</td>\n",
       "      <td>2</td>\n",
       "      <td>15.0</td>\n",
       "      <td>6.0</td>\n",
       "      <td>750</td>\n",
       "      <td>0.053286</td>\n",
       "      <td>0.028772</td>\n",
       "    </tr>\n",
       "  </tbody>\n",
       "</table>\n",
       "</div>"
      ],
      "text/plain": [
       "   FlightDate  CRSDepTime  DepTime  DepDelayMinutes  ArrTime  ArrDelayMinutes  \\\n",
       "1  2018-01-09         925   1029.0             64.0   1154.0             54.0   \n",
       "2  2018-01-09        1820   1826.0              6.0   1949.0              0.0   \n",
       "4  2018-01-09        2155   2317.0             82.0     41.0             76.0   \n",
       "6  2018-01-09        1145   1436.0            171.0   1607.0            167.0   \n",
       "8  2018-01-09         615    610.0              0.0    733.0              0.0   \n",
       "\n",
       "   Distance  Quarter  Month  DayofMonth  DayOfWeek  TaxiOut  TaxiIn  \\\n",
       "1     407.0        1      1           9          2     16.0     5.0   \n",
       "2     407.0        1      1           9          2     12.0     4.0   \n",
       "4     407.0        1      1           9          2      8.0     5.0   \n",
       "6     407.0        1      1           9          2     22.0     5.0   \n",
       "8     407.0        1      1           9          2     15.0     6.0   \n",
       "\n",
       "   CRSArrTime  Origin_enc  Dest_enc  \n",
       "1        1100    0.053286  0.028772  \n",
       "2        1955    0.053286  0.028772  \n",
       "4        2325    0.053286  0.028772  \n",
       "6        1320    0.053286  0.028772  \n",
       "8         750    0.053286  0.028772  "
      ]
     },
     "execution_count": 28,
     "metadata": {},
     "output_type": "execute_result"
    }
   ],
   "source": [
    "df_train.head()"
   ]
  },
  {
   "cell_type": "markdown",
   "metadata": {},
   "source": [
    "### Test Data"
   ]
  },
  {
   "cell_type": "markdown",
   "metadata": {},
   "source": [
    "#### Column Origin"
   ]
  },
  {
   "cell_type": "code",
   "execution_count": 29,
   "metadata": {},
   "outputs": [
    {
     "data": {
      "text/plain": [
       "Origin\n",
       "ABQ    0.006088\n",
       "ALB    0.002102\n",
       "AMA    0.001470\n",
       "ATL    0.024459\n",
       "AUS    0.026402\n",
       "         ...   \n",
       "SYR    0.000880\n",
       "TPA    0.017799\n",
       "TUL    0.003281\n",
       "TUS    0.002644\n",
       "VPS    0.001373\n",
       "Length: 107, dtype: float64"
      ]
     },
     "execution_count": 29,
     "metadata": {},
     "output_type": "execute_result"
    }
   ],
   "source": [
    "enc_nom_1 = (df_test.groupby('Origin').size()) / len(df_test)\n",
    "enc_nom_1"
   ]
  },
  {
   "cell_type": "code",
   "execution_count": 30,
   "metadata": {},
   "outputs": [
    {
     "data": {
      "text/html": [
       "<div>\n",
       "<style scoped>\n",
       "    .dataframe tbody tr th:only-of-type {\n",
       "        vertical-align: middle;\n",
       "    }\n",
       "\n",
       "    .dataframe tbody tr th {\n",
       "        vertical-align: top;\n",
       "    }\n",
       "\n",
       "    .dataframe thead th {\n",
       "        text-align: right;\n",
       "    }\n",
       "</style>\n",
       "<table border=\"1\" class=\"dataframe\">\n",
       "  <thead>\n",
       "    <tr style=\"text-align: right;\">\n",
       "      <th></th>\n",
       "      <th>Origin</th>\n",
       "      <th>Dest</th>\n",
       "      <th>CRSDepTime</th>\n",
       "      <th>DepTime</th>\n",
       "      <th>DepDelayMinutes</th>\n",
       "      <th>ArrTime</th>\n",
       "      <th>ArrDelayMinutes</th>\n",
       "      <th>Distance</th>\n",
       "      <th>Quarter</th>\n",
       "      <th>Month</th>\n",
       "      <th>DayofMonth</th>\n",
       "      <th>DayOfWeek</th>\n",
       "      <th>TaxiOut</th>\n",
       "      <th>TaxiIn</th>\n",
       "      <th>CRSArrTime</th>\n",
       "      <th>Origin_enc</th>\n",
       "    </tr>\n",
       "  </thead>\n",
       "  <tbody>\n",
       "    <tr>\n",
       "      <th>0</th>\n",
       "      <td>ABQ</td>\n",
       "      <td>AUS</td>\n",
       "      <td>1035</td>\n",
       "      <td>1037.0</td>\n",
       "      <td>2.0</td>\n",
       "      <td>1303.0</td>\n",
       "      <td>0.0</td>\n",
       "      <td>619.0</td>\n",
       "      <td>2</td>\n",
       "      <td>4</td>\n",
       "      <td>1</td>\n",
       "      <td>5</td>\n",
       "      <td>8.0</td>\n",
       "      <td>3.0</td>\n",
       "      <td>1315</td>\n",
       "      <td>0.006088</td>\n",
       "    </tr>\n",
       "    <tr>\n",
       "      <th>1</th>\n",
       "      <td>ABQ</td>\n",
       "      <td>BUR</td>\n",
       "      <td>1750</td>\n",
       "      <td>1823.0</td>\n",
       "      <td>33.0</td>\n",
       "      <td>1914.0</td>\n",
       "      <td>24.0</td>\n",
       "      <td>672.0</td>\n",
       "      <td>2</td>\n",
       "      <td>4</td>\n",
       "      <td>1</td>\n",
       "      <td>5</td>\n",
       "      <td>13.0</td>\n",
       "      <td>2.0</td>\n",
       "      <td>1850</td>\n",
       "      <td>0.006088</td>\n",
       "    </tr>\n",
       "    <tr>\n",
       "      <th>2</th>\n",
       "      <td>ABQ</td>\n",
       "      <td>DAL</td>\n",
       "      <td>645</td>\n",
       "      <td>648.0</td>\n",
       "      <td>3.0</td>\n",
       "      <td>922.0</td>\n",
       "      <td>0.0</td>\n",
       "      <td>580.0</td>\n",
       "      <td>2</td>\n",
       "      <td>4</td>\n",
       "      <td>1</td>\n",
       "      <td>5</td>\n",
       "      <td>13.0</td>\n",
       "      <td>2.0</td>\n",
       "      <td>930</td>\n",
       "      <td>0.006088</td>\n",
       "    </tr>\n",
       "    <tr>\n",
       "      <th>3</th>\n",
       "      <td>ABQ</td>\n",
       "      <td>DAL</td>\n",
       "      <td>1150</td>\n",
       "      <td>1146.0</td>\n",
       "      <td>0.0</td>\n",
       "      <td>1439.0</td>\n",
       "      <td>4.0</td>\n",
       "      <td>580.0</td>\n",
       "      <td>2</td>\n",
       "      <td>4</td>\n",
       "      <td>1</td>\n",
       "      <td>5</td>\n",
       "      <td>9.0</td>\n",
       "      <td>28.0</td>\n",
       "      <td>1435</td>\n",
       "      <td>0.006088</td>\n",
       "    </tr>\n",
       "    <tr>\n",
       "      <th>4</th>\n",
       "      <td>ABQ</td>\n",
       "      <td>DAL</td>\n",
       "      <td>1730</td>\n",
       "      <td>1757.0</td>\n",
       "      <td>27.0</td>\n",
       "      <td>2042.0</td>\n",
       "      <td>32.0</td>\n",
       "      <td>580.0</td>\n",
       "      <td>2</td>\n",
       "      <td>4</td>\n",
       "      <td>1</td>\n",
       "      <td>5</td>\n",
       "      <td>13.0</td>\n",
       "      <td>9.0</td>\n",
       "      <td>2010</td>\n",
       "      <td>0.006088</td>\n",
       "    </tr>\n",
       "  </tbody>\n",
       "</table>\n",
       "</div>"
      ],
      "text/plain": [
       "  Origin Dest  CRSDepTime  DepTime  DepDelayMinutes  ArrTime  ArrDelayMinutes  \\\n",
       "0    ABQ  AUS        1035   1037.0              2.0   1303.0              0.0   \n",
       "1    ABQ  BUR        1750   1823.0             33.0   1914.0             24.0   \n",
       "2    ABQ  DAL         645    648.0              3.0    922.0              0.0   \n",
       "3    ABQ  DAL        1150   1146.0              0.0   1439.0              4.0   \n",
       "4    ABQ  DAL        1730   1757.0             27.0   2042.0             32.0   \n",
       "\n",
       "   Distance  Quarter  Month  DayofMonth  DayOfWeek  TaxiOut  TaxiIn  \\\n",
       "0     619.0        2      4           1          5      8.0     3.0   \n",
       "1     672.0        2      4           1          5     13.0     2.0   \n",
       "2     580.0        2      4           1          5     13.0     2.0   \n",
       "3     580.0        2      4           1          5      9.0    28.0   \n",
       "4     580.0        2      4           1          5     13.0     9.0   \n",
       "\n",
       "   CRSArrTime  Origin_enc  \n",
       "0        1315    0.006088  \n",
       "1        1850    0.006088  \n",
       "2         930    0.006088  \n",
       "3        1435    0.006088  \n",
       "4        2010    0.006088  "
      ]
     },
     "execution_count": 30,
     "metadata": {},
     "output_type": "execute_result"
    }
   ],
   "source": [
    "df_test['Origin_enc'] = df_test['Origin'].apply(lambda x : enc_nom_1[x])\n",
    "df_test.head()"
   ]
  },
  {
   "cell_type": "markdown",
   "metadata": {},
   "source": [
    "#### Column Destination"
   ]
  },
  {
   "cell_type": "code",
   "execution_count": 31,
   "metadata": {},
   "outputs": [
    {
     "data": {
      "text/plain": [
       "Dest\n",
       "ABQ    0.006102\n",
       "ALB    0.002120\n",
       "AMA    0.001478\n",
       "ATL    0.024404\n",
       "AUS    0.026439\n",
       "         ...   \n",
       "SYR    0.000889\n",
       "TPA    0.017742\n",
       "TUL    0.003302\n",
       "TUS    0.002644\n",
       "VPS    0.001375\n",
       "Length: 107, dtype: float64"
      ]
     },
     "execution_count": 31,
     "metadata": {},
     "output_type": "execute_result"
    }
   ],
   "source": [
    "enc_nom_2 = (df_test.groupby('Dest').size()) / len(df_test)\n",
    "enc_nom_2"
   ]
  },
  {
   "cell_type": "code",
   "execution_count": 32,
   "metadata": {},
   "outputs": [
    {
     "data": {
      "text/html": [
       "<div>\n",
       "<style scoped>\n",
       "    .dataframe tbody tr th:only-of-type {\n",
       "        vertical-align: middle;\n",
       "    }\n",
       "\n",
       "    .dataframe tbody tr th {\n",
       "        vertical-align: top;\n",
       "    }\n",
       "\n",
       "    .dataframe thead th {\n",
       "        text-align: right;\n",
       "    }\n",
       "</style>\n",
       "<table border=\"1\" class=\"dataframe\">\n",
       "  <thead>\n",
       "    <tr style=\"text-align: right;\">\n",
       "      <th></th>\n",
       "      <th>Origin</th>\n",
       "      <th>Dest</th>\n",
       "      <th>CRSDepTime</th>\n",
       "      <th>DepTime</th>\n",
       "      <th>DepDelayMinutes</th>\n",
       "      <th>ArrTime</th>\n",
       "      <th>ArrDelayMinutes</th>\n",
       "      <th>Distance</th>\n",
       "      <th>Quarter</th>\n",
       "      <th>Month</th>\n",
       "      <th>DayofMonth</th>\n",
       "      <th>DayOfWeek</th>\n",
       "      <th>TaxiOut</th>\n",
       "      <th>TaxiIn</th>\n",
       "      <th>CRSArrTime</th>\n",
       "      <th>Origin_enc</th>\n",
       "      <th>Dest_enc</th>\n",
       "    </tr>\n",
       "  </thead>\n",
       "  <tbody>\n",
       "    <tr>\n",
       "      <th>0</th>\n",
       "      <td>ABQ</td>\n",
       "      <td>AUS</td>\n",
       "      <td>1035</td>\n",
       "      <td>1037.0</td>\n",
       "      <td>2.0</td>\n",
       "      <td>1303.0</td>\n",
       "      <td>0.0</td>\n",
       "      <td>619.0</td>\n",
       "      <td>2</td>\n",
       "      <td>4</td>\n",
       "      <td>1</td>\n",
       "      <td>5</td>\n",
       "      <td>8.0</td>\n",
       "      <td>3.0</td>\n",
       "      <td>1315</td>\n",
       "      <td>0.006088</td>\n",
       "      <td>0.026439</td>\n",
       "    </tr>\n",
       "    <tr>\n",
       "      <th>1</th>\n",
       "      <td>ABQ</td>\n",
       "      <td>BUR</td>\n",
       "      <td>1750</td>\n",
       "      <td>1823.0</td>\n",
       "      <td>33.0</td>\n",
       "      <td>1914.0</td>\n",
       "      <td>24.0</td>\n",
       "      <td>672.0</td>\n",
       "      <td>2</td>\n",
       "      <td>4</td>\n",
       "      <td>1</td>\n",
       "      <td>5</td>\n",
       "      <td>13.0</td>\n",
       "      <td>2.0</td>\n",
       "      <td>1850</td>\n",
       "      <td>0.006088</td>\n",
       "      <td>0.018412</td>\n",
       "    </tr>\n",
       "    <tr>\n",
       "      <th>2</th>\n",
       "      <td>ABQ</td>\n",
       "      <td>DAL</td>\n",
       "      <td>645</td>\n",
       "      <td>648.0</td>\n",
       "      <td>3.0</td>\n",
       "      <td>922.0</td>\n",
       "      <td>0.0</td>\n",
       "      <td>580.0</td>\n",
       "      <td>2</td>\n",
       "      <td>4</td>\n",
       "      <td>1</td>\n",
       "      <td>5</td>\n",
       "      <td>13.0</td>\n",
       "      <td>2.0</td>\n",
       "      <td>930</td>\n",
       "      <td>0.006088</td>\n",
       "      <td>0.048426</td>\n",
       "    </tr>\n",
       "    <tr>\n",
       "      <th>3</th>\n",
       "      <td>ABQ</td>\n",
       "      <td>DAL</td>\n",
       "      <td>1150</td>\n",
       "      <td>1146.0</td>\n",
       "      <td>0.0</td>\n",
       "      <td>1439.0</td>\n",
       "      <td>4.0</td>\n",
       "      <td>580.0</td>\n",
       "      <td>2</td>\n",
       "      <td>4</td>\n",
       "      <td>1</td>\n",
       "      <td>5</td>\n",
       "      <td>9.0</td>\n",
       "      <td>28.0</td>\n",
       "      <td>1435</td>\n",
       "      <td>0.006088</td>\n",
       "      <td>0.048426</td>\n",
       "    </tr>\n",
       "    <tr>\n",
       "      <th>4</th>\n",
       "      <td>ABQ</td>\n",
       "      <td>DAL</td>\n",
       "      <td>1730</td>\n",
       "      <td>1757.0</td>\n",
       "      <td>27.0</td>\n",
       "      <td>2042.0</td>\n",
       "      <td>32.0</td>\n",
       "      <td>580.0</td>\n",
       "      <td>2</td>\n",
       "      <td>4</td>\n",
       "      <td>1</td>\n",
       "      <td>5</td>\n",
       "      <td>13.0</td>\n",
       "      <td>9.0</td>\n",
       "      <td>2010</td>\n",
       "      <td>0.006088</td>\n",
       "      <td>0.048426</td>\n",
       "    </tr>\n",
       "  </tbody>\n",
       "</table>\n",
       "</div>"
      ],
      "text/plain": [
       "  Origin Dest  CRSDepTime  DepTime  DepDelayMinutes  ArrTime  ArrDelayMinutes  \\\n",
       "0    ABQ  AUS        1035   1037.0              2.0   1303.0              0.0   \n",
       "1    ABQ  BUR        1750   1823.0             33.0   1914.0             24.0   \n",
       "2    ABQ  DAL         645    648.0              3.0    922.0              0.0   \n",
       "3    ABQ  DAL        1150   1146.0              0.0   1439.0              4.0   \n",
       "4    ABQ  DAL        1730   1757.0             27.0   2042.0             32.0   \n",
       "\n",
       "   Distance  Quarter  Month  DayofMonth  DayOfWeek  TaxiOut  TaxiIn  \\\n",
       "0     619.0        2      4           1          5      8.0     3.0   \n",
       "1     672.0        2      4           1          5     13.0     2.0   \n",
       "2     580.0        2      4           1          5     13.0     2.0   \n",
       "3     580.0        2      4           1          5      9.0    28.0   \n",
       "4     580.0        2      4           1          5     13.0     9.0   \n",
       "\n",
       "   CRSArrTime  Origin_enc  Dest_enc  \n",
       "0        1315    0.006088  0.026439  \n",
       "1        1850    0.006088  0.018412  \n",
       "2         930    0.006088  0.048426  \n",
       "3        1435    0.006088  0.048426  \n",
       "4        2010    0.006088  0.048426  "
      ]
     },
     "execution_count": 32,
     "metadata": {},
     "output_type": "execute_result"
    }
   ],
   "source": [
    "df_test['Dest_enc'] = df_test['Dest'].apply(lambda x : enc_nom_2[x])\n",
    "df_test.head()"
   ]
  },
  {
   "cell_type": "code",
   "execution_count": 33,
   "metadata": {},
   "outputs": [
    {
     "data": {
      "text/plain": [
       "(712246, 15)"
      ]
     },
     "execution_count": 33,
     "metadata": {},
     "output_type": "execute_result"
    }
   ],
   "source": [
    "df_test = df_test.drop('Origin',axis = 1)\n",
    "df_test = df_test.drop('Dest',axis = 1)\n",
    "df_test.shape"
   ]
  },
  {
   "cell_type": "markdown",
   "metadata": {},
   "source": [
    "## Correlation matrix"
   ]
  },
  {
   "cell_type": "code",
   "execution_count": 34,
   "metadata": {},
   "outputs": [
    {
     "data": {
      "application/vnd.plotly.v1+json": {
       "config": {
        "plotlyServerURL": "https://plot.ly"
       },
       "data": [
        {
         "coloraxis": "coloraxis",
         "hovertemplate": "x: %{x}<br>y: %{y}<br>Correlation: %{z}<extra></extra>",
         "name": "0",
         "type": "heatmap",
         "x": [
          "CRSDepTime",
          "DepTime",
          "DepDelayMinutes",
          "ArrTime",
          "ArrDelayMinutes",
          "Distance",
          "Quarter",
          "Month",
          "DayofMonth",
          "DayOfWeek",
          "TaxiOut",
          "TaxiIn",
          "CRSArrTime",
          "Origin_enc",
          "Dest_enc"
         ],
         "xaxis": "x",
         "y": [
          "CRSDepTime",
          "DepTime",
          "DepDelayMinutes",
          "ArrTime",
          "ArrDelayMinutes",
          "Distance",
          "Quarter",
          "Month",
          "DayofMonth",
          "DayOfWeek",
          "TaxiOut",
          "TaxiIn",
          "CRSArrTime",
          "Origin_enc",
          "Dest_enc"
         ],
         "yaxis": "y",
         "z": [
          [
           1,
           0.9801448408898956,
           0.19508640166960703,
           0.6695202136497113,
           0.16810978460903303,
           -0.07501692234621489,
           -0.005656388972706538,
           -0.004890481994958572,
           0.0006652194201932403,
           0.002427993557388974,
           -0.05334565402275063,
           -0.008974891624641289,
           0.733964831178067,
           0.10546459000728943,
           -0.09743503943585177
          ],
          [
           0.9801448408898956,
           1,
           0.24406546606714355,
           0.6777715009089865,
           0.21444204727641883,
           -0.06690854639562245,
           -0.004243039632807167,
           -0.0033637607446090328,
           0.0008712806250475243,
           0.003695329895920662,
           -0.044518273919295345,
           -0.0054507976998262545,
           0.7308196847590499,
           0.10548072211081944,
           -0.09566412567958482
          ],
          [
           0.19508640166960703,
           0.24406546606714355,
           1,
           0.06467437980560574,
           0.9603482484852428,
           0.025412449481876244,
           0.017780968509082402,
           0.019809572755832443,
           0.009369500502026618,
           0.009058138695082962,
           0.060502191121310285,
           0.022297339373969265,
           0.14789938589309784,
           0.05450594939797742,
           -0.032967588990172415
          ],
          [
           0.6695202136497113,
           0.6777715009089865,
           0.06467437980560574,
           1,
           0.05108190895844109,
           0.045156012465658354,
           -0.00461583869429745,
           -0.005124915787341447,
           -0.0037068034242228516,
           0.006791356302109749,
           -0.022063101464237202,
           0.02274844608187191,
           0.8658411886609477,
           0.054180157856770966,
           -0.05082420974922346
          ],
          [
           0.16810978460903303,
           0.21444204727641883,
           0.9603482484852428,
           0.05108190895844109,
           1,
           0.01855213327203446,
           0.013659812676617922,
           0.015386381522623192,
           0.00874892830954065,
           0.005708705856635607,
           0.18532283564276442,
           0.10623800060846773,
           0.12984351295920796,
           0.037845073481806255,
           -0.022461737152943296
          ],
          [
           -0.07501692234621489,
           -0.06690854639562245,
           0.025412449481876244,
           0.045156012465658354,
           0.01855213327203446,
           1,
           0.008521805889804316,
           0.009537964348475501,
           0.0018795228170605852,
           0.0193460080106946,
           0.05008010784472752,
           0.07181677336538043,
           0.051870662861280774,
           0.09915150372937487,
           0.09902206484747321
          ],
          [
           -0.005656388972706538,
           -0.004243039632807167,
           0.017780968509082402,
           -0.00461583869429745,
           0.013659812676617922,
           0.008521805889804316,
           1,
           0.9710282925049374,
           0.019776106462908977,
           0.003921944437377451,
           -0.012556109035953023,
           0.023143783584141438,
           -0.001381433790577991,
           0.004922615475110658,
           0.005058750598316247
          ],
          [
           -0.004890481994958572,
           -0.0033637607446090328,
           0.019809572755832443,
           -0.005124915787341447,
           0.015386381522623192,
           0.009537964348475501,
           0.9710282925049374,
           1,
           0.020751206424779785,
           0.0074008518995725475,
           -0.012510873157437704,
           0.024017557908482975,
           -0.0017856857486100723,
           0.00440923980805316,
           0.004572047703394047
          ],
          [
           0.0006652194201932403,
           0.0008712806250475243,
           0.009369500502026618,
           -0.0037068034242228516,
           0.00874892830954065,
           0.0018795228170605852,
           0.019776106462908977,
           0.020751206424779785,
           1,
           0.003520836875753223,
           -0.0010714141862921843,
           0.0031061558220961817,
           -0.001931415374334412,
           -0.0013229958817154268,
           -0.0013215864189629614
          ],
          [
           0.002427993557388974,
           0.003695329895920662,
           0.009058138695082962,
           0.006791356302109749,
           0.005708705856635607,
           0.0193460080106946,
           0.003921944437377451,
           0.0074008518995725475,
           0.003520836875753223,
           1,
           -0.009594727171299142,
           0.0031064171707763026,
           0.0069738904947517924,
           -0.002493315082985694,
           -0.002580717328196511
          ],
          [
           -0.05334565402275063,
           -0.044518273919295345,
           0.060502191121310285,
           -0.022063101464237202,
           0.18532283564276442,
           0.05008010784472752,
           -0.012556109035953023,
           -0.012510873157437704,
           -0.0010714141862921843,
           -0.009594727171299142,
           1,
           0.009868819909387518,
           -0.02943184053072498,
           0.025310912127706035,
           -0.009586474868573962
          ],
          [
           -0.008974891624641289,
           -0.0054507976998262545,
           0.022297339373969265,
           0.02274844608187191,
           0.10623800060846773,
           0.07181677336538043,
           0.023143783584141438,
           0.024017557908482975,
           0.0031061558220961817,
           0.0031064171707763026,
           0.009868819909387518,
           1,
           0.0165554356923483,
           -0.046540724224321144,
           0.10896024677012203
          ],
          [
           0.733964831178067,
           0.7308196847590499,
           0.14789938589309784,
           0.8658411886609477,
           0.12984351295920796,
           0.051870662861280774,
           -0.001381433790577991,
           -0.0017856857486100723,
           -0.001931415374334412,
           0.0069738904947517924,
           -0.02943184053072498,
           0.0165554356923483,
           1,
           0.07215457791774757,
           -0.06424097060161625
          ],
          [
           0.10546459000728943,
           0.10548072211081944,
           0.05450594939797742,
           0.054180157856770966,
           0.037845073481806255,
           0.09915150372937487,
           0.004922615475110658,
           0.00440923980805316,
           -0.0013229958817154268,
           -0.002493315082985694,
           0.025310912127706035,
           -0.046540724224321144,
           0.07215457791774757,
           1,
           -0.36584364757415755
          ],
          [
           -0.09743503943585177,
           -0.09566412567958482,
           -0.032967588990172415,
           -0.05082420974922346,
           -0.022461737152943296,
           0.09902206484747321,
           0.005058750598316247,
           0.004572047703394047,
           -0.0013215864189629614,
           -0.002580717328196511,
           -0.009586474868573962,
           0.10896024677012203,
           -0.06424097060161625,
           -0.36584364757415755,
           1
          ]
         ]
        }
       ],
       "layout": {
        "coloraxis": {
         "colorbar": {
          "title": {
           "text": "Correlation"
          }
         },
         "colorscale": [
          [
           0,
           "#440154"
          ],
          [
           0.1111111111111111,
           "#482878"
          ],
          [
           0.2222222222222222,
           "#3e4989"
          ],
          [
           0.3333333333333333,
           "#31688e"
          ],
          [
           0.4444444444444444,
           "#26828e"
          ],
          [
           0.5555555555555556,
           "#1f9e89"
          ],
          [
           0.6666666666666666,
           "#35b779"
          ],
          [
           0.7777777777777778,
           "#6ece58"
          ],
          [
           0.8888888888888888,
           "#b5de2b"
          ],
          [
           1,
           "#fde725"
          ]
         ]
        },
        "height": 800,
        "template": {
         "data": {
          "bar": [
           {
            "error_x": {
             "color": "#2a3f5f"
            },
            "error_y": {
             "color": "#2a3f5f"
            },
            "marker": {
             "line": {
              "color": "#E5ECF6",
              "width": 0.5
             },
             "pattern": {
              "fillmode": "overlay",
              "size": 10,
              "solidity": 0.2
             }
            },
            "type": "bar"
           }
          ],
          "barpolar": [
           {
            "marker": {
             "line": {
              "color": "#E5ECF6",
              "width": 0.5
             },
             "pattern": {
              "fillmode": "overlay",
              "size": 10,
              "solidity": 0.2
             }
            },
            "type": "barpolar"
           }
          ],
          "carpet": [
           {
            "aaxis": {
             "endlinecolor": "#2a3f5f",
             "gridcolor": "white",
             "linecolor": "white",
             "minorgridcolor": "white",
             "startlinecolor": "#2a3f5f"
            },
            "baxis": {
             "endlinecolor": "#2a3f5f",
             "gridcolor": "white",
             "linecolor": "white",
             "minorgridcolor": "white",
             "startlinecolor": "#2a3f5f"
            },
            "type": "carpet"
           }
          ],
          "choropleth": [
           {
            "colorbar": {
             "outlinewidth": 0,
             "ticks": ""
            },
            "type": "choropleth"
           }
          ],
          "contour": [
           {
            "colorbar": {
             "outlinewidth": 0,
             "ticks": ""
            },
            "colorscale": [
             [
              0,
              "#0d0887"
             ],
             [
              0.1111111111111111,
              "#46039f"
             ],
             [
              0.2222222222222222,
              "#7201a8"
             ],
             [
              0.3333333333333333,
              "#9c179e"
             ],
             [
              0.4444444444444444,
              "#bd3786"
             ],
             [
              0.5555555555555556,
              "#d8576b"
             ],
             [
              0.6666666666666666,
              "#ed7953"
             ],
             [
              0.7777777777777778,
              "#fb9f3a"
             ],
             [
              0.8888888888888888,
              "#fdca26"
             ],
             [
              1,
              "#f0f921"
             ]
            ],
            "type": "contour"
           }
          ],
          "contourcarpet": [
           {
            "colorbar": {
             "outlinewidth": 0,
             "ticks": ""
            },
            "type": "contourcarpet"
           }
          ],
          "heatmap": [
           {
            "colorbar": {
             "outlinewidth": 0,
             "ticks": ""
            },
            "colorscale": [
             [
              0,
              "#0d0887"
             ],
             [
              0.1111111111111111,
              "#46039f"
             ],
             [
              0.2222222222222222,
              "#7201a8"
             ],
             [
              0.3333333333333333,
              "#9c179e"
             ],
             [
              0.4444444444444444,
              "#bd3786"
             ],
             [
              0.5555555555555556,
              "#d8576b"
             ],
             [
              0.6666666666666666,
              "#ed7953"
             ],
             [
              0.7777777777777778,
              "#fb9f3a"
             ],
             [
              0.8888888888888888,
              "#fdca26"
             ],
             [
              1,
              "#f0f921"
             ]
            ],
            "type": "heatmap"
           }
          ],
          "heatmapgl": [
           {
            "colorbar": {
             "outlinewidth": 0,
             "ticks": ""
            },
            "colorscale": [
             [
              0,
              "#0d0887"
             ],
             [
              0.1111111111111111,
              "#46039f"
             ],
             [
              0.2222222222222222,
              "#7201a8"
             ],
             [
              0.3333333333333333,
              "#9c179e"
             ],
             [
              0.4444444444444444,
              "#bd3786"
             ],
             [
              0.5555555555555556,
              "#d8576b"
             ],
             [
              0.6666666666666666,
              "#ed7953"
             ],
             [
              0.7777777777777778,
              "#fb9f3a"
             ],
             [
              0.8888888888888888,
              "#fdca26"
             ],
             [
              1,
              "#f0f921"
             ]
            ],
            "type": "heatmapgl"
           }
          ],
          "histogram": [
           {
            "marker": {
             "pattern": {
              "fillmode": "overlay",
              "size": 10,
              "solidity": 0.2
             }
            },
            "type": "histogram"
           }
          ],
          "histogram2d": [
           {
            "colorbar": {
             "outlinewidth": 0,
             "ticks": ""
            },
            "colorscale": [
             [
              0,
              "#0d0887"
             ],
             [
              0.1111111111111111,
              "#46039f"
             ],
             [
              0.2222222222222222,
              "#7201a8"
             ],
             [
              0.3333333333333333,
              "#9c179e"
             ],
             [
              0.4444444444444444,
              "#bd3786"
             ],
             [
              0.5555555555555556,
              "#d8576b"
             ],
             [
              0.6666666666666666,
              "#ed7953"
             ],
             [
              0.7777777777777778,
              "#fb9f3a"
             ],
             [
              0.8888888888888888,
              "#fdca26"
             ],
             [
              1,
              "#f0f921"
             ]
            ],
            "type": "histogram2d"
           }
          ],
          "histogram2dcontour": [
           {
            "colorbar": {
             "outlinewidth": 0,
             "ticks": ""
            },
            "colorscale": [
             [
              0,
              "#0d0887"
             ],
             [
              0.1111111111111111,
              "#46039f"
             ],
             [
              0.2222222222222222,
              "#7201a8"
             ],
             [
              0.3333333333333333,
              "#9c179e"
             ],
             [
              0.4444444444444444,
              "#bd3786"
             ],
             [
              0.5555555555555556,
              "#d8576b"
             ],
             [
              0.6666666666666666,
              "#ed7953"
             ],
             [
              0.7777777777777778,
              "#fb9f3a"
             ],
             [
              0.8888888888888888,
              "#fdca26"
             ],
             [
              1,
              "#f0f921"
             ]
            ],
            "type": "histogram2dcontour"
           }
          ],
          "mesh3d": [
           {
            "colorbar": {
             "outlinewidth": 0,
             "ticks": ""
            },
            "type": "mesh3d"
           }
          ],
          "parcoords": [
           {
            "line": {
             "colorbar": {
              "outlinewidth": 0,
              "ticks": ""
             }
            },
            "type": "parcoords"
           }
          ],
          "pie": [
           {
            "automargin": true,
            "type": "pie"
           }
          ],
          "scatter": [
           {
            "fillpattern": {
             "fillmode": "overlay",
             "size": 10,
             "solidity": 0.2
            },
            "type": "scatter"
           }
          ],
          "scatter3d": [
           {
            "line": {
             "colorbar": {
              "outlinewidth": 0,
              "ticks": ""
             }
            },
            "marker": {
             "colorbar": {
              "outlinewidth": 0,
              "ticks": ""
             }
            },
            "type": "scatter3d"
           }
          ],
          "scattercarpet": [
           {
            "marker": {
             "colorbar": {
              "outlinewidth": 0,
              "ticks": ""
             }
            },
            "type": "scattercarpet"
           }
          ],
          "scattergeo": [
           {
            "marker": {
             "colorbar": {
              "outlinewidth": 0,
              "ticks": ""
             }
            },
            "type": "scattergeo"
           }
          ],
          "scattergl": [
           {
            "marker": {
             "colorbar": {
              "outlinewidth": 0,
              "ticks": ""
             }
            },
            "type": "scattergl"
           }
          ],
          "scattermapbox": [
           {
            "marker": {
             "colorbar": {
              "outlinewidth": 0,
              "ticks": ""
             }
            },
            "type": "scattermapbox"
           }
          ],
          "scatterpolar": [
           {
            "marker": {
             "colorbar": {
              "outlinewidth": 0,
              "ticks": ""
             }
            },
            "type": "scatterpolar"
           }
          ],
          "scatterpolargl": [
           {
            "marker": {
             "colorbar": {
              "outlinewidth": 0,
              "ticks": ""
             }
            },
            "type": "scatterpolargl"
           }
          ],
          "scatterternary": [
           {
            "marker": {
             "colorbar": {
              "outlinewidth": 0,
              "ticks": ""
             }
            },
            "type": "scatterternary"
           }
          ],
          "surface": [
           {
            "colorbar": {
             "outlinewidth": 0,
             "ticks": ""
            },
            "colorscale": [
             [
              0,
              "#0d0887"
             ],
             [
              0.1111111111111111,
              "#46039f"
             ],
             [
              0.2222222222222222,
              "#7201a8"
             ],
             [
              0.3333333333333333,
              "#9c179e"
             ],
             [
              0.4444444444444444,
              "#bd3786"
             ],
             [
              0.5555555555555556,
              "#d8576b"
             ],
             [
              0.6666666666666666,
              "#ed7953"
             ],
             [
              0.7777777777777778,
              "#fb9f3a"
             ],
             [
              0.8888888888888888,
              "#fdca26"
             ],
             [
              1,
              "#f0f921"
             ]
            ],
            "type": "surface"
           }
          ],
          "table": [
           {
            "cells": {
             "fill": {
              "color": "#EBF0F8"
             },
             "line": {
              "color": "white"
             }
            },
            "header": {
             "fill": {
              "color": "#C8D4E3"
             },
             "line": {
              "color": "white"
             }
            },
            "type": "table"
           }
          ]
         },
         "layout": {
          "annotationdefaults": {
           "arrowcolor": "#2a3f5f",
           "arrowhead": 0,
           "arrowwidth": 1
          },
          "autotypenumbers": "strict",
          "coloraxis": {
           "colorbar": {
            "outlinewidth": 0,
            "ticks": ""
           }
          },
          "colorscale": {
           "diverging": [
            [
             0,
             "#8e0152"
            ],
            [
             0.1,
             "#c51b7d"
            ],
            [
             0.2,
             "#de77ae"
            ],
            [
             0.3,
             "#f1b6da"
            ],
            [
             0.4,
             "#fde0ef"
            ],
            [
             0.5,
             "#f7f7f7"
            ],
            [
             0.6,
             "#e6f5d0"
            ],
            [
             0.7,
             "#b8e186"
            ],
            [
             0.8,
             "#7fbc41"
            ],
            [
             0.9,
             "#4d9221"
            ],
            [
             1,
             "#276419"
            ]
           ],
           "sequential": [
            [
             0,
             "#0d0887"
            ],
            [
             0.1111111111111111,
             "#46039f"
            ],
            [
             0.2222222222222222,
             "#7201a8"
            ],
            [
             0.3333333333333333,
             "#9c179e"
            ],
            [
             0.4444444444444444,
             "#bd3786"
            ],
            [
             0.5555555555555556,
             "#d8576b"
            ],
            [
             0.6666666666666666,
             "#ed7953"
            ],
            [
             0.7777777777777778,
             "#fb9f3a"
            ],
            [
             0.8888888888888888,
             "#fdca26"
            ],
            [
             1,
             "#f0f921"
            ]
           ],
           "sequentialminus": [
            [
             0,
             "#0d0887"
            ],
            [
             0.1111111111111111,
             "#46039f"
            ],
            [
             0.2222222222222222,
             "#7201a8"
            ],
            [
             0.3333333333333333,
             "#9c179e"
            ],
            [
             0.4444444444444444,
             "#bd3786"
            ],
            [
             0.5555555555555556,
             "#d8576b"
            ],
            [
             0.6666666666666666,
             "#ed7953"
            ],
            [
             0.7777777777777778,
             "#fb9f3a"
            ],
            [
             0.8888888888888888,
             "#fdca26"
            ],
            [
             1,
             "#f0f921"
            ]
           ]
          },
          "colorway": [
           "#636efa",
           "#EF553B",
           "#00cc96",
           "#ab63fa",
           "#FFA15A",
           "#19d3f3",
           "#FF6692",
           "#B6E880",
           "#FF97FF",
           "#FECB52"
          ],
          "font": {
           "color": "#2a3f5f"
          },
          "geo": {
           "bgcolor": "white",
           "lakecolor": "white",
           "landcolor": "#E5ECF6",
           "showlakes": true,
           "showland": true,
           "subunitcolor": "white"
          },
          "hoverlabel": {
           "align": "left"
          },
          "hovermode": "closest",
          "mapbox": {
           "style": "light"
          },
          "paper_bgcolor": "white",
          "plot_bgcolor": "#E5ECF6",
          "polar": {
           "angularaxis": {
            "gridcolor": "white",
            "linecolor": "white",
            "ticks": ""
           },
           "bgcolor": "#E5ECF6",
           "radialaxis": {
            "gridcolor": "white",
            "linecolor": "white",
            "ticks": ""
           }
          },
          "scene": {
           "xaxis": {
            "backgroundcolor": "#E5ECF6",
            "gridcolor": "white",
            "gridwidth": 2,
            "linecolor": "white",
            "showbackground": true,
            "ticks": "",
            "zerolinecolor": "white"
           },
           "yaxis": {
            "backgroundcolor": "#E5ECF6",
            "gridcolor": "white",
            "gridwidth": 2,
            "linecolor": "white",
            "showbackground": true,
            "ticks": "",
            "zerolinecolor": "white"
           },
           "zaxis": {
            "backgroundcolor": "#E5ECF6",
            "gridcolor": "white",
            "gridwidth": 2,
            "linecolor": "white",
            "showbackground": true,
            "ticks": "",
            "zerolinecolor": "white"
           }
          },
          "shapedefaults": {
           "line": {
            "color": "#2a3f5f"
           }
          },
          "ternary": {
           "aaxis": {
            "gridcolor": "white",
            "linecolor": "white",
            "ticks": ""
           },
           "baxis": {
            "gridcolor": "white",
            "linecolor": "white",
            "ticks": ""
           },
           "bgcolor": "#E5ECF6",
           "caxis": {
            "gridcolor": "white",
            "linecolor": "white",
            "ticks": ""
           }
          },
          "title": {
           "x": 0.05
          },
          "xaxis": {
           "automargin": true,
           "gridcolor": "white",
           "linecolor": "white",
           "ticks": "",
           "title": {
            "standoff": 15
           },
           "zerolinecolor": "white",
           "zerolinewidth": 2
          },
          "yaxis": {
           "automargin": true,
           "gridcolor": "white",
           "linecolor": "white",
           "ticks": "",
           "title": {
            "standoff": 15
           },
           "zerolinecolor": "white",
           "zerolinewidth": 2
          }
         }
        },
        "title": {
         "text": "Correlation Matrix"
        },
        "width": 800,
        "xaxis": {
         "anchor": "y",
         "constrain": "domain",
         "domain": [
          0,
          1
         ],
         "scaleanchor": "y"
        },
        "yaxis": {
         "anchor": "x",
         "autorange": "reversed",
         "constrain": "domain",
         "domain": [
          0,
          1
         ]
        }
       }
      }
     },
     "metadata": {},
     "output_type": "display_data"
    }
   ],
   "source": [
    "import plotly.express as px\n",
    "df_corr=df_train.drop('FlightDate',axis=1)\n",
    "corrmat = df_corr.corr() \n",
    "fig = px.imshow(corrmat,\n",
    "                labels = dict(color='Correlation'),\n",
    "                x=corrmat.columns,\n",
    "                y=corrmat.index,\n",
    "                color_continuous_scale='Viridis',\n",
    "                title='Correlation Matrix')\n",
    "fig.update_layout(width=800, height=800)\n",
    "fig.show()"
   ]
  },
  {
   "cell_type": "markdown",
   "metadata": {},
   "source": [
    "## Model Building - Random Forest"
   ]
  },
  {
   "cell_type": "code",
   "execution_count": 35,
   "metadata": {},
   "outputs": [],
   "source": [
    "import xgboost as xg"
   ]
  },
  {
   "cell_type": "markdown",
   "metadata": {},
   "source": [
    "### Using Random Forest Feature Selection"
   ]
  },
  {
   "cell_type": "code",
   "execution_count": 42,
   "metadata": {},
   "outputs": [],
   "source": [
    "X = df_train[['DepDelayMinutes', 'TaxiOut', 'TaxiIn', 'ArrTime', 'Distance']]\n",
    "y = df_train[['ArrDelayMinutes']]"
   ]
  },
  {
   "cell_type": "code",
   "execution_count": 43,
   "metadata": {},
   "outputs": [],
   "source": [
    "X_test = df_test[['DepDelayMinutes', 'TaxiOut', 'TaxiIn', 'ArrTime', 'Distance']]\n",
    "y_test = df_test[['ArrDelayMinutes']]"
   ]
  },
  {
   "cell_type": "code",
   "execution_count": 39,
   "metadata": {},
   "outputs": [],
   "source": [
    "param_grid = {\n",
    "    'n_estimators': [10, 20, 30],  \n",
    "    'max_depth': [None, 5, 10, 15], \n",
    "    'min_samples_split': [2, 4, 8],  \n",
    "    \"bootstrap\": [True, False]\n",
    "}"
   ]
  },
  {
   "cell_type": "code",
   "execution_count": 44,
   "metadata": {},
   "outputs": [],
   "source": [
    "from sklearn.ensemble import RandomForestRegressor\n",
    "\n",
    "rf = RandomForestRegressor(random_state=42)"
   ]
  },
  {
   "cell_type": "code",
   "execution_count": null,
   "metadata": {},
   "outputs": [],
   "source": [
    "from sklearn.model_selection import GridSearchCV\n",
    "\n",
    "grid_search = GridSearchCV(estimator=rf, param_grid=param_grid, cv=5, scoring='r2', n_jobs=-1)\n",
    "grid_search.fit(X, y)"
   ]
  },
  {
   "cell_type": "code",
   "execution_count": 49,
   "metadata": {},
   "outputs": [
    {
     "name": "stderr",
     "output_type": "stream",
     "text": [
      "/Users/bristi/miniforge3/lib/python3.9/site-packages/sklearn/base.py:1152: DataConversionWarning:\n",
      "\n",
      "A column-vector y was passed when a 1d array was expected. Please change the shape of y to (n_samples,), for example using ravel().\n",
      "\n"
     ]
    },
    {
     "name": "stdout",
     "output_type": "stream",
     "text": [
      "TRAINING\n",
      "Mean Absolute Error (MAE): 2.437427916615103\n",
      "Mean Squared Error on Test Set: 23.51149086071518\n",
      "R2 Score: 0.9676287170865199\n",
      "TESTING\n",
      "Mean Absolute Error (MAE): 3.089130956842458\n",
      "Mean Squared Error on Test Set: 31.570125901017423\n",
      "R2 Score: 0.9676275405448418\n"
     ]
    }
   ],
   "source": [
    "from sklearn.metrics import mean_absolute_error, mean_squared_error, r2_score\n",
    "\n",
    "parameters = {'bootstrap': True, 'max_depth': 15, 'min_samples_split': 8, 'n_estimators': 30}\n",
    "best_rf = RandomForestRegressor(\n",
    "    bootstrap=parameters['bootstrap'],\n",
    "    max_depth=parameters['max_depth'],\n",
    "    min_samples_split=parameters['min_samples_split'],\n",
    "    n_estimators=parameters['n_estimators']\n",
    ")\n",
    "\n",
    "best_rf.fit(X, y)\n",
    "y_train = best_rf.predict(X)\n",
    "\n",
    "# Assess the model on the train set\n",
    "mae = mean_absolute_error(y, y_train)\n",
    "mse = mean_squared_error(y, y_train)\n",
    "r2score = r2_score(y, y_train)\n",
    "print(\"TRAINING\")\n",
    "print(\"Mean Absolute Error (MAE):\", mae)\n",
    "print(\"Mean Squared Error on Test Set:\", mse)\n",
    "print(\"R2 Score:\", r2score)\n",
    "\n",
    "y_pred=best_rf.predict(X_test)\n",
    "\n",
    "# Assess the model on the test set\n",
    "mae = mean_absolute_error(y_test, y_pred)\n",
    "mse = mean_squared_error(y_test, y_pred)\n",
    "r2score = r2_score(y_test, y_pred)\n",
    "print(\"TESTING\")\n",
    "print(\"Mean Absolute Error (MAE):\", mae)\n",
    "print(\"Mean Squared Error on Test Set:\", mse)\n",
    "print(\"R2 Score:\", r2score)"
   ]
  },
  {
   "cell_type": "code",
   "execution_count": 50,
   "metadata": {},
   "outputs": [
    {
     "data": {
      "text/plain": [
       "['rf_southwest_tuning.pkl']"
      ]
     },
     "execution_count": 50,
     "metadata": {},
     "output_type": "execute_result"
    }
   ],
   "source": [
    "import joblib\n",
    "\n",
    "joblib.dump(best_rf, 'rf_southwest_tuning.pkl')"
   ]
  }
 ],
 "metadata": {
  "kernelspec": {
   "display_name": "Python 3",
   "language": "python",
   "name": "python3"
  },
  "language_info": {
   "codemirror_mode": {
    "name": "ipython",
    "version": 3
   },
   "file_extension": ".py",
   "mimetype": "text/x-python",
   "name": "python",
   "nbconvert_exporter": "python",
   "pygments_lexer": "ipython3",
   "version": "3.9.13"
  }
 },
 "nbformat": 4,
 "nbformat_minor": 2
}
