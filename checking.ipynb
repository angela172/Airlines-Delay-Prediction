{
 "cells": [
  {
   "cell_type": "code",
   "execution_count": 14,
   "metadata": {},
   "outputs": [],
   "source": [
    "import joblib\n",
    "loaded_model = joblib.load('/Users/bristi/Desktop/DelayPredictor/linearReg_delta.pkl')"
   ]
  },
  {
   "cell_type": "code",
   "execution_count": 15,
   "metadata": {},
   "outputs": [],
   "source": [
    "import pandas as pd\n",
    "\n",
    "df = pd.read_csv(\"/Users/bristi/Desktop/DM assign/Preprocessing/delta_test.csv\")"
   ]
  },
  {
   "cell_type": "code",
   "execution_count": 16,
   "metadata": {},
   "outputs": [
    {
     "name": "stderr",
     "output_type": "stream",
     "text": [
      "/var/folders/z1/0b4fr5_n0fg0z6szcfq9km100000gn/T/ipykernel_17981/2099564107.py:6: SettingWithCopyWarning: \n",
      "A value is trying to be set on a copy of a slice from a DataFrame.\n",
      "Try using .loc[row_indexer,col_indexer] = value instead\n",
      "\n",
      "See the caveats in the documentation: https://pandas.pydata.org/pandas-docs/stable/user_guide/indexing.html#returning-a-view-versus-a-copy\n",
      "  df_test['Origin_enc'] = df_test['Origin'].apply(lambda x : enc_nom_1[x])\n",
      "/var/folders/z1/0b4fr5_n0fg0z6szcfq9km100000gn/T/ipykernel_17981/2099564107.py:8: SettingWithCopyWarning: \n",
      "A value is trying to be set on a copy of a slice from a DataFrame.\n",
      "Try using .loc[row_indexer,col_indexer] = value instead\n",
      "\n",
      "See the caveats in the documentation: https://pandas.pydata.org/pandas-docs/stable/user_guide/indexing.html#returning-a-view-versus-a-copy\n",
      "  df_test['Dest_enc'] = df_test['Dest'].apply(lambda x : enc_nom_2[x])\n"
     ]
    }
   ],
   "source": [
    "df_notcancelled = df[df[\"Cancelled\"] == False]\n",
    "df_notcancelled = df_notcancelled.drop('Cancelled', axis = 1)\n",
    "df_test = df_notcancelled[df_notcancelled[\"Diverted\"] == False]\n",
    "null_dep_time_count = df_test[\"DepTime\"].isnull().sum()\n",
    "enc_nom_1 = (df_test.groupby('Origin').size()) / len(df_test)\n",
    "df_test['Origin_enc'] = df_test['Origin'].apply(lambda x : enc_nom_1[x])\n",
    "enc_nom_2 = (df_test.groupby('Dest').size()) / len(df_test)\n",
    "df_test['Dest_enc'] = df_test['Dest'].apply(lambda x : enc_nom_2[x])\n",
    "\n",
    "X_test = df_test[['DepDelayMinutes','TaxiOut','TaxiIn','Distance','ArrTime','Origin_enc','CRSArrTime','DayofMonth','DepTime']]\n",
    "y_test = df_test['ArrDelayMinutes']"
   ]
  },
  {
   "cell_type": "code",
   "execution_count": 17,
   "metadata": {},
   "outputs": [
    {
     "data": {
      "text/plain": [
       "array([[65.91807806],\n",
       "       [ 9.244594  ],\n",
       "       [ 9.60454612],\n",
       "       ...,\n",
       "       [-3.31327966],\n",
       "       [18.29556855],\n",
       "       [ 2.32812537]])"
      ]
     },
     "execution_count": 17,
     "metadata": {},
     "output_type": "execute_result"
    }
   ],
   "source": [
    "loaded_model.predict(X_test)"
   ]
  },
  {
   "cell_type": "code",
   "execution_count": null,
   "metadata": {},
   "outputs": [
    {
     "name": "stdout",
     "output_type": "stream",
     "text": [
      "LinearRegression()\n",
      "[[-509.49528334]\n",
      " [ 130.38194387]\n",
      " [-359.99704092]\n",
      " ...\n",
      " [1217.49802678]\n",
      " [-322.29807736]\n",
      " [-562.26706522]]\n"
     ]
    },
    {
     "name": "stderr",
     "output_type": "stream",
     "text": [
      "/Users/bristi/miniforge3/lib/python3.9/site-packages/sklearn/base.py:458: UserWarning: X has feature names, but LinearRegression was fitted without feature names\n",
      "  warnings.warn(\n"
     ]
    }
   ],
   "source": [
    "from joblib import load\n",
    "\n",
    "# Load the model\n",
    "loaded_model = load('/Users/bristi/Desktop/DM assign/Streamlit_app/assets/linearReg_delta.pkl')\n",
    "\n",
    "# Check model attributes or coefficients\n",
    "print(loaded_model)\n",
    "\n",
    "# Ensure consistency in input data and preprocess it\n",
    "# Make predictions using the loaded model\n",
    "predictions = loaded_model.predict(X_test)\n",
    "\n",
    "# Validate predictions and compare them with expected values\n",
    "print(predictions)\n"
   ]
  }
 ],
 "metadata": {
  "kernelspec": {
   "display_name": "base",
   "language": "python",
   "name": "python3"
  },
  "language_info": {
   "codemirror_mode": {
    "name": "ipython",
    "version": 3
   },
   "file_extension": ".py",
   "mimetype": "text/x-python",
   "name": "python",
   "nbconvert_exporter": "python",
   "pygments_lexer": "ipython3",
   "version": "3.9.13"
  }
 },
 "nbformat": 4,
 "nbformat_minor": 2
}
