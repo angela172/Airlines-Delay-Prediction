{
 "cells": [
  {
   "cell_type": "code",
   "execution_count": 1,
   "metadata": {},
   "outputs": [],
   "source": [
    "import pandas as pd"
   ]
  },
  {
   "cell_type": "markdown",
   "metadata": {},
   "source": [
    "## Training Data"
   ]
  },
  {
   "cell_type": "code",
   "execution_count": 2,
   "metadata": {},
   "outputs": [],
   "source": [
    "df = pd.read_csv(\"/Users/bristi/Desktop/DM assign/Preprocessing/delta_train.csv\")"
   ]
  },
  {
   "cell_type": "code",
   "execution_count": 3,
   "metadata": {},
   "outputs": [
    {
     "name": "stdout",
     "output_type": "stream",
     "text": [
      "DepTime                 36097\n",
      "DepDelayMinutes         36097\n",
      "DepDelay                36097\n",
      "ArrTime                 36623\n",
      "ArrDelayMinutes         41372\n",
      "AirTime                 41372\n",
      "CRSElapsedTime              2\n",
      "ActualElapsedTime       41372\n",
      "Tail_Number              7849\n",
      "DepDel15                36097\n",
      "DepartureDelayGroups    36097\n",
      "TaxiOut                 36335\n",
      "WheelsOff               36335\n",
      "WheelsOn                36625\n",
      "TaxiIn                  36625\n",
      "ArrDelay                41372\n",
      "ArrDel15                41372\n",
      "ArrivalDelayGroups      41372\n",
      "DivAirportLandings          1\n",
      "dtype: int64\n"
     ]
    }
   ],
   "source": [
    "# Check for missing values in each column\n",
    "missing_values = df.isnull().sum()\n",
    "\n",
    "# Display columns with missing values\n",
    "print(missing_values[missing_values > 0])\n"
   ]
  },
  {
   "cell_type": "code",
   "execution_count": 4,
   "metadata": {},
   "outputs": [
    {
     "name": "stdout",
     "output_type": "stream",
     "text": [
      "<class 'pandas.core.frame.DataFrame'>\n",
      "RangeIndex: 2782803 entries, 0 to 2782802\n",
      "Data columns (total 61 columns):\n",
      " #   Column                                   Dtype  \n",
      "---  ------                                   -----  \n",
      " 0   FlightDate                               object \n",
      " 1   Airline                                  object \n",
      " 2   Origin                                   object \n",
      " 3   Dest                                     object \n",
      " 4   Cancelled                                bool   \n",
      " 5   Diverted                                 bool   \n",
      " 6   CRSDepTime                               int64  \n",
      " 7   DepTime                                  float64\n",
      " 8   DepDelayMinutes                          float64\n",
      " 9   DepDelay                                 float64\n",
      " 10  ArrTime                                  float64\n",
      " 11  ArrDelayMinutes                          float64\n",
      " 12  AirTime                                  float64\n",
      " 13  CRSElapsedTime                           float64\n",
      " 14  ActualElapsedTime                        float64\n",
      " 15  Distance                                 float64\n",
      " 16  Year                                     int64  \n",
      " 17  Quarter                                  int64  \n",
      " 18  Month                                    int64  \n",
      " 19  DayofMonth                               int64  \n",
      " 20  DayOfWeek                                int64  \n",
      " 21  Marketing_Airline_Network                object \n",
      " 22  Operated_or_Branded_Code_Share_Partners  object \n",
      " 23  DOT_ID_Marketing_Airline                 int64  \n",
      " 24  IATA_Code_Marketing_Airline              object \n",
      " 25  Flight_Number_Marketing_Airline          int64  \n",
      " 26  Operating_Airline                        object \n",
      " 27  DOT_ID_Operating_Airline                 int64  \n",
      " 28  IATA_Code_Operating_Airline              object \n",
      " 29  Tail_Number                              object \n",
      " 30  Flight_Number_Operating_Airline          int64  \n",
      " 31  OriginAirportID                          int64  \n",
      " 32  OriginAirportSeqID                       int64  \n",
      " 33  OriginCityMarketID                       int64  \n",
      " 34  OriginCityName                           object \n",
      " 35  OriginState                              object \n",
      " 36  OriginStateFips                          int64  \n",
      " 37  OriginStateName                          object \n",
      " 38  OriginWac                                int64  \n",
      " 39  DestAirportID                            int64  \n",
      " 40  DestAirportSeqID                         int64  \n",
      " 41  DestCityMarketID                         int64  \n",
      " 42  DestCityName                             object \n",
      " 43  DestState                                object \n",
      " 44  DestStateFips                            int64  \n",
      " 45  DestStateName                            object \n",
      " 46  DestWac                                  int64  \n",
      " 47  DepDel15                                 float64\n",
      " 48  DepartureDelayGroups                     float64\n",
      " 49  DepTimeBlk                               object \n",
      " 50  TaxiOut                                  float64\n",
      " 51  WheelsOff                                float64\n",
      " 52  WheelsOn                                 float64\n",
      " 53  TaxiIn                                   float64\n",
      " 54  CRSArrTime                               int64  \n",
      " 55  ArrDelay                                 float64\n",
      " 56  ArrDel15                                 float64\n",
      " 57  ArrivalDelayGroups                       float64\n",
      " 58  ArrTimeBlk                               object \n",
      " 59  DistanceGroup                            int64  \n",
      " 60  DivAirportLandings                       float64\n",
      "dtypes: bool(2), float64(19), int64(22), object(18)\n",
      "memory usage: 1.2+ GB\n"
     ]
    }
   ],
   "source": [
    "df.info()"
   ]
  },
  {
   "cell_type": "markdown",
   "metadata": {},
   "source": [
    "#### Removing unwanted columns"
   ]
  },
  {
   "cell_type": "code",
   "execution_count": 5,
   "metadata": {},
   "outputs": [],
   "source": [
    "df_notcancelled = df[df[\"Cancelled\"]==False]\n",
    "df_train = df_notcancelled[df_notcancelled['Diverted']==False]\n"
   ]
  },
  {
   "cell_type": "code",
   "execution_count": 6,
   "metadata": {},
   "outputs": [],
   "source": [
    "df_train=df_train.drop('Cancelled',axis=1)\n",
    "df_train = df_train.drop('Diverted',axis = 1)\n",
    "df_train = df_train.drop('Airline',axis=1)\n",
    "df_train = df_train.drop('DivAirportLandings',axis = 1)\n",
    "df_train = df_train.drop('DistanceGroup',axis = 1)\n",
    "df_train = df_train.drop('ArrivalDelayGroups',axis = 1)\n",
    "df_train = df_train.drop('DepartureDelayGroups',axis = 1)\n",
    "df_train = df_train.drop('ArrDelay',axis = 1)\n",
    "df_train = df_train.drop('DepDelay',axis = 1)\n",
    "df_train = df_train.drop('ArrDel15',axis = 1)\n",
    "df_train = df_train.drop('ArrTimeBlk',axis = 1)\n",
    "df_train = df_train.drop('DepTimeBlk',axis = 1)\n",
    "df_train= df_train.drop('Year', axis = 1)\n"
   ]
  },
  {
   "cell_type": "code",
   "execution_count": 7,
   "metadata": {},
   "outputs": [],
   "source": [
    "\n",
    "df_train= df_train.drop(['AirTime',\t\n",
    "                         'CRSElapsedTime',\n",
    "                         'ActualElapsedTime',\n",
    "                         'Flight_Number_Marketing_Airline', \n",
    "                         'DOT_ID_Operating_Airline',\n",
    "                         'Operating_Airline', \n",
    "                         'WheelsOn',\n",
    "                         'WheelsOff',\n",
    "                         'IATA_Code_Operating_Airline', \n",
    "                         'Tail_Number', \n",
    "                         'Flight_Number_Operating_Airline', \n",
    "                         'OriginAirportID', \n",
    "                         'OriginAirportSeqID', \n",
    "                         'OriginCityMarketID', \n",
    "                         'OriginCityName', \n",
    "                         'OriginState',\n",
    "                         'OriginStateFips', \n",
    "                         'OriginStateName', \n",
    "                         'OriginWac', \n",
    "                         'DestAirportID',\n",
    "                         'DestAirportSeqID',\n",
    "                         'DestCityMarketID', \n",
    "                         'DestCityName', \n",
    "                         'DestState', \n",
    "                         'DestStateFips', \n",
    "                         'DestStateName', \n",
    "                         'DestWac',\n",
    "                         'DepDel15', \n",
    "                         'Marketing_Airline_Network', \n",
    "                         'Operated_or_Branded_Code_Share_Partners', \n",
    "                         'DOT_ID_Marketing_Airline', \n",
    "                         'IATA_Code_Marketing_Airline'], axis = 1)\n",
    "\n",
    "\n"
   ]
  },
  {
   "cell_type": "code",
   "execution_count": 8,
   "metadata": {},
   "outputs": [
    {
     "data": {
      "text/plain": [
       "(2741431, 16)"
      ]
     },
     "execution_count": 8,
     "metadata": {},
     "output_type": "execute_result"
    }
   ],
   "source": [
    "df_train.shape"
   ]
  },
  {
   "cell_type": "markdown",
   "metadata": {},
   "source": [
    "#### Checking for missing values"
   ]
  },
  {
   "cell_type": "code",
   "execution_count": 9,
   "metadata": {},
   "outputs": [
    {
     "name": "stdout",
     "output_type": "stream",
     "text": [
      "Series([], dtype: int64)\n"
     ]
    }
   ],
   "source": [
    "# Check for missing values in each column\n",
    "missing_values = df_train.isnull().sum()\n",
    "\n",
    "# Display columns with missing values\n",
    "print(missing_values[missing_values > 0])\n"
   ]
  },
  {
   "cell_type": "code",
   "execution_count": 10,
   "metadata": {},
   "outputs": [
    {
     "name": "stdout",
     "output_type": "stream",
     "text": [
      "Number of records with null DepTime: 0\n"
     ]
    }
   ],
   "source": [
    "null_dep_time_count = df_train[\"DepTime\"].isnull().sum()\n",
    "print(\"Number of records with null DepTime:\", null_dep_time_count)"
   ]
  },
  {
   "cell_type": "code",
   "execution_count": 11,
   "metadata": {},
   "outputs": [
    {
     "data": {
      "text/html": [
       "<div>\n",
       "<style scoped>\n",
       "    .dataframe tbody tr th:only-of-type {\n",
       "        vertical-align: middle;\n",
       "    }\n",
       "\n",
       "    .dataframe tbody tr th {\n",
       "        vertical-align: top;\n",
       "    }\n",
       "\n",
       "    .dataframe thead th {\n",
       "        text-align: right;\n",
       "    }\n",
       "</style>\n",
       "<table border=\"1\" class=\"dataframe\">\n",
       "  <thead>\n",
       "    <tr style=\"text-align: right;\">\n",
       "      <th></th>\n",
       "      <th>FlightDate</th>\n",
       "      <th>Origin</th>\n",
       "      <th>Dest</th>\n",
       "      <th>CRSDepTime</th>\n",
       "      <th>DepTime</th>\n",
       "      <th>DepDelayMinutes</th>\n",
       "      <th>ArrTime</th>\n",
       "      <th>ArrDelayMinutes</th>\n",
       "      <th>Distance</th>\n",
       "      <th>Quarter</th>\n",
       "      <th>Month</th>\n",
       "      <th>DayofMonth</th>\n",
       "      <th>DayOfWeek</th>\n",
       "      <th>TaxiOut</th>\n",
       "      <th>TaxiIn</th>\n",
       "      <th>CRSArrTime</th>\n",
       "    </tr>\n",
       "  </thead>\n",
       "  <tbody>\n",
       "    <tr>\n",
       "      <th>0</th>\n",
       "      <td>2018-01-27</td>\n",
       "      <td>ATL</td>\n",
       "      <td>ORF</td>\n",
       "      <td>1608</td>\n",
       "      <td>1606.0</td>\n",
       "      <td>0.0</td>\n",
       "      <td>1730.0</td>\n",
       "      <td>0.0</td>\n",
       "      <td>516.0</td>\n",
       "      <td>1</td>\n",
       "      <td>1</td>\n",
       "      <td>27</td>\n",
       "      <td>6</td>\n",
       "      <td>8.0</td>\n",
       "      <td>3.0</td>\n",
       "      <td>1743</td>\n",
       "    </tr>\n",
       "    <tr>\n",
       "      <th>1</th>\n",
       "      <td>2018-01-27</td>\n",
       "      <td>ATL</td>\n",
       "      <td>GSO</td>\n",
       "      <td>1700</td>\n",
       "      <td>1656.0</td>\n",
       "      <td>0.0</td>\n",
       "      <td>1757.0</td>\n",
       "      <td>0.0</td>\n",
       "      <td>306.0</td>\n",
       "      <td>1</td>\n",
       "      <td>1</td>\n",
       "      <td>27</td>\n",
       "      <td>6</td>\n",
       "      <td>10.0</td>\n",
       "      <td>3.0</td>\n",
       "      <td>1815</td>\n",
       "    </tr>\n",
       "    <tr>\n",
       "      <th>2</th>\n",
       "      <td>2018-01-27</td>\n",
       "      <td>TPA</td>\n",
       "      <td>MSP</td>\n",
       "      <td>720</td>\n",
       "      <td>716.0</td>\n",
       "      <td>0.0</td>\n",
       "      <td>928.0</td>\n",
       "      <td>0.0</td>\n",
       "      <td>1306.0</td>\n",
       "      <td>1</td>\n",
       "      <td>1</td>\n",
       "      <td>27</td>\n",
       "      <td>6</td>\n",
       "      <td>15.0</td>\n",
       "      <td>4.0</td>\n",
       "      <td>947</td>\n",
       "    </tr>\n",
       "    <tr>\n",
       "      <th>3</th>\n",
       "      <td>2018-01-27</td>\n",
       "      <td>LIH</td>\n",
       "      <td>LAX</td>\n",
       "      <td>2225</td>\n",
       "      <td>2219.0</td>\n",
       "      <td>0.0</td>\n",
       "      <td>551.0</td>\n",
       "      <td>7.0</td>\n",
       "      <td>2615.0</td>\n",
       "      <td>1</td>\n",
       "      <td>1</td>\n",
       "      <td>27</td>\n",
       "      <td>6</td>\n",
       "      <td>17.0</td>\n",
       "      <td>4.0</td>\n",
       "      <td>544</td>\n",
       "    </tr>\n",
       "    <tr>\n",
       "      <th>4</th>\n",
       "      <td>2018-01-27</td>\n",
       "      <td>SMF</td>\n",
       "      <td>SLC</td>\n",
       "      <td>600</td>\n",
       "      <td>553.0</td>\n",
       "      <td>0.0</td>\n",
       "      <td>824.0</td>\n",
       "      <td>0.0</td>\n",
       "      <td>532.0</td>\n",
       "      <td>1</td>\n",
       "      <td>1</td>\n",
       "      <td>27</td>\n",
       "      <td>6</td>\n",
       "      <td>12.0</td>\n",
       "      <td>6.0</td>\n",
       "      <td>843</td>\n",
       "    </tr>\n",
       "  </tbody>\n",
       "</table>\n",
       "</div>"
      ],
      "text/plain": [
       "   FlightDate Origin Dest  CRSDepTime  DepTime  DepDelayMinutes  ArrTime  \\\n",
       "0  2018-01-27    ATL  ORF        1608   1606.0              0.0   1730.0   \n",
       "1  2018-01-27    ATL  GSO        1700   1656.0              0.0   1757.0   \n",
       "2  2018-01-27    TPA  MSP         720    716.0              0.0    928.0   \n",
       "3  2018-01-27    LIH  LAX        2225   2219.0              0.0    551.0   \n",
       "4  2018-01-27    SMF  SLC         600    553.0              0.0    824.0   \n",
       "\n",
       "   ArrDelayMinutes  Distance  Quarter  Month  DayofMonth  DayOfWeek  TaxiOut  \\\n",
       "0              0.0     516.0        1      1          27          6      8.0   \n",
       "1              0.0     306.0        1      1          27          6     10.0   \n",
       "2              0.0    1306.0        1      1          27          6     15.0   \n",
       "3              7.0    2615.0        1      1          27          6     17.0   \n",
       "4              0.0     532.0        1      1          27          6     12.0   \n",
       "\n",
       "   TaxiIn  CRSArrTime  \n",
       "0     3.0        1743  \n",
       "1     3.0        1815  \n",
       "2     4.0         947  \n",
       "3     4.0         544  \n",
       "4     6.0         843  "
      ]
     },
     "execution_count": 11,
     "metadata": {},
     "output_type": "execute_result"
    }
   ],
   "source": [
    "df_train.head()"
   ]
  },
  {
   "cell_type": "code",
   "execution_count": 12,
   "metadata": {},
   "outputs": [
    {
     "data": {
      "text/plain": [
       "(2741431, 16)"
      ]
     },
     "execution_count": 12,
     "metadata": {},
     "output_type": "execute_result"
    }
   ],
   "source": [
    "df_train.shape"
   ]
  },
  {
   "cell_type": "markdown",
   "metadata": {},
   "source": []
  },
  {
   "cell_type": "markdown",
   "metadata": {},
   "source": [
    "## Testing Data"
   ]
  },
  {
   "cell_type": "code",
   "execution_count": 13,
   "metadata": {},
   "outputs": [],
   "source": [
    "df_test = pd.read_csv(\"/Users/bristi/Desktop/DM assign/Preprocessing/delta_test.csv\")"
   ]
  },
  {
   "cell_type": "markdown",
   "metadata": {},
   "source": [
    "#### Removing Unwanted Columns"
   ]
  },
  {
   "cell_type": "code",
   "execution_count": 14,
   "metadata": {},
   "outputs": [],
   "source": [
    "df_notcancelled = df_test[df_test[\"Cancelled\"]==False]\n",
    "df_test = df_notcancelled[df_notcancelled['Diverted']==False]\n"
   ]
  },
  {
   "cell_type": "code",
   "execution_count": 15,
   "metadata": {},
   "outputs": [],
   "source": [
    "df_test=df_test.drop('Cancelled',axis=1)\n",
    "df_test = df_test.drop('Diverted',axis = 1)\n",
    "df_test = df_test.drop('Airline',axis=1)\n",
    "df_test = df_test.drop('DivAirportLandings',axis = 1)\n",
    "df_test = df_test.drop('DistanceGroup',axis = 1)\n",
    "df_test = df_test.drop('ArrivalDelayGroups',axis = 1)\n",
    "df_test = df_test.drop('DepartureDelayGroups',axis = 1)\n",
    "df_test = df_test.drop('ArrDelay',axis = 1)\n",
    "df_test = df_test.drop('DepDelay',axis = 1)\n",
    "df_test = df_test.drop('ArrDel15',axis = 1)\n",
    "df_test = df_test.drop('ArrTimeBlk',axis = 1)\n",
    "df_test = df_test.drop('DepTimeBlk',axis = 1)\n",
    "df_test= df_test.drop('Year', axis = 1)\n",
    "df_test= df_test.drop('FlightDate', axis = 1)\n"
   ]
  },
  {
   "cell_type": "code",
   "execution_count": 16,
   "metadata": {},
   "outputs": [],
   "source": [
    "\n",
    "df_test= df_test.drop(['AirTime',\t\n",
    "                         'CRSElapsedTime',\n",
    "                         'ActualElapsedTime',\n",
    "                         'Flight_Number_Marketing_Airline', \n",
    "                         'DOT_ID_Operating_Airline',\n",
    "                         'Operating_Airline', \n",
    "                         'WheelsOn',\n",
    "                         'WheelsOff',\n",
    "                         'IATA_Code_Operating_Airline', \n",
    "                         'Tail_Number', \n",
    "                         'Flight_Number_Operating_Airline', \n",
    "                         'OriginAirportID', \n",
    "                         'OriginAirportSeqID', \n",
    "                         'OriginCityMarketID', \n",
    "                         'OriginCityName', \n",
    "                         'OriginState',\n",
    "                         'OriginStateFips', \n",
    "                         'OriginStateName', \n",
    "                         'OriginWac', \n",
    "                         'DestAirportID',\n",
    "                         'DestAirportSeqID',\n",
    "                         'DestCityMarketID', \n",
    "                         'DestCityName', \n",
    "                         'DestState', \n",
    "                         'DestStateFips', \n",
    "                         'DestStateName', \n",
    "                         'DestWac',\n",
    "                         'DepDel15', \n",
    "                         'Marketing_Airline_Network', \n",
    "                         'Operated_or_Branded_Code_Share_Partners', \n",
    "                         'DOT_ID_Marketing_Airline', \n",
    "                         'IATA_Code_Marketing_Airline'], axis = 1)\n",
    "\n",
    "\n"
   ]
  },
  {
   "cell_type": "code",
   "execution_count": 17,
   "metadata": {},
   "outputs": [
    {
     "data": {
      "text/plain": [
       "(500710, 15)"
      ]
     },
     "execution_count": 17,
     "metadata": {},
     "output_type": "execute_result"
    }
   ],
   "source": [
    "df_test.shape\n"
   ]
  },
  {
   "cell_type": "markdown",
   "metadata": {},
   "source": [
    "#### Checking for missing values"
   ]
  },
  {
   "cell_type": "code",
   "execution_count": 18,
   "metadata": {},
   "outputs": [
    {
     "name": "stdout",
     "output_type": "stream",
     "text": [
      "Series([], dtype: int64)\n"
     ]
    }
   ],
   "source": [
    "# Check for missing values in each column\n",
    "missing_values = df_test.isnull().sum()\n",
    "\n",
    "# Display columns with missing values\n",
    "print(missing_values[missing_values > 0])\n"
   ]
  },
  {
   "cell_type": "code",
   "execution_count": 19,
   "metadata": {},
   "outputs": [
    {
     "name": "stdout",
     "output_type": "stream",
     "text": [
      "Number of records with null DepTime: 0\n"
     ]
    }
   ],
   "source": [
    "null_dep_time_count = df_test[\"DepTime\"].isnull().sum()\n",
    "print(\"Number of records with null DepTime:\", null_dep_time_count)"
   ]
  },
  {
   "cell_type": "code",
   "execution_count": 20,
   "metadata": {},
   "outputs": [
    {
     "data": {
      "text/html": [
       "<div>\n",
       "<style scoped>\n",
       "    .dataframe tbody tr th:only-of-type {\n",
       "        vertical-align: middle;\n",
       "    }\n",
       "\n",
       "    .dataframe tbody tr th {\n",
       "        vertical-align: top;\n",
       "    }\n",
       "\n",
       "    .dataframe thead th {\n",
       "        text-align: right;\n",
       "    }\n",
       "</style>\n",
       "<table border=\"1\" class=\"dataframe\">\n",
       "  <thead>\n",
       "    <tr style=\"text-align: right;\">\n",
       "      <th></th>\n",
       "      <th>Origin</th>\n",
       "      <th>Dest</th>\n",
       "      <th>CRSDepTime</th>\n",
       "      <th>DepTime</th>\n",
       "      <th>DepDelayMinutes</th>\n",
       "      <th>ArrTime</th>\n",
       "      <th>ArrDelayMinutes</th>\n",
       "      <th>Distance</th>\n",
       "      <th>Quarter</th>\n",
       "      <th>Month</th>\n",
       "      <th>DayofMonth</th>\n",
       "      <th>DayOfWeek</th>\n",
       "      <th>TaxiOut</th>\n",
       "      <th>TaxiIn</th>\n",
       "      <th>CRSArrTime</th>\n",
       "    </tr>\n",
       "  </thead>\n",
       "  <tbody>\n",
       "    <tr>\n",
       "      <th>0</th>\n",
       "      <td>ATL</td>\n",
       "      <td>DFW</td>\n",
       "      <td>1925</td>\n",
       "      <td>2026.0</td>\n",
       "      <td>61.0</td>\n",
       "      <td>2159.0</td>\n",
       "      <td>64.0</td>\n",
       "      <td>731.0</td>\n",
       "      <td>2</td>\n",
       "      <td>4</td>\n",
       "      <td>1</td>\n",
       "      <td>5</td>\n",
       "      <td>32.0</td>\n",
       "      <td>4.0</td>\n",
       "      <td>2055</td>\n",
       "    </tr>\n",
       "    <tr>\n",
       "      <th>1</th>\n",
       "      <td>ATL</td>\n",
       "      <td>DFW</td>\n",
       "      <td>1830</td>\n",
       "      <td>1830.0</td>\n",
       "      <td>0.0</td>\n",
       "      <td>2003.0</td>\n",
       "      <td>4.0</td>\n",
       "      <td>731.0</td>\n",
       "      <td>2</td>\n",
       "      <td>4</td>\n",
       "      <td>2</td>\n",
       "      <td>6</td>\n",
       "      <td>25.0</td>\n",
       "      <td>16.0</td>\n",
       "      <td>1959</td>\n",
       "    </tr>\n",
       "    <tr>\n",
       "      <th>2</th>\n",
       "      <td>ATL</td>\n",
       "      <td>DFW</td>\n",
       "      <td>1925</td>\n",
       "      <td>1934.0</td>\n",
       "      <td>9.0</td>\n",
       "      <td>2046.0</td>\n",
       "      <td>0.0</td>\n",
       "      <td>731.0</td>\n",
       "      <td>2</td>\n",
       "      <td>4</td>\n",
       "      <td>3</td>\n",
       "      <td>7</td>\n",
       "      <td>17.0</td>\n",
       "      <td>7.0</td>\n",
       "      <td>2055</td>\n",
       "    </tr>\n",
       "    <tr>\n",
       "      <th>3</th>\n",
       "      <td>ATL</td>\n",
       "      <td>DFW</td>\n",
       "      <td>1925</td>\n",
       "      <td>1945.0</td>\n",
       "      <td>20.0</td>\n",
       "      <td>2056.0</td>\n",
       "      <td>1.0</td>\n",
       "      <td>731.0</td>\n",
       "      <td>2</td>\n",
       "      <td>4</td>\n",
       "      <td>4</td>\n",
       "      <td>1</td>\n",
       "      <td>12.0</td>\n",
       "      <td>5.0</td>\n",
       "      <td>2055</td>\n",
       "    </tr>\n",
       "    <tr>\n",
       "      <th>4</th>\n",
       "      <td>ATL</td>\n",
       "      <td>DFW</td>\n",
       "      <td>1925</td>\n",
       "      <td>2001.0</td>\n",
       "      <td>36.0</td>\n",
       "      <td>2115.0</td>\n",
       "      <td>20.0</td>\n",
       "      <td>731.0</td>\n",
       "      <td>2</td>\n",
       "      <td>4</td>\n",
       "      <td>5</td>\n",
       "      <td>2</td>\n",
       "      <td>18.0</td>\n",
       "      <td>5.0</td>\n",
       "      <td>2055</td>\n",
       "    </tr>\n",
       "  </tbody>\n",
       "</table>\n",
       "</div>"
      ],
      "text/plain": [
       "  Origin Dest  CRSDepTime  DepTime  DepDelayMinutes  ArrTime  ArrDelayMinutes  \\\n",
       "0    ATL  DFW        1925   2026.0             61.0   2159.0             64.0   \n",
       "1    ATL  DFW        1830   1830.0              0.0   2003.0              4.0   \n",
       "2    ATL  DFW        1925   1934.0              9.0   2046.0              0.0   \n",
       "3    ATL  DFW        1925   1945.0             20.0   2056.0              1.0   \n",
       "4    ATL  DFW        1925   2001.0             36.0   2115.0             20.0   \n",
       "\n",
       "   Distance  Quarter  Month  DayofMonth  DayOfWeek  TaxiOut  TaxiIn  \\\n",
       "0     731.0        2      4           1          5     32.0     4.0   \n",
       "1     731.0        2      4           2          6     25.0    16.0   \n",
       "2     731.0        2      4           3          7     17.0     7.0   \n",
       "3     731.0        2      4           4          1     12.0     5.0   \n",
       "4     731.0        2      4           5          2     18.0     5.0   \n",
       "\n",
       "   CRSArrTime  \n",
       "0        2055  \n",
       "1        1959  \n",
       "2        2055  \n",
       "3        2055  \n",
       "4        2055  "
      ]
     },
     "execution_count": 20,
     "metadata": {},
     "output_type": "execute_result"
    }
   ],
   "source": [
    "df_test.head()"
   ]
  },
  {
   "cell_type": "code",
   "execution_count": 21,
   "metadata": {},
   "outputs": [
    {
     "data": {
      "text/plain": [
       "(500710, 15)"
      ]
     },
     "execution_count": 21,
     "metadata": {},
     "output_type": "execute_result"
    }
   ],
   "source": [
    "df_test.shape"
   ]
  },
  {
   "cell_type": "markdown",
   "metadata": {},
   "source": [
    "## Feature Encoding"
   ]
  },
  {
   "cell_type": "markdown",
   "metadata": {},
   "source": [
    "### Train Data"
   ]
  },
  {
   "cell_type": "markdown",
   "metadata": {},
   "source": [
    "#### Column Origin"
   ]
  },
  {
   "cell_type": "code",
   "execution_count": 22,
   "metadata": {},
   "outputs": [
    {
     "data": {
      "text/plain": [
       "Origin\n",
       "ABE    0.000209\n",
       "ABQ    0.001165\n",
       "AGS    0.000650\n",
       "ALB    0.001241\n",
       "ANC    0.002531\n",
       "         ...   \n",
       "TUS    0.001151\n",
       "TVC    0.000297\n",
       "TYS    0.000775\n",
       "VPS    0.002340\n",
       "XNA    0.000331\n",
       "Length: 157, dtype: float64"
      ]
     },
     "execution_count": 22,
     "metadata": {},
     "output_type": "execute_result"
    }
   ],
   "source": [
    "enc_nom_1 = (df_train.groupby('Origin').size()) / len(df_train)\n",
    "enc_nom_1"
   ]
  },
  {
   "cell_type": "code",
   "execution_count": 23,
   "metadata": {},
   "outputs": [
    {
     "data": {
      "text/html": [
       "<div>\n",
       "<style scoped>\n",
       "    .dataframe tbody tr th:only-of-type {\n",
       "        vertical-align: middle;\n",
       "    }\n",
       "\n",
       "    .dataframe tbody tr th {\n",
       "        vertical-align: top;\n",
       "    }\n",
       "\n",
       "    .dataframe thead th {\n",
       "        text-align: right;\n",
       "    }\n",
       "</style>\n",
       "<table border=\"1\" class=\"dataframe\">\n",
       "  <thead>\n",
       "    <tr style=\"text-align: right;\">\n",
       "      <th></th>\n",
       "      <th>FlightDate</th>\n",
       "      <th>Origin</th>\n",
       "      <th>Dest</th>\n",
       "      <th>CRSDepTime</th>\n",
       "      <th>DepTime</th>\n",
       "      <th>DepDelayMinutes</th>\n",
       "      <th>ArrTime</th>\n",
       "      <th>ArrDelayMinutes</th>\n",
       "      <th>Distance</th>\n",
       "      <th>Quarter</th>\n",
       "      <th>Month</th>\n",
       "      <th>DayofMonth</th>\n",
       "      <th>DayOfWeek</th>\n",
       "      <th>TaxiOut</th>\n",
       "      <th>TaxiIn</th>\n",
       "      <th>CRSArrTime</th>\n",
       "      <th>Origin_enc</th>\n",
       "    </tr>\n",
       "  </thead>\n",
       "  <tbody>\n",
       "    <tr>\n",
       "      <th>0</th>\n",
       "      <td>2018-01-27</td>\n",
       "      <td>ATL</td>\n",
       "      <td>ORF</td>\n",
       "      <td>1608</td>\n",
       "      <td>1606.0</td>\n",
       "      <td>0.0</td>\n",
       "      <td>1730.0</td>\n",
       "      <td>0.0</td>\n",
       "      <td>516.0</td>\n",
       "      <td>1</td>\n",
       "      <td>1</td>\n",
       "      <td>27</td>\n",
       "      <td>6</td>\n",
       "      <td>8.0</td>\n",
       "      <td>3.0</td>\n",
       "      <td>1743</td>\n",
       "      <td>0.249874</td>\n",
       "    </tr>\n",
       "    <tr>\n",
       "      <th>1</th>\n",
       "      <td>2018-01-27</td>\n",
       "      <td>ATL</td>\n",
       "      <td>GSO</td>\n",
       "      <td>1700</td>\n",
       "      <td>1656.0</td>\n",
       "      <td>0.0</td>\n",
       "      <td>1757.0</td>\n",
       "      <td>0.0</td>\n",
       "      <td>306.0</td>\n",
       "      <td>1</td>\n",
       "      <td>1</td>\n",
       "      <td>27</td>\n",
       "      <td>6</td>\n",
       "      <td>10.0</td>\n",
       "      <td>3.0</td>\n",
       "      <td>1815</td>\n",
       "      <td>0.249874</td>\n",
       "    </tr>\n",
       "    <tr>\n",
       "      <th>2</th>\n",
       "      <td>2018-01-27</td>\n",
       "      <td>TPA</td>\n",
       "      <td>MSP</td>\n",
       "      <td>720</td>\n",
       "      <td>716.0</td>\n",
       "      <td>0.0</td>\n",
       "      <td>928.0</td>\n",
       "      <td>0.0</td>\n",
       "      <td>1306.0</td>\n",
       "      <td>1</td>\n",
       "      <td>1</td>\n",
       "      <td>27</td>\n",
       "      <td>6</td>\n",
       "      <td>15.0</td>\n",
       "      <td>4.0</td>\n",
       "      <td>947</td>\n",
       "      <td>0.013164</td>\n",
       "    </tr>\n",
       "    <tr>\n",
       "      <th>3</th>\n",
       "      <td>2018-01-27</td>\n",
       "      <td>LIH</td>\n",
       "      <td>LAX</td>\n",
       "      <td>2225</td>\n",
       "      <td>2219.0</td>\n",
       "      <td>0.0</td>\n",
       "      <td>551.0</td>\n",
       "      <td>7.0</td>\n",
       "      <td>2615.0</td>\n",
       "      <td>1</td>\n",
       "      <td>1</td>\n",
       "      <td>27</td>\n",
       "      <td>6</td>\n",
       "      <td>17.0</td>\n",
       "      <td>4.0</td>\n",
       "      <td>544</td>\n",
       "      <td>0.000600</td>\n",
       "    </tr>\n",
       "    <tr>\n",
       "      <th>4</th>\n",
       "      <td>2018-01-27</td>\n",
       "      <td>SMF</td>\n",
       "      <td>SLC</td>\n",
       "      <td>600</td>\n",
       "      <td>553.0</td>\n",
       "      <td>0.0</td>\n",
       "      <td>824.0</td>\n",
       "      <td>0.0</td>\n",
       "      <td>532.0</td>\n",
       "      <td>1</td>\n",
       "      <td>1</td>\n",
       "      <td>27</td>\n",
       "      <td>6</td>\n",
       "      <td>12.0</td>\n",
       "      <td>6.0</td>\n",
       "      <td>843</td>\n",
       "      <td>0.003509</td>\n",
       "    </tr>\n",
       "  </tbody>\n",
       "</table>\n",
       "</div>"
      ],
      "text/plain": [
       "   FlightDate Origin Dest  CRSDepTime  DepTime  DepDelayMinutes  ArrTime  \\\n",
       "0  2018-01-27    ATL  ORF        1608   1606.0              0.0   1730.0   \n",
       "1  2018-01-27    ATL  GSO        1700   1656.0              0.0   1757.0   \n",
       "2  2018-01-27    TPA  MSP         720    716.0              0.0    928.0   \n",
       "3  2018-01-27    LIH  LAX        2225   2219.0              0.0    551.0   \n",
       "4  2018-01-27    SMF  SLC         600    553.0              0.0    824.0   \n",
       "\n",
       "   ArrDelayMinutes  Distance  Quarter  Month  DayofMonth  DayOfWeek  TaxiOut  \\\n",
       "0              0.0     516.0        1      1          27          6      8.0   \n",
       "1              0.0     306.0        1      1          27          6     10.0   \n",
       "2              0.0    1306.0        1      1          27          6     15.0   \n",
       "3              7.0    2615.0        1      1          27          6     17.0   \n",
       "4              0.0     532.0        1      1          27          6     12.0   \n",
       "\n",
       "   TaxiIn  CRSArrTime  Origin_enc  \n",
       "0     3.0        1743    0.249874  \n",
       "1     3.0        1815    0.249874  \n",
       "2     4.0         947    0.013164  \n",
       "3     4.0         544    0.000600  \n",
       "4     6.0         843    0.003509  "
      ]
     },
     "execution_count": 23,
     "metadata": {},
     "output_type": "execute_result"
    }
   ],
   "source": [
    "df_train['Origin_enc'] = df_train['Origin'].apply(lambda x : enc_nom_1[x])\n",
    "df_train.head()"
   ]
  },
  {
   "cell_type": "markdown",
   "metadata": {},
   "source": [
    "#### Column Destination"
   ]
  },
  {
   "cell_type": "code",
   "execution_count": 24,
   "metadata": {},
   "outputs": [
    {
     "data": {
      "text/plain": [
       "Dest\n",
       "ABE    0.000209\n",
       "ABQ    0.001167\n",
       "AGS    0.000648\n",
       "ALB    0.001242\n",
       "ANC    0.002528\n",
       "         ...   \n",
       "TUS    0.001156\n",
       "TVC    0.000297\n",
       "TYS    0.000775\n",
       "VPS    0.002339\n",
       "XNA    0.000329\n",
       "Length: 157, dtype: float64"
      ]
     },
     "execution_count": 24,
     "metadata": {},
     "output_type": "execute_result"
    }
   ],
   "source": [
    "enc_nom_2 = (df_train.groupby('Dest').size()) / len(df_train)\n",
    "enc_nom_2"
   ]
  },
  {
   "cell_type": "code",
   "execution_count": 25,
   "metadata": {},
   "outputs": [
    {
     "data": {
      "text/html": [
       "<div>\n",
       "<style scoped>\n",
       "    .dataframe tbody tr th:only-of-type {\n",
       "        vertical-align: middle;\n",
       "    }\n",
       "\n",
       "    .dataframe tbody tr th {\n",
       "        vertical-align: top;\n",
       "    }\n",
       "\n",
       "    .dataframe thead th {\n",
       "        text-align: right;\n",
       "    }\n",
       "</style>\n",
       "<table border=\"1\" class=\"dataframe\">\n",
       "  <thead>\n",
       "    <tr style=\"text-align: right;\">\n",
       "      <th></th>\n",
       "      <th>FlightDate</th>\n",
       "      <th>Origin</th>\n",
       "      <th>Dest</th>\n",
       "      <th>CRSDepTime</th>\n",
       "      <th>DepTime</th>\n",
       "      <th>DepDelayMinutes</th>\n",
       "      <th>ArrTime</th>\n",
       "      <th>ArrDelayMinutes</th>\n",
       "      <th>Distance</th>\n",
       "      <th>Quarter</th>\n",
       "      <th>Month</th>\n",
       "      <th>DayofMonth</th>\n",
       "      <th>DayOfWeek</th>\n",
       "      <th>TaxiOut</th>\n",
       "      <th>TaxiIn</th>\n",
       "      <th>CRSArrTime</th>\n",
       "      <th>Origin_enc</th>\n",
       "      <th>Dest_enc</th>\n",
       "    </tr>\n",
       "  </thead>\n",
       "  <tbody>\n",
       "    <tr>\n",
       "      <th>0</th>\n",
       "      <td>2018-01-27</td>\n",
       "      <td>ATL</td>\n",
       "      <td>ORF</td>\n",
       "      <td>1608</td>\n",
       "      <td>1606.0</td>\n",
       "      <td>0.0</td>\n",
       "      <td>1730.0</td>\n",
       "      <td>0.0</td>\n",
       "      <td>516.0</td>\n",
       "      <td>1</td>\n",
       "      <td>1</td>\n",
       "      <td>27</td>\n",
       "      <td>6</td>\n",
       "      <td>8.0</td>\n",
       "      <td>3.0</td>\n",
       "      <td>1743</td>\n",
       "      <td>0.249874</td>\n",
       "      <td>0.003205</td>\n",
       "    </tr>\n",
       "    <tr>\n",
       "      <th>1</th>\n",
       "      <td>2018-01-27</td>\n",
       "      <td>ATL</td>\n",
       "      <td>GSO</td>\n",
       "      <td>1700</td>\n",
       "      <td>1656.0</td>\n",
       "      <td>0.0</td>\n",
       "      <td>1757.0</td>\n",
       "      <td>0.0</td>\n",
       "      <td>306.0</td>\n",
       "      <td>1</td>\n",
       "      <td>1</td>\n",
       "      <td>27</td>\n",
       "      <td>6</td>\n",
       "      <td>10.0</td>\n",
       "      <td>3.0</td>\n",
       "      <td>1815</td>\n",
       "      <td>0.249874</td>\n",
       "      <td>0.002590</td>\n",
       "    </tr>\n",
       "    <tr>\n",
       "      <th>2</th>\n",
       "      <td>2018-01-27</td>\n",
       "      <td>TPA</td>\n",
       "      <td>MSP</td>\n",
       "      <td>720</td>\n",
       "      <td>716.0</td>\n",
       "      <td>0.0</td>\n",
       "      <td>928.0</td>\n",
       "      <td>0.0</td>\n",
       "      <td>1306.0</td>\n",
       "      <td>1</td>\n",
       "      <td>1</td>\n",
       "      <td>27</td>\n",
       "      <td>6</td>\n",
       "      <td>15.0</td>\n",
       "      <td>4.0</td>\n",
       "      <td>947</td>\n",
       "      <td>0.013164</td>\n",
       "      <td>0.066681</td>\n",
       "    </tr>\n",
       "    <tr>\n",
       "      <th>3</th>\n",
       "      <td>2018-01-27</td>\n",
       "      <td>LIH</td>\n",
       "      <td>LAX</td>\n",
       "      <td>2225</td>\n",
       "      <td>2219.0</td>\n",
       "      <td>0.0</td>\n",
       "      <td>551.0</td>\n",
       "      <td>7.0</td>\n",
       "      <td>2615.0</td>\n",
       "      <td>1</td>\n",
       "      <td>1</td>\n",
       "      <td>27</td>\n",
       "      <td>6</td>\n",
       "      <td>17.0</td>\n",
       "      <td>4.0</td>\n",
       "      <td>544</td>\n",
       "      <td>0.000600</td>\n",
       "      <td>0.036706</td>\n",
       "    </tr>\n",
       "    <tr>\n",
       "      <th>4</th>\n",
       "      <td>2018-01-27</td>\n",
       "      <td>SMF</td>\n",
       "      <td>SLC</td>\n",
       "      <td>600</td>\n",
       "      <td>553.0</td>\n",
       "      <td>0.0</td>\n",
       "      <td>824.0</td>\n",
       "      <td>0.0</td>\n",
       "      <td>532.0</td>\n",
       "      <td>1</td>\n",
       "      <td>1</td>\n",
       "      <td>27</td>\n",
       "      <td>6</td>\n",
       "      <td>12.0</td>\n",
       "      <td>6.0</td>\n",
       "      <td>843</td>\n",
       "      <td>0.003509</td>\n",
       "      <td>0.055923</td>\n",
       "    </tr>\n",
       "  </tbody>\n",
       "</table>\n",
       "</div>"
      ],
      "text/plain": [
       "   FlightDate Origin Dest  CRSDepTime  DepTime  DepDelayMinutes  ArrTime  \\\n",
       "0  2018-01-27    ATL  ORF        1608   1606.0              0.0   1730.0   \n",
       "1  2018-01-27    ATL  GSO        1700   1656.0              0.0   1757.0   \n",
       "2  2018-01-27    TPA  MSP         720    716.0              0.0    928.0   \n",
       "3  2018-01-27    LIH  LAX        2225   2219.0              0.0    551.0   \n",
       "4  2018-01-27    SMF  SLC         600    553.0              0.0    824.0   \n",
       "\n",
       "   ArrDelayMinutes  Distance  Quarter  Month  DayofMonth  DayOfWeek  TaxiOut  \\\n",
       "0              0.0     516.0        1      1          27          6      8.0   \n",
       "1              0.0     306.0        1      1          27          6     10.0   \n",
       "2              0.0    1306.0        1      1          27          6     15.0   \n",
       "3              7.0    2615.0        1      1          27          6     17.0   \n",
       "4              0.0     532.0        1      1          27          6     12.0   \n",
       "\n",
       "   TaxiIn  CRSArrTime  Origin_enc  Dest_enc  \n",
       "0     3.0        1743    0.249874  0.003205  \n",
       "1     3.0        1815    0.249874  0.002590  \n",
       "2     4.0         947    0.013164  0.066681  \n",
       "3     4.0         544    0.000600  0.036706  \n",
       "4     6.0         843    0.003509  0.055923  "
      ]
     },
     "execution_count": 25,
     "metadata": {},
     "output_type": "execute_result"
    }
   ],
   "source": [
    "df_train['Dest_enc'] = df_train['Dest'].apply(lambda x : enc_nom_2[x])\n",
    "df_train.head()"
   ]
  },
  {
   "cell_type": "code",
   "execution_count": 26,
   "metadata": {},
   "outputs": [
    {
     "data": {
      "text/plain": [
       "(2741431, 16)"
      ]
     },
     "execution_count": 26,
     "metadata": {},
     "output_type": "execute_result"
    }
   ],
   "source": [
    "df_train = df_train.drop('Origin',axis = 1)\n",
    "df_train = df_train.drop('Dest',axis = 1)\n",
    "df_train.shape"
   ]
  },
  {
   "cell_type": "code",
   "execution_count": 27,
   "metadata": {},
   "outputs": [
    {
     "data": {
      "text/html": [
       "<div>\n",
       "<style scoped>\n",
       "    .dataframe tbody tr th:only-of-type {\n",
       "        vertical-align: middle;\n",
       "    }\n",
       "\n",
       "    .dataframe tbody tr th {\n",
       "        vertical-align: top;\n",
       "    }\n",
       "\n",
       "    .dataframe thead th {\n",
       "        text-align: right;\n",
       "    }\n",
       "</style>\n",
       "<table border=\"1\" class=\"dataframe\">\n",
       "  <thead>\n",
       "    <tr style=\"text-align: right;\">\n",
       "      <th></th>\n",
       "      <th>FlightDate</th>\n",
       "      <th>CRSDepTime</th>\n",
       "      <th>DepTime</th>\n",
       "      <th>DepDelayMinutes</th>\n",
       "      <th>ArrTime</th>\n",
       "      <th>ArrDelayMinutes</th>\n",
       "      <th>Distance</th>\n",
       "      <th>Quarter</th>\n",
       "      <th>Month</th>\n",
       "      <th>DayofMonth</th>\n",
       "      <th>DayOfWeek</th>\n",
       "      <th>TaxiOut</th>\n",
       "      <th>TaxiIn</th>\n",
       "      <th>CRSArrTime</th>\n",
       "      <th>Origin_enc</th>\n",
       "      <th>Dest_enc</th>\n",
       "    </tr>\n",
       "  </thead>\n",
       "  <tbody>\n",
       "    <tr>\n",
       "      <th>0</th>\n",
       "      <td>2018-01-27</td>\n",
       "      <td>1608</td>\n",
       "      <td>1606.0</td>\n",
       "      <td>0.0</td>\n",
       "      <td>1730.0</td>\n",
       "      <td>0.0</td>\n",
       "      <td>516.0</td>\n",
       "      <td>1</td>\n",
       "      <td>1</td>\n",
       "      <td>27</td>\n",
       "      <td>6</td>\n",
       "      <td>8.0</td>\n",
       "      <td>3.0</td>\n",
       "      <td>1743</td>\n",
       "      <td>0.249874</td>\n",
       "      <td>0.003205</td>\n",
       "    </tr>\n",
       "    <tr>\n",
       "      <th>1</th>\n",
       "      <td>2018-01-27</td>\n",
       "      <td>1700</td>\n",
       "      <td>1656.0</td>\n",
       "      <td>0.0</td>\n",
       "      <td>1757.0</td>\n",
       "      <td>0.0</td>\n",
       "      <td>306.0</td>\n",
       "      <td>1</td>\n",
       "      <td>1</td>\n",
       "      <td>27</td>\n",
       "      <td>6</td>\n",
       "      <td>10.0</td>\n",
       "      <td>3.0</td>\n",
       "      <td>1815</td>\n",
       "      <td>0.249874</td>\n",
       "      <td>0.002590</td>\n",
       "    </tr>\n",
       "    <tr>\n",
       "      <th>2</th>\n",
       "      <td>2018-01-27</td>\n",
       "      <td>720</td>\n",
       "      <td>716.0</td>\n",
       "      <td>0.0</td>\n",
       "      <td>928.0</td>\n",
       "      <td>0.0</td>\n",
       "      <td>1306.0</td>\n",
       "      <td>1</td>\n",
       "      <td>1</td>\n",
       "      <td>27</td>\n",
       "      <td>6</td>\n",
       "      <td>15.0</td>\n",
       "      <td>4.0</td>\n",
       "      <td>947</td>\n",
       "      <td>0.013164</td>\n",
       "      <td>0.066681</td>\n",
       "    </tr>\n",
       "    <tr>\n",
       "      <th>3</th>\n",
       "      <td>2018-01-27</td>\n",
       "      <td>2225</td>\n",
       "      <td>2219.0</td>\n",
       "      <td>0.0</td>\n",
       "      <td>551.0</td>\n",
       "      <td>7.0</td>\n",
       "      <td>2615.0</td>\n",
       "      <td>1</td>\n",
       "      <td>1</td>\n",
       "      <td>27</td>\n",
       "      <td>6</td>\n",
       "      <td>17.0</td>\n",
       "      <td>4.0</td>\n",
       "      <td>544</td>\n",
       "      <td>0.000600</td>\n",
       "      <td>0.036706</td>\n",
       "    </tr>\n",
       "    <tr>\n",
       "      <th>4</th>\n",
       "      <td>2018-01-27</td>\n",
       "      <td>600</td>\n",
       "      <td>553.0</td>\n",
       "      <td>0.0</td>\n",
       "      <td>824.0</td>\n",
       "      <td>0.0</td>\n",
       "      <td>532.0</td>\n",
       "      <td>1</td>\n",
       "      <td>1</td>\n",
       "      <td>27</td>\n",
       "      <td>6</td>\n",
       "      <td>12.0</td>\n",
       "      <td>6.0</td>\n",
       "      <td>843</td>\n",
       "      <td>0.003509</td>\n",
       "      <td>0.055923</td>\n",
       "    </tr>\n",
       "  </tbody>\n",
       "</table>\n",
       "</div>"
      ],
      "text/plain": [
       "   FlightDate  CRSDepTime  DepTime  DepDelayMinutes  ArrTime  ArrDelayMinutes  \\\n",
       "0  2018-01-27        1608   1606.0              0.0   1730.0              0.0   \n",
       "1  2018-01-27        1700   1656.0              0.0   1757.0              0.0   \n",
       "2  2018-01-27         720    716.0              0.0    928.0              0.0   \n",
       "3  2018-01-27        2225   2219.0              0.0    551.0              7.0   \n",
       "4  2018-01-27         600    553.0              0.0    824.0              0.0   \n",
       "\n",
       "   Distance  Quarter  Month  DayofMonth  DayOfWeek  TaxiOut  TaxiIn  \\\n",
       "0     516.0        1      1          27          6      8.0     3.0   \n",
       "1     306.0        1      1          27          6     10.0     3.0   \n",
       "2    1306.0        1      1          27          6     15.0     4.0   \n",
       "3    2615.0        1      1          27          6     17.0     4.0   \n",
       "4     532.0        1      1          27          6     12.0     6.0   \n",
       "\n",
       "   CRSArrTime  Origin_enc  Dest_enc  \n",
       "0        1743    0.249874  0.003205  \n",
       "1        1815    0.249874  0.002590  \n",
       "2         947    0.013164  0.066681  \n",
       "3         544    0.000600  0.036706  \n",
       "4         843    0.003509  0.055923  "
      ]
     },
     "execution_count": 27,
     "metadata": {},
     "output_type": "execute_result"
    }
   ],
   "source": [
    "df_train.head()"
   ]
  },
  {
   "cell_type": "markdown",
   "metadata": {},
   "source": [
    "### Test Data"
   ]
  },
  {
   "cell_type": "markdown",
   "metadata": {},
   "source": [
    "#### Column Origin"
   ]
  },
  {
   "cell_type": "code",
   "execution_count": 28,
   "metadata": {},
   "outputs": [
    {
     "data": {
      "text/plain": [
       "Origin\n",
       "ABQ    0.001258\n",
       "AGS    0.000112\n",
       "ALB    0.001224\n",
       "ANC    0.002844\n",
       "ATL    0.236814\n",
       "         ...   \n",
       "TUS    0.001434\n",
       "TVC    0.000136\n",
       "TYS    0.001562\n",
       "VPS    0.002419\n",
       "XNA    0.000585\n",
       "Length: 144, dtype: float64"
      ]
     },
     "execution_count": 28,
     "metadata": {},
     "output_type": "execute_result"
    }
   ],
   "source": [
    "enc_nom_1 = (df_test.groupby('Origin').size()) / len(df_test)\n",
    "enc_nom_1"
   ]
  },
  {
   "cell_type": "code",
   "execution_count": 29,
   "metadata": {},
   "outputs": [
    {
     "data": {
      "text/html": [
       "<div>\n",
       "<style scoped>\n",
       "    .dataframe tbody tr th:only-of-type {\n",
       "        vertical-align: middle;\n",
       "    }\n",
       "\n",
       "    .dataframe tbody tr th {\n",
       "        vertical-align: top;\n",
       "    }\n",
       "\n",
       "    .dataframe thead th {\n",
       "        text-align: right;\n",
       "    }\n",
       "</style>\n",
       "<table border=\"1\" class=\"dataframe\">\n",
       "  <thead>\n",
       "    <tr style=\"text-align: right;\">\n",
       "      <th></th>\n",
       "      <th>Origin</th>\n",
       "      <th>Dest</th>\n",
       "      <th>CRSDepTime</th>\n",
       "      <th>DepTime</th>\n",
       "      <th>DepDelayMinutes</th>\n",
       "      <th>ArrTime</th>\n",
       "      <th>ArrDelayMinutes</th>\n",
       "      <th>Distance</th>\n",
       "      <th>Quarter</th>\n",
       "      <th>Month</th>\n",
       "      <th>DayofMonth</th>\n",
       "      <th>DayOfWeek</th>\n",
       "      <th>TaxiOut</th>\n",
       "      <th>TaxiIn</th>\n",
       "      <th>CRSArrTime</th>\n",
       "      <th>Origin_enc</th>\n",
       "    </tr>\n",
       "  </thead>\n",
       "  <tbody>\n",
       "    <tr>\n",
       "      <th>0</th>\n",
       "      <td>ATL</td>\n",
       "      <td>DFW</td>\n",
       "      <td>1925</td>\n",
       "      <td>2026.0</td>\n",
       "      <td>61.0</td>\n",
       "      <td>2159.0</td>\n",
       "      <td>64.0</td>\n",
       "      <td>731.0</td>\n",
       "      <td>2</td>\n",
       "      <td>4</td>\n",
       "      <td>1</td>\n",
       "      <td>5</td>\n",
       "      <td>32.0</td>\n",
       "      <td>4.0</td>\n",
       "      <td>2055</td>\n",
       "      <td>0.236814</td>\n",
       "    </tr>\n",
       "    <tr>\n",
       "      <th>1</th>\n",
       "      <td>ATL</td>\n",
       "      <td>DFW</td>\n",
       "      <td>1830</td>\n",
       "      <td>1830.0</td>\n",
       "      <td>0.0</td>\n",
       "      <td>2003.0</td>\n",
       "      <td>4.0</td>\n",
       "      <td>731.0</td>\n",
       "      <td>2</td>\n",
       "      <td>4</td>\n",
       "      <td>2</td>\n",
       "      <td>6</td>\n",
       "      <td>25.0</td>\n",
       "      <td>16.0</td>\n",
       "      <td>1959</td>\n",
       "      <td>0.236814</td>\n",
       "    </tr>\n",
       "    <tr>\n",
       "      <th>2</th>\n",
       "      <td>ATL</td>\n",
       "      <td>DFW</td>\n",
       "      <td>1925</td>\n",
       "      <td>1934.0</td>\n",
       "      <td>9.0</td>\n",
       "      <td>2046.0</td>\n",
       "      <td>0.0</td>\n",
       "      <td>731.0</td>\n",
       "      <td>2</td>\n",
       "      <td>4</td>\n",
       "      <td>3</td>\n",
       "      <td>7</td>\n",
       "      <td>17.0</td>\n",
       "      <td>7.0</td>\n",
       "      <td>2055</td>\n",
       "      <td>0.236814</td>\n",
       "    </tr>\n",
       "    <tr>\n",
       "      <th>3</th>\n",
       "      <td>ATL</td>\n",
       "      <td>DFW</td>\n",
       "      <td>1925</td>\n",
       "      <td>1945.0</td>\n",
       "      <td>20.0</td>\n",
       "      <td>2056.0</td>\n",
       "      <td>1.0</td>\n",
       "      <td>731.0</td>\n",
       "      <td>2</td>\n",
       "      <td>4</td>\n",
       "      <td>4</td>\n",
       "      <td>1</td>\n",
       "      <td>12.0</td>\n",
       "      <td>5.0</td>\n",
       "      <td>2055</td>\n",
       "      <td>0.236814</td>\n",
       "    </tr>\n",
       "    <tr>\n",
       "      <th>4</th>\n",
       "      <td>ATL</td>\n",
       "      <td>DFW</td>\n",
       "      <td>1925</td>\n",
       "      <td>2001.0</td>\n",
       "      <td>36.0</td>\n",
       "      <td>2115.0</td>\n",
       "      <td>20.0</td>\n",
       "      <td>731.0</td>\n",
       "      <td>2</td>\n",
       "      <td>4</td>\n",
       "      <td>5</td>\n",
       "      <td>2</td>\n",
       "      <td>18.0</td>\n",
       "      <td>5.0</td>\n",
       "      <td>2055</td>\n",
       "      <td>0.236814</td>\n",
       "    </tr>\n",
       "  </tbody>\n",
       "</table>\n",
       "</div>"
      ],
      "text/plain": [
       "  Origin Dest  CRSDepTime  DepTime  DepDelayMinutes  ArrTime  ArrDelayMinutes  \\\n",
       "0    ATL  DFW        1925   2026.0             61.0   2159.0             64.0   \n",
       "1    ATL  DFW        1830   1830.0              0.0   2003.0              4.0   \n",
       "2    ATL  DFW        1925   1934.0              9.0   2046.0              0.0   \n",
       "3    ATL  DFW        1925   1945.0             20.0   2056.0              1.0   \n",
       "4    ATL  DFW        1925   2001.0             36.0   2115.0             20.0   \n",
       "\n",
       "   Distance  Quarter  Month  DayofMonth  DayOfWeek  TaxiOut  TaxiIn  \\\n",
       "0     731.0        2      4           1          5     32.0     4.0   \n",
       "1     731.0        2      4           2          6     25.0    16.0   \n",
       "2     731.0        2      4           3          7     17.0     7.0   \n",
       "3     731.0        2      4           4          1     12.0     5.0   \n",
       "4     731.0        2      4           5          2     18.0     5.0   \n",
       "\n",
       "   CRSArrTime  Origin_enc  \n",
       "0        2055    0.236814  \n",
       "1        1959    0.236814  \n",
       "2        2055    0.236814  \n",
       "3        2055    0.236814  \n",
       "4        2055    0.236814  "
      ]
     },
     "execution_count": 29,
     "metadata": {},
     "output_type": "execute_result"
    }
   ],
   "source": [
    "df_test['Origin_enc'] = df_test['Origin'].apply(lambda x : enc_nom_1[x])\n",
    "df_test.head()"
   ]
  },
  {
   "cell_type": "markdown",
   "metadata": {},
   "source": [
    "#### Column Destination"
   ]
  },
  {
   "cell_type": "code",
   "execution_count": 30,
   "metadata": {},
   "outputs": [
    {
     "data": {
      "text/plain": [
       "Dest\n",
       "ABQ    0.001262\n",
       "AGS    0.000112\n",
       "ALB    0.001230\n",
       "ANC    0.002838\n",
       "ATL    0.236510\n",
       "         ...   \n",
       "TUS    0.001434\n",
       "TVC    0.000138\n",
       "TYS    0.001570\n",
       "VPS    0.002423\n",
       "XNA    0.000587\n",
       "Length: 144, dtype: float64"
      ]
     },
     "execution_count": 30,
     "metadata": {},
     "output_type": "execute_result"
    }
   ],
   "source": [
    "enc_nom_2 = (df_test.groupby('Dest').size()) / len(df_test)\n",
    "enc_nom_2"
   ]
  },
  {
   "cell_type": "code",
   "execution_count": 31,
   "metadata": {},
   "outputs": [
    {
     "data": {
      "text/html": [
       "<div>\n",
       "<style scoped>\n",
       "    .dataframe tbody tr th:only-of-type {\n",
       "        vertical-align: middle;\n",
       "    }\n",
       "\n",
       "    .dataframe tbody tr th {\n",
       "        vertical-align: top;\n",
       "    }\n",
       "\n",
       "    .dataframe thead th {\n",
       "        text-align: right;\n",
       "    }\n",
       "</style>\n",
       "<table border=\"1\" class=\"dataframe\">\n",
       "  <thead>\n",
       "    <tr style=\"text-align: right;\">\n",
       "      <th></th>\n",
       "      <th>Origin</th>\n",
       "      <th>Dest</th>\n",
       "      <th>CRSDepTime</th>\n",
       "      <th>DepTime</th>\n",
       "      <th>DepDelayMinutes</th>\n",
       "      <th>ArrTime</th>\n",
       "      <th>ArrDelayMinutes</th>\n",
       "      <th>Distance</th>\n",
       "      <th>Quarter</th>\n",
       "      <th>Month</th>\n",
       "      <th>DayofMonth</th>\n",
       "      <th>DayOfWeek</th>\n",
       "      <th>TaxiOut</th>\n",
       "      <th>TaxiIn</th>\n",
       "      <th>CRSArrTime</th>\n",
       "      <th>Origin_enc</th>\n",
       "      <th>Dest_enc</th>\n",
       "    </tr>\n",
       "  </thead>\n",
       "  <tbody>\n",
       "    <tr>\n",
       "      <th>0</th>\n",
       "      <td>ATL</td>\n",
       "      <td>DFW</td>\n",
       "      <td>1925</td>\n",
       "      <td>2026.0</td>\n",
       "      <td>61.0</td>\n",
       "      <td>2159.0</td>\n",
       "      <td>64.0</td>\n",
       "      <td>731.0</td>\n",
       "      <td>2</td>\n",
       "      <td>4</td>\n",
       "      <td>1</td>\n",
       "      <td>5</td>\n",
       "      <td>32.0</td>\n",
       "      <td>4.0</td>\n",
       "      <td>2055</td>\n",
       "      <td>0.236814</td>\n",
       "      <td>0.012215</td>\n",
       "    </tr>\n",
       "    <tr>\n",
       "      <th>1</th>\n",
       "      <td>ATL</td>\n",
       "      <td>DFW</td>\n",
       "      <td>1830</td>\n",
       "      <td>1830.0</td>\n",
       "      <td>0.0</td>\n",
       "      <td>2003.0</td>\n",
       "      <td>4.0</td>\n",
       "      <td>731.0</td>\n",
       "      <td>2</td>\n",
       "      <td>4</td>\n",
       "      <td>2</td>\n",
       "      <td>6</td>\n",
       "      <td>25.0</td>\n",
       "      <td>16.0</td>\n",
       "      <td>1959</td>\n",
       "      <td>0.236814</td>\n",
       "      <td>0.012215</td>\n",
       "    </tr>\n",
       "    <tr>\n",
       "      <th>2</th>\n",
       "      <td>ATL</td>\n",
       "      <td>DFW</td>\n",
       "      <td>1925</td>\n",
       "      <td>1934.0</td>\n",
       "      <td>9.0</td>\n",
       "      <td>2046.0</td>\n",
       "      <td>0.0</td>\n",
       "      <td>731.0</td>\n",
       "      <td>2</td>\n",
       "      <td>4</td>\n",
       "      <td>3</td>\n",
       "      <td>7</td>\n",
       "      <td>17.0</td>\n",
       "      <td>7.0</td>\n",
       "      <td>2055</td>\n",
       "      <td>0.236814</td>\n",
       "      <td>0.012215</td>\n",
       "    </tr>\n",
       "    <tr>\n",
       "      <th>3</th>\n",
       "      <td>ATL</td>\n",
       "      <td>DFW</td>\n",
       "      <td>1925</td>\n",
       "      <td>1945.0</td>\n",
       "      <td>20.0</td>\n",
       "      <td>2056.0</td>\n",
       "      <td>1.0</td>\n",
       "      <td>731.0</td>\n",
       "      <td>2</td>\n",
       "      <td>4</td>\n",
       "      <td>4</td>\n",
       "      <td>1</td>\n",
       "      <td>12.0</td>\n",
       "      <td>5.0</td>\n",
       "      <td>2055</td>\n",
       "      <td>0.236814</td>\n",
       "      <td>0.012215</td>\n",
       "    </tr>\n",
       "    <tr>\n",
       "      <th>4</th>\n",
       "      <td>ATL</td>\n",
       "      <td>DFW</td>\n",
       "      <td>1925</td>\n",
       "      <td>2001.0</td>\n",
       "      <td>36.0</td>\n",
       "      <td>2115.0</td>\n",
       "      <td>20.0</td>\n",
       "      <td>731.0</td>\n",
       "      <td>2</td>\n",
       "      <td>4</td>\n",
       "      <td>5</td>\n",
       "      <td>2</td>\n",
       "      <td>18.0</td>\n",
       "      <td>5.0</td>\n",
       "      <td>2055</td>\n",
       "      <td>0.236814</td>\n",
       "      <td>0.012215</td>\n",
       "    </tr>\n",
       "  </tbody>\n",
       "</table>\n",
       "</div>"
      ],
      "text/plain": [
       "  Origin Dest  CRSDepTime  DepTime  DepDelayMinutes  ArrTime  ArrDelayMinutes  \\\n",
       "0    ATL  DFW        1925   2026.0             61.0   2159.0             64.0   \n",
       "1    ATL  DFW        1830   1830.0              0.0   2003.0              4.0   \n",
       "2    ATL  DFW        1925   1934.0              9.0   2046.0              0.0   \n",
       "3    ATL  DFW        1925   1945.0             20.0   2056.0              1.0   \n",
       "4    ATL  DFW        1925   2001.0             36.0   2115.0             20.0   \n",
       "\n",
       "   Distance  Quarter  Month  DayofMonth  DayOfWeek  TaxiOut  TaxiIn  \\\n",
       "0     731.0        2      4           1          5     32.0     4.0   \n",
       "1     731.0        2      4           2          6     25.0    16.0   \n",
       "2     731.0        2      4           3          7     17.0     7.0   \n",
       "3     731.0        2      4           4          1     12.0     5.0   \n",
       "4     731.0        2      4           5          2     18.0     5.0   \n",
       "\n",
       "   CRSArrTime  Origin_enc  Dest_enc  \n",
       "0        2055    0.236814  0.012215  \n",
       "1        1959    0.236814  0.012215  \n",
       "2        2055    0.236814  0.012215  \n",
       "3        2055    0.236814  0.012215  \n",
       "4        2055    0.236814  0.012215  "
      ]
     },
     "execution_count": 31,
     "metadata": {},
     "output_type": "execute_result"
    }
   ],
   "source": [
    "df_test['Dest_enc'] = df_test['Dest'].apply(lambda x : enc_nom_2[x])\n",
    "df_test.head()"
   ]
  },
  {
   "cell_type": "code",
   "execution_count": 32,
   "metadata": {},
   "outputs": [
    {
     "data": {
      "text/plain": [
       "(500710, 15)"
      ]
     },
     "execution_count": 32,
     "metadata": {},
     "output_type": "execute_result"
    }
   ],
   "source": [
    "df_test = df_test.drop('Origin',axis = 1)\n",
    "df_test = df_test.drop('Dest',axis = 1)\n",
    "df_test.shape"
   ]
  },
  {
   "cell_type": "markdown",
   "metadata": {},
   "source": [
    "## Correlation matrix"
   ]
  },
  {
   "cell_type": "code",
   "execution_count": 33,
   "metadata": {},
   "outputs": [
    {
     "data": {
      "application/vnd.plotly.v1+json": {
       "config": {
        "plotlyServerURL": "https://plot.ly"
       },
       "data": [
        {
         "coloraxis": "coloraxis",
         "hovertemplate": "x: %{x}<br>y: %{y}<br>Correlation: %{z}<extra></extra>",
         "name": "0",
         "type": "heatmap",
         "x": [
          "CRSDepTime",
          "DepTime",
          "DepDelayMinutes",
          "ArrTime",
          "ArrDelayMinutes",
          "Distance",
          "Quarter",
          "Month",
          "DayofMonth",
          "DayOfWeek",
          "TaxiOut",
          "TaxiIn",
          "CRSArrTime",
          "Origin_enc",
          "Dest_enc"
         ],
         "xaxis": "x",
         "y": [
          "CRSDepTime",
          "DepTime",
          "DepDelayMinutes",
          "ArrTime",
          "ArrDelayMinutes",
          "Distance",
          "Quarter",
          "Month",
          "DayofMonth",
          "DayOfWeek",
          "TaxiOut",
          "TaxiIn",
          "CRSArrTime",
          "Origin_enc",
          "Dest_enc"
         ],
         "yaxis": "y",
         "z": [
          [
           1,
           0.9678878137188127,
           0.06294365062827151,
           0.6295171120536239,
           0.05074682734460046,
           -0.01573087866877601,
           -0.003100412275530457,
           -0.002548879713440134,
           -0.0012869960217995794,
           0.005937333927033173,
           -0.014793212285858741,
           -0.023801986346517014,
           0.6853839903547292,
           0.2289877579802988,
           -0.19519727829662822
          ],
          [
           0.9678878137188127,
           1,
           0.07917086790730667,
           0.6486498620712038,
           0.06632977726147671,
           -0.0156111409574211,
           -0.003100410880782438,
           -0.0025597888961707465,
           -0.001980817496314688,
           0.0062747588847136705,
           -0.006107834409825378,
           -0.01971426083126173,
           0.6873931774454506,
           0.22283452155256334,
           -0.19335270340944194
          ],
          [
           0.06294365062827151,
           0.07917086790730667,
           1,
           -0.006354602004769773,
           0.976717654756685,
           0.0187575312470807,
           -0.008443309157446368,
           -0.009562146106868088,
           -0.0017625097018623998,
           0.003616379545072953,
           0.0735174249908634,
           0.029747370742297122,
           0.05762657592374327,
           -0.013238055864942458,
           -0.012946006654836638
          ],
          [
           0.6295171120536239,
           0.6486498620712038,
           -0.006354602004769773,
           1,
           -0.011741852422239706,
           0.021687457491921136,
           -0.004504385536423751,
           -0.004262906837479171,
           -0.0027223037266071583,
           0.005800354441149213,
           0.0016376779098607052,
           0.012499465405652874,
           0.8710627393103266,
           0.10056995458502416,
           -0.10823198587310923
          ],
          [
           0.05074682734460046,
           0.06632977726147671,
           0.976717654756685,
           -0.011741852422239706,
           1,
           0.015175095128582854,
           -0.006566079727073123,
           -0.007737252749318572,
           -0.0027330215271117726,
           0.0022313374428390145,
           0.18250570797228438,
           0.0884817463889996,
           0.048669668130818376,
           -0.016892373876443233,
           -0.01161389831986933
          ],
          [
           -0.01573087866877601,
           -0.0156111409574211,
           0.0187575312470807,
           0.021687457491921136,
           0.015175095128582854,
           1,
           -0.01072981530211924,
           -0.009185910387826077,
           0.005848589804144673,
           0.013288055019943294,
           0.08052389274021385,
           0.10152023280348477,
           0.025565508935502856,
           -0.16826987399212248,
           -0.1685475194823097
          ],
          [
           -0.003100412275530457,
           -0.003100410880782438,
           -0.008443309157446368,
           -0.004504385536423751,
           -0.006566079727073123,
           -0.01072981530211924,
           1,
           0.9728973776004183,
           0.004916255911422865,
           0.006947187486719991,
           -0.023914280357196303,
           0.014851509004360131,
           -0.004389042502292679,
           0.0004543336877029895,
           0.0005652587719725884
          ],
          [
           -0.002548879713440134,
           -0.0025597888961707465,
           -0.009562146106868088,
           -0.004262906837479171,
           -0.007737252749318572,
           -0.009185910387826077,
           0.9728973776004183,
           1,
           0.001032192813772812,
           0.009632689191450008,
           -0.025041554960345214,
           0.015691541578900008,
           -0.0042524018960208255,
           -0.00024105232527997777,
           -0.00010454959984766734
          ],
          [
           -0.0012869960217995794,
           -0.001980817496314688,
           -0.0017625097018623998,
           -0.0027223037266071583,
           -0.0027330215271117726,
           0.005848589804144673,
           0.004916255911422865,
           0.001032192813772812,
           1,
           0.01140864021541878,
           -0.002065869638022315,
           0.004926127273075588,
           -0.001777049530306528,
           -0.0005634739234246542,
           -0.00029076952444934606
          ],
          [
           0.005937333927033173,
           0.0062747588847136705,
           0.003616379545072953,
           0.005800354441149213,
           0.0022313374428390145,
           0.013288055019943294,
           0.006947187486719991,
           0.009632689191450008,
           0.01140864021541878,
           1,
           -0.01444699018873514,
           0.0037665932100671338,
           0.005474894622362145,
           -0.0006339602616607468,
           -0.0011313732460136216
          ],
          [
           -0.014793212285858741,
           -0.006107834409825378,
           0.0735174249908634,
           0.0016376779098607052,
           0.18250570797228438,
           0.08052389274021385,
           -0.023914280357196303,
           -0.025041554960345214,
           -0.002065869638022315,
           -0.01444699018873514,
           1,
           0.02854389388731392,
           0.00591408975223088,
           -0.039714160932405373,
           -0.05617476888045829
          ],
          [
           -0.023801986346517014,
           -0.01971426083126173,
           0.029747370742297122,
           0.012499465405652874,
           0.0884817463889996,
           0.10152023280348477,
           0.014851509004360131,
           0.015691541578900008,
           0.004926127273075588,
           0.0037665932100671338,
           0.02854389388731392,
           1,
           0.012411689751066405,
           -0.1657673998142612,
           0.10945966774856025
          ],
          [
           0.6853839903547292,
           0.6873931774454506,
           0.05762657592374327,
           0.8710627393103266,
           0.048669668130818376,
           0.025565508935502856,
           -0.004389042502292679,
           -0.0042524018960208255,
           -0.001777049530306528,
           0.005474894622362145,
           0.00591408975223088,
           0.012411689751066405,
           1,
           0.11121134429858465,
           -0.12530439827132628
          ],
          [
           0.2289877579802988,
           0.22283452155256334,
           -0.013238055864942458,
           0.10056995458502416,
           -0.016892373876443233,
           -0.16826987399212248,
           0.0004543336877029895,
           -0.00024105232527997777,
           -0.0005634739234246542,
           -0.0006339602616607468,
           -0.039714160932405373,
           -0.1657673998142612,
           0.11121134429858465,
           1,
           -0.4966460284441178
          ],
          [
           -0.19519727829662822,
           -0.19335270340944194,
           -0.012946006654836638,
           -0.10823198587310923,
           -0.01161389831986933,
           -0.1685475194823097,
           0.0005652587719725884,
           -0.00010454959984766734,
           -0.00029076952444934606,
           -0.0011313732460136216,
           -0.05617476888045829,
           0.10945966774856025,
           -0.12530439827132628,
           -0.4966460284441178,
           1
          ]
         ]
        }
       ],
       "layout": {
        "coloraxis": {
         "colorbar": {
          "title": {
           "text": "Correlation"
          }
         },
         "colorscale": [
          [
           0,
           "#440154"
          ],
          [
           0.1111111111111111,
           "#482878"
          ],
          [
           0.2222222222222222,
           "#3e4989"
          ],
          [
           0.3333333333333333,
           "#31688e"
          ],
          [
           0.4444444444444444,
           "#26828e"
          ],
          [
           0.5555555555555556,
           "#1f9e89"
          ],
          [
           0.6666666666666666,
           "#35b779"
          ],
          [
           0.7777777777777778,
           "#6ece58"
          ],
          [
           0.8888888888888888,
           "#b5de2b"
          ],
          [
           1,
           "#fde725"
          ]
         ]
        },
        "height": 800,
        "template": {
         "data": {
          "bar": [
           {
            "error_x": {
             "color": "#2a3f5f"
            },
            "error_y": {
             "color": "#2a3f5f"
            },
            "marker": {
             "line": {
              "color": "#E5ECF6",
              "width": 0.5
             },
             "pattern": {
              "fillmode": "overlay",
              "size": 10,
              "solidity": 0.2
             }
            },
            "type": "bar"
           }
          ],
          "barpolar": [
           {
            "marker": {
             "line": {
              "color": "#E5ECF6",
              "width": 0.5
             },
             "pattern": {
              "fillmode": "overlay",
              "size": 10,
              "solidity": 0.2
             }
            },
            "type": "barpolar"
           }
          ],
          "carpet": [
           {
            "aaxis": {
             "endlinecolor": "#2a3f5f",
             "gridcolor": "white",
             "linecolor": "white",
             "minorgridcolor": "white",
             "startlinecolor": "#2a3f5f"
            },
            "baxis": {
             "endlinecolor": "#2a3f5f",
             "gridcolor": "white",
             "linecolor": "white",
             "minorgridcolor": "white",
             "startlinecolor": "#2a3f5f"
            },
            "type": "carpet"
           }
          ],
          "choropleth": [
           {
            "colorbar": {
             "outlinewidth": 0,
             "ticks": ""
            },
            "type": "choropleth"
           }
          ],
          "contour": [
           {
            "colorbar": {
             "outlinewidth": 0,
             "ticks": ""
            },
            "colorscale": [
             [
              0,
              "#0d0887"
             ],
             [
              0.1111111111111111,
              "#46039f"
             ],
             [
              0.2222222222222222,
              "#7201a8"
             ],
             [
              0.3333333333333333,
              "#9c179e"
             ],
             [
              0.4444444444444444,
              "#bd3786"
             ],
             [
              0.5555555555555556,
              "#d8576b"
             ],
             [
              0.6666666666666666,
              "#ed7953"
             ],
             [
              0.7777777777777778,
              "#fb9f3a"
             ],
             [
              0.8888888888888888,
              "#fdca26"
             ],
             [
              1,
              "#f0f921"
             ]
            ],
            "type": "contour"
           }
          ],
          "contourcarpet": [
           {
            "colorbar": {
             "outlinewidth": 0,
             "ticks": ""
            },
            "type": "contourcarpet"
           }
          ],
          "heatmap": [
           {
            "colorbar": {
             "outlinewidth": 0,
             "ticks": ""
            },
            "colorscale": [
             [
              0,
              "#0d0887"
             ],
             [
              0.1111111111111111,
              "#46039f"
             ],
             [
              0.2222222222222222,
              "#7201a8"
             ],
             [
              0.3333333333333333,
              "#9c179e"
             ],
             [
              0.4444444444444444,
              "#bd3786"
             ],
             [
              0.5555555555555556,
              "#d8576b"
             ],
             [
              0.6666666666666666,
              "#ed7953"
             ],
             [
              0.7777777777777778,
              "#fb9f3a"
             ],
             [
              0.8888888888888888,
              "#fdca26"
             ],
             [
              1,
              "#f0f921"
             ]
            ],
            "type": "heatmap"
           }
          ],
          "heatmapgl": [
           {
            "colorbar": {
             "outlinewidth": 0,
             "ticks": ""
            },
            "colorscale": [
             [
              0,
              "#0d0887"
             ],
             [
              0.1111111111111111,
              "#46039f"
             ],
             [
              0.2222222222222222,
              "#7201a8"
             ],
             [
              0.3333333333333333,
              "#9c179e"
             ],
             [
              0.4444444444444444,
              "#bd3786"
             ],
             [
              0.5555555555555556,
              "#d8576b"
             ],
             [
              0.6666666666666666,
              "#ed7953"
             ],
             [
              0.7777777777777778,
              "#fb9f3a"
             ],
             [
              0.8888888888888888,
              "#fdca26"
             ],
             [
              1,
              "#f0f921"
             ]
            ],
            "type": "heatmapgl"
           }
          ],
          "histogram": [
           {
            "marker": {
             "pattern": {
              "fillmode": "overlay",
              "size": 10,
              "solidity": 0.2
             }
            },
            "type": "histogram"
           }
          ],
          "histogram2d": [
           {
            "colorbar": {
             "outlinewidth": 0,
             "ticks": ""
            },
            "colorscale": [
             [
              0,
              "#0d0887"
             ],
             [
              0.1111111111111111,
              "#46039f"
             ],
             [
              0.2222222222222222,
              "#7201a8"
             ],
             [
              0.3333333333333333,
              "#9c179e"
             ],
             [
              0.4444444444444444,
              "#bd3786"
             ],
             [
              0.5555555555555556,
              "#d8576b"
             ],
             [
              0.6666666666666666,
              "#ed7953"
             ],
             [
              0.7777777777777778,
              "#fb9f3a"
             ],
             [
              0.8888888888888888,
              "#fdca26"
             ],
             [
              1,
              "#f0f921"
             ]
            ],
            "type": "histogram2d"
           }
          ],
          "histogram2dcontour": [
           {
            "colorbar": {
             "outlinewidth": 0,
             "ticks": ""
            },
            "colorscale": [
             [
              0,
              "#0d0887"
             ],
             [
              0.1111111111111111,
              "#46039f"
             ],
             [
              0.2222222222222222,
              "#7201a8"
             ],
             [
              0.3333333333333333,
              "#9c179e"
             ],
             [
              0.4444444444444444,
              "#bd3786"
             ],
             [
              0.5555555555555556,
              "#d8576b"
             ],
             [
              0.6666666666666666,
              "#ed7953"
             ],
             [
              0.7777777777777778,
              "#fb9f3a"
             ],
             [
              0.8888888888888888,
              "#fdca26"
             ],
             [
              1,
              "#f0f921"
             ]
            ],
            "type": "histogram2dcontour"
           }
          ],
          "mesh3d": [
           {
            "colorbar": {
             "outlinewidth": 0,
             "ticks": ""
            },
            "type": "mesh3d"
           }
          ],
          "parcoords": [
           {
            "line": {
             "colorbar": {
              "outlinewidth": 0,
              "ticks": ""
             }
            },
            "type": "parcoords"
           }
          ],
          "pie": [
           {
            "automargin": true,
            "type": "pie"
           }
          ],
          "scatter": [
           {
            "fillpattern": {
             "fillmode": "overlay",
             "size": 10,
             "solidity": 0.2
            },
            "type": "scatter"
           }
          ],
          "scatter3d": [
           {
            "line": {
             "colorbar": {
              "outlinewidth": 0,
              "ticks": ""
             }
            },
            "marker": {
             "colorbar": {
              "outlinewidth": 0,
              "ticks": ""
             }
            },
            "type": "scatter3d"
           }
          ],
          "scattercarpet": [
           {
            "marker": {
             "colorbar": {
              "outlinewidth": 0,
              "ticks": ""
             }
            },
            "type": "scattercarpet"
           }
          ],
          "scattergeo": [
           {
            "marker": {
             "colorbar": {
              "outlinewidth": 0,
              "ticks": ""
             }
            },
            "type": "scattergeo"
           }
          ],
          "scattergl": [
           {
            "marker": {
             "colorbar": {
              "outlinewidth": 0,
              "ticks": ""
             }
            },
            "type": "scattergl"
           }
          ],
          "scattermapbox": [
           {
            "marker": {
             "colorbar": {
              "outlinewidth": 0,
              "ticks": ""
             }
            },
            "type": "scattermapbox"
           }
          ],
          "scatterpolar": [
           {
            "marker": {
             "colorbar": {
              "outlinewidth": 0,
              "ticks": ""
             }
            },
            "type": "scatterpolar"
           }
          ],
          "scatterpolargl": [
           {
            "marker": {
             "colorbar": {
              "outlinewidth": 0,
              "ticks": ""
             }
            },
            "type": "scatterpolargl"
           }
          ],
          "scatterternary": [
           {
            "marker": {
             "colorbar": {
              "outlinewidth": 0,
              "ticks": ""
             }
            },
            "type": "scatterternary"
           }
          ],
          "surface": [
           {
            "colorbar": {
             "outlinewidth": 0,
             "ticks": ""
            },
            "colorscale": [
             [
              0,
              "#0d0887"
             ],
             [
              0.1111111111111111,
              "#46039f"
             ],
             [
              0.2222222222222222,
              "#7201a8"
             ],
             [
              0.3333333333333333,
              "#9c179e"
             ],
             [
              0.4444444444444444,
              "#bd3786"
             ],
             [
              0.5555555555555556,
              "#d8576b"
             ],
             [
              0.6666666666666666,
              "#ed7953"
             ],
             [
              0.7777777777777778,
              "#fb9f3a"
             ],
             [
              0.8888888888888888,
              "#fdca26"
             ],
             [
              1,
              "#f0f921"
             ]
            ],
            "type": "surface"
           }
          ],
          "table": [
           {
            "cells": {
             "fill": {
              "color": "#EBF0F8"
             },
             "line": {
              "color": "white"
             }
            },
            "header": {
             "fill": {
              "color": "#C8D4E3"
             },
             "line": {
              "color": "white"
             }
            },
            "type": "table"
           }
          ]
         },
         "layout": {
          "annotationdefaults": {
           "arrowcolor": "#2a3f5f",
           "arrowhead": 0,
           "arrowwidth": 1
          },
          "autotypenumbers": "strict",
          "coloraxis": {
           "colorbar": {
            "outlinewidth": 0,
            "ticks": ""
           }
          },
          "colorscale": {
           "diverging": [
            [
             0,
             "#8e0152"
            ],
            [
             0.1,
             "#c51b7d"
            ],
            [
             0.2,
             "#de77ae"
            ],
            [
             0.3,
             "#f1b6da"
            ],
            [
             0.4,
             "#fde0ef"
            ],
            [
             0.5,
             "#f7f7f7"
            ],
            [
             0.6,
             "#e6f5d0"
            ],
            [
             0.7,
             "#b8e186"
            ],
            [
             0.8,
             "#7fbc41"
            ],
            [
             0.9,
             "#4d9221"
            ],
            [
             1,
             "#276419"
            ]
           ],
           "sequential": [
            [
             0,
             "#0d0887"
            ],
            [
             0.1111111111111111,
             "#46039f"
            ],
            [
             0.2222222222222222,
             "#7201a8"
            ],
            [
             0.3333333333333333,
             "#9c179e"
            ],
            [
             0.4444444444444444,
             "#bd3786"
            ],
            [
             0.5555555555555556,
             "#d8576b"
            ],
            [
             0.6666666666666666,
             "#ed7953"
            ],
            [
             0.7777777777777778,
             "#fb9f3a"
            ],
            [
             0.8888888888888888,
             "#fdca26"
            ],
            [
             1,
             "#f0f921"
            ]
           ],
           "sequentialminus": [
            [
             0,
             "#0d0887"
            ],
            [
             0.1111111111111111,
             "#46039f"
            ],
            [
             0.2222222222222222,
             "#7201a8"
            ],
            [
             0.3333333333333333,
             "#9c179e"
            ],
            [
             0.4444444444444444,
             "#bd3786"
            ],
            [
             0.5555555555555556,
             "#d8576b"
            ],
            [
             0.6666666666666666,
             "#ed7953"
            ],
            [
             0.7777777777777778,
             "#fb9f3a"
            ],
            [
             0.8888888888888888,
             "#fdca26"
            ],
            [
             1,
             "#f0f921"
            ]
           ]
          },
          "colorway": [
           "#636efa",
           "#EF553B",
           "#00cc96",
           "#ab63fa",
           "#FFA15A",
           "#19d3f3",
           "#FF6692",
           "#B6E880",
           "#FF97FF",
           "#FECB52"
          ],
          "font": {
           "color": "#2a3f5f"
          },
          "geo": {
           "bgcolor": "white",
           "lakecolor": "white",
           "landcolor": "#E5ECF6",
           "showlakes": true,
           "showland": true,
           "subunitcolor": "white"
          },
          "hoverlabel": {
           "align": "left"
          },
          "hovermode": "closest",
          "mapbox": {
           "style": "light"
          },
          "paper_bgcolor": "white",
          "plot_bgcolor": "#E5ECF6",
          "polar": {
           "angularaxis": {
            "gridcolor": "white",
            "linecolor": "white",
            "ticks": ""
           },
           "bgcolor": "#E5ECF6",
           "radialaxis": {
            "gridcolor": "white",
            "linecolor": "white",
            "ticks": ""
           }
          },
          "scene": {
           "xaxis": {
            "backgroundcolor": "#E5ECF6",
            "gridcolor": "white",
            "gridwidth": 2,
            "linecolor": "white",
            "showbackground": true,
            "ticks": "",
            "zerolinecolor": "white"
           },
           "yaxis": {
            "backgroundcolor": "#E5ECF6",
            "gridcolor": "white",
            "gridwidth": 2,
            "linecolor": "white",
            "showbackground": true,
            "ticks": "",
            "zerolinecolor": "white"
           },
           "zaxis": {
            "backgroundcolor": "#E5ECF6",
            "gridcolor": "white",
            "gridwidth": 2,
            "linecolor": "white",
            "showbackground": true,
            "ticks": "",
            "zerolinecolor": "white"
           }
          },
          "shapedefaults": {
           "line": {
            "color": "#2a3f5f"
           }
          },
          "ternary": {
           "aaxis": {
            "gridcolor": "white",
            "linecolor": "white",
            "ticks": ""
           },
           "baxis": {
            "gridcolor": "white",
            "linecolor": "white",
            "ticks": ""
           },
           "bgcolor": "#E5ECF6",
           "caxis": {
            "gridcolor": "white",
            "linecolor": "white",
            "ticks": ""
           }
          },
          "title": {
           "x": 0.05
          },
          "xaxis": {
           "automargin": true,
           "gridcolor": "white",
           "linecolor": "white",
           "ticks": "",
           "title": {
            "standoff": 15
           },
           "zerolinecolor": "white",
           "zerolinewidth": 2
          },
          "yaxis": {
           "automargin": true,
           "gridcolor": "white",
           "linecolor": "white",
           "ticks": "",
           "title": {
            "standoff": 15
           },
           "zerolinecolor": "white",
           "zerolinewidth": 2
          }
         }
        },
        "title": {
         "text": "Correlation Matrix"
        },
        "width": 800,
        "xaxis": {
         "anchor": "y",
         "constrain": "domain",
         "domain": [
          0,
          1
         ],
         "scaleanchor": "y"
        },
        "yaxis": {
         "anchor": "x",
         "autorange": "reversed",
         "constrain": "domain",
         "domain": [
          0,
          1
         ]
        }
       }
      }
     },
     "metadata": {},
     "output_type": "display_data"
    }
   ],
   "source": [
    "import plotly.express as px\n",
    "df_corr=df_train.drop('FlightDate',axis=1)\n",
    "corrmat = df_corr.corr() \n",
    "fig = px.imshow(corrmat,\n",
    "                labels = dict(color='Correlation'),\n",
    "                x=corrmat.columns,\n",
    "                y=corrmat.index,\n",
    "                color_continuous_scale='Viridis',\n",
    "                title='Correlation Matrix')\n",
    "fig.update_layout(width=800, height=800)\n",
    "fig.show()"
   ]
  },
  {
   "cell_type": "markdown",
   "metadata": {},
   "source": [
    "## Model Building - XGB regresssion model"
   ]
  },
  {
   "cell_type": "code",
   "execution_count": 34,
   "metadata": {},
   "outputs": [],
   "source": [
    "import xgboost as xg"
   ]
  },
  {
   "cell_type": "markdown",
   "metadata": {},
   "source": [
    "### Using Random Forest Feature Selection"
   ]
  },
  {
   "cell_type": "code",
   "execution_count": 35,
   "metadata": {},
   "outputs": [],
   "source": [
    "X = df_train[['DepDelayMinutes','TaxiOut','TaxiIn','Distance','ArrTime','Origin_enc','CRSArrTime','DayofMonth','DepTime']]\n",
    "y = df_train[['ArrDelayMinutes']]"
   ]
  },
  {
   "cell_type": "code",
   "execution_count": 36,
   "metadata": {},
   "outputs": [],
   "source": [
    "X_test = df_test[['DepDelayMinutes','TaxiOut','TaxiIn','Distance','ArrTime','Origin_enc','CRSArrTime','DayofMonth','DepTime']]\n",
    "y_test = df_test[['ArrDelayMinutes']]"
   ]
  },
  {
   "cell_type": "code",
   "execution_count": 43,
   "metadata": {},
   "outputs": [
    {
     "name": "stdout",
     "output_type": "stream",
     "text": [
      "Fitting 5 folds for each of 288 candidates, totalling 1440 fits\n"
     ]
    }
   ],
   "source": [
    "from sklearn.model_selection import GridSearchCV\n",
    "\n",
    "\n",
    "param_tuning = {\n",
    "        'learning_rate': [0.01, 0.1],\n",
    "        'max_depth': [3, 5, 7, 10],\n",
    "        'min_child_weight': [1, 3, 5],\n",
    "        'subsample': [0.5, 0.7],\n",
    "        'colsample_bytree': [0.5, 0.7],\n",
    "        'n_estimators' : [100, 200, 500],\n",
    "        'objective': ['reg:squarederror']\n",
    "    }\n",
    "xgb_model = xg.XGBRegressor()\n",
    "\n",
    "gsearch = GridSearchCV(estimator = xgb_model,\n",
    "                           param_grid = param_tuning,\n",
    "                           #scoring = 'neg_mean_absolute_error', #MAE\n",
    "                           #scoring = 'neg_mean_squared_error',  #MSE\n",
    "                           cv = 5,\n",
    "                           n_jobs = -1,\n",
    "                           verbose = 1)\n",
    "\n",
    "gsearch.fit(X,y)"
   ]
  },
  {
   "cell_type": "code",
   "execution_count": null,
   "metadata": {},
   "outputs": [
    {
     "name": "stderr",
     "output_type": "stream",
     "text": [
      "C:\\Users\\layas\\AppData\\Roaming\\Python\\Python311\\site-packages\\xgboost\\core.py:160: UserWarning:\n",
      "\n",
      "[22:18:13] WARNING: C:\\buildkite-agent\\builds\\buildkite-windows-cpu-autoscaling-group-i-0750514818a16474a-1\\xgboost\\xgboost-ci-windows\\src\\objective\\regression_obj.cu:209: reg:linear is now deprecated in favor of reg:squarederror.\n",
      "\n"
     ]
    }
   ],
   "source": [
    "from sklearn.metrics import mean_absolute_error, mean_squared_error, r2_score\n",
    "\n",
    "best_xgb = gsearch.best_estimator_\n",
    "best_xgb.fit(X, y)\n",
    "y_train = best_xgb.predict(X)\n",
    "\n",
    "# Assess the model on the test set\n",
    "mae = mean_absolute_error(y, y_train)\n",
    "mse = mean_squared_error(y, y_train)\n",
    "r2score = r2_score(y, y_train)\n",
    "print(\"TRAINING\")\n",
    "print(\"Mean Absolute Error (MAE):\", mae)\n",
    "print(\"Mean Squared Error on Test Set:\", mse)\n",
    "print(\"R2 Score:\", r2score)\n",
    "\n",
    "y_pred=best_xgb.predict(X_test)\n",
    "# Assess the model on the test set\n",
    "mae = mean_absolute_error(y_test, y_pred)\n",
    "mse = mean_squared_error(y_test, y_pred)\n",
    "r2score = r2_score(y_test, y_pred)\n",
    "print(\"TESTING\")\n",
    "print(\"Mean Absolute Error (MAE):\", mae)\n",
    "print(\"Mean Squared Error on Test Set:\", mse)\n",
    "print(\"R2 Score:\", r2score)\n",
    "\n"
   ]
  },
  {
   "cell_type": "markdown",
   "metadata": {},
   "source": [
    "# Without best param"
   ]
  },
  {
   "cell_type": "code",
   "execution_count": 37,
   "metadata": {},
   "outputs": [
    {
     "data": {
      "text/html": [
       "<style>#sk-container-id-1 {color: black;}#sk-container-id-1 pre{padding: 0;}#sk-container-id-1 div.sk-toggleable {background-color: white;}#sk-container-id-1 label.sk-toggleable__label {cursor: pointer;display: block;width: 100%;margin-bottom: 0;padding: 0.3em;box-sizing: border-box;text-align: center;}#sk-container-id-1 label.sk-toggleable__label-arrow:before {content: \"▸\";float: left;margin-right: 0.25em;color: #696969;}#sk-container-id-1 label.sk-toggleable__label-arrow:hover:before {color: black;}#sk-container-id-1 div.sk-estimator:hover label.sk-toggleable__label-arrow:before {color: black;}#sk-container-id-1 div.sk-toggleable__content {max-height: 0;max-width: 0;overflow: hidden;text-align: left;background-color: #f0f8ff;}#sk-container-id-1 div.sk-toggleable__content pre {margin: 0.2em;color: black;border-radius: 0.25em;background-color: #f0f8ff;}#sk-container-id-1 input.sk-toggleable__control:checked~div.sk-toggleable__content {max-height: 200px;max-width: 100%;overflow: auto;}#sk-container-id-1 input.sk-toggleable__control:checked~label.sk-toggleable__label-arrow:before {content: \"▾\";}#sk-container-id-1 div.sk-estimator input.sk-toggleable__control:checked~label.sk-toggleable__label {background-color: #d4ebff;}#sk-container-id-1 div.sk-label input.sk-toggleable__control:checked~label.sk-toggleable__label {background-color: #d4ebff;}#sk-container-id-1 input.sk-hidden--visually {border: 0;clip: rect(1px 1px 1px 1px);clip: rect(1px, 1px, 1px, 1px);height: 1px;margin: -1px;overflow: hidden;padding: 0;position: absolute;width: 1px;}#sk-container-id-1 div.sk-estimator {font-family: monospace;background-color: #f0f8ff;border: 1px dotted black;border-radius: 0.25em;box-sizing: border-box;margin-bottom: 0.5em;}#sk-container-id-1 div.sk-estimator:hover {background-color: #d4ebff;}#sk-container-id-1 div.sk-parallel-item::after {content: \"\";width: 100%;border-bottom: 1px solid gray;flex-grow: 1;}#sk-container-id-1 div.sk-label:hover label.sk-toggleable__label {background-color: #d4ebff;}#sk-container-id-1 div.sk-serial::before {content: \"\";position: absolute;border-left: 1px solid gray;box-sizing: border-box;top: 0;bottom: 0;left: 50%;z-index: 0;}#sk-container-id-1 div.sk-serial {display: flex;flex-direction: column;align-items: center;background-color: white;padding-right: 0.2em;padding-left: 0.2em;position: relative;}#sk-container-id-1 div.sk-item {position: relative;z-index: 1;}#sk-container-id-1 div.sk-parallel {display: flex;align-items: stretch;justify-content: center;background-color: white;position: relative;}#sk-container-id-1 div.sk-item::before, #sk-container-id-1 div.sk-parallel-item::before {content: \"\";position: absolute;border-left: 1px solid gray;box-sizing: border-box;top: 0;bottom: 0;left: 50%;z-index: -1;}#sk-container-id-1 div.sk-parallel-item {display: flex;flex-direction: column;z-index: 1;position: relative;background-color: white;}#sk-container-id-1 div.sk-parallel-item:first-child::after {align-self: flex-end;width: 50%;}#sk-container-id-1 div.sk-parallel-item:last-child::after {align-self: flex-start;width: 50%;}#sk-container-id-1 div.sk-parallel-item:only-child::after {width: 0;}#sk-container-id-1 div.sk-dashed-wrapped {border: 1px dashed gray;margin: 0 0.4em 0.5em 0.4em;box-sizing: border-box;padding-bottom: 0.4em;background-color: white;}#sk-container-id-1 div.sk-label label {font-family: monospace;font-weight: bold;display: inline-block;line-height: 1.2em;}#sk-container-id-1 div.sk-label-container {text-align: center;}#sk-container-id-1 div.sk-container {/* jupyter's `normalize.less` sets `[hidden] { display: none; }` but bootstrap.min.css set `[hidden] { display: none !important; }` so we also need the `!important` here to be able to override the default hidden behavior on the sphinx rendered scikit-learn.org. See: https://github.com/scikit-learn/scikit-learn/issues/21755 */display: inline-block !important;position: relative;}#sk-container-id-1 div.sk-text-repr-fallback {display: none;}</style><div id=\"sk-container-id-1\" class=\"sk-top-container\"><div class=\"sk-text-repr-fallback\"><pre>XGBRegressor(base_score=None, booster=None, callbacks=None,\n",
       "             colsample_bylevel=None, colsample_bynode=None,\n",
       "             colsample_bytree=None, device=None, early_stopping_rounds=None,\n",
       "             enable_categorical=False, eval_metric=None, feature_types=None,\n",
       "             gamma=None, grow_policy=None, importance_type=None,\n",
       "             interaction_constraints=None, learning_rate=None, max_bin=None,\n",
       "             max_cat_threshold=None, max_cat_to_onehot=None,\n",
       "             max_delta_step=None, max_depth=None, max_leaves=None,\n",
       "             min_child_weight=None, missing=nan, monotone_constraints=None,\n",
       "             multi_strategy=None, n_estimators=None, n_jobs=None,\n",
       "             num_parallel_tree=None, random_state=None, ...)</pre><b>In a Jupyter environment, please rerun this cell to show the HTML representation or trust the notebook. <br />On GitHub, the HTML representation is unable to render, please try loading this page with nbviewer.org.</b></div><div class=\"sk-container\" hidden><div class=\"sk-item\"><div class=\"sk-estimator sk-toggleable\"><input class=\"sk-toggleable__control sk-hidden--visually\" id=\"sk-estimator-id-1\" type=\"checkbox\" checked><label for=\"sk-estimator-id-1\" class=\"sk-toggleable__label sk-toggleable__label-arrow\">XGBRegressor</label><div class=\"sk-toggleable__content\"><pre>XGBRegressor(base_score=None, booster=None, callbacks=None,\n",
       "             colsample_bylevel=None, colsample_bynode=None,\n",
       "             colsample_bytree=None, device=None, early_stopping_rounds=None,\n",
       "             enable_categorical=False, eval_metric=None, feature_types=None,\n",
       "             gamma=None, grow_policy=None, importance_type=None,\n",
       "             interaction_constraints=None, learning_rate=None, max_bin=None,\n",
       "             max_cat_threshold=None, max_cat_to_onehot=None,\n",
       "             max_delta_step=None, max_depth=None, max_leaves=None,\n",
       "             min_child_weight=None, missing=nan, monotone_constraints=None,\n",
       "             multi_strategy=None, n_estimators=None, n_jobs=None,\n",
       "             num_parallel_tree=None, random_state=None, ...)</pre></div></div></div></div></div>"
      ],
      "text/plain": [
       "XGBRegressor(base_score=None, booster=None, callbacks=None,\n",
       "             colsample_bylevel=None, colsample_bynode=None,\n",
       "             colsample_bytree=None, device=None, early_stopping_rounds=None,\n",
       "             enable_categorical=False, eval_metric=None, feature_types=None,\n",
       "             gamma=None, grow_policy=None, importance_type=None,\n",
       "             interaction_constraints=None, learning_rate=None, max_bin=None,\n",
       "             max_cat_threshold=None, max_cat_to_onehot=None,\n",
       "             max_delta_step=None, max_depth=None, max_leaves=None,\n",
       "             min_child_weight=None, missing=nan, monotone_constraints=None,\n",
       "             multi_strategy=None, n_estimators=None, n_jobs=None,\n",
       "             num_parallel_tree=None, random_state=None, ...)"
      ]
     },
     "execution_count": 37,
     "metadata": {},
     "output_type": "execute_result"
    }
   ],
   "source": [
    "xgb_model = xg.XGBRegressor()\n",
    "xgb_model.fit(X,y)"
   ]
  },
  {
   "cell_type": "code",
   "execution_count": 40,
   "metadata": {},
   "outputs": [
    {
     "name": "stdout",
     "output_type": "stream",
     "text": [
      "TRAINING\n",
      "Mean Absolute Error (MAE): 1.8131851663316536\n",
      "Mean Squared Error on Test Set: 16.37755852084436\n",
      "R2 Score: 0.989264978373039\n",
      "TESTING\n",
      "Mean Absolute Error (MAE): 2.2191003823473885\n",
      "Mean Squared Error on Test Set: 24.60470668523993\n",
      "R2 Score: 0.9899224518652867\n"
     ]
    }
   ],
   "source": [
    "from sklearn.metrics import mean_absolute_error, mean_squared_error, r2_score\n",
    "\n",
    "y_train = xgb_model.predict(X)\n",
    "\n",
    "# Assess the model on the test set\n",
    "mae = mean_absolute_error(y, y_train)\n",
    "mse = mean_squared_error(y, y_train)\n",
    "r2score = r2_score(y, y_train)\n",
    "print(\"TRAINING\")\n",
    "print(\"Mean Absolute Error (MAE):\", mae)\n",
    "print(\"Mean Squared Error on Test Set:\", mse)\n",
    "print(\"R2 Score:\", r2score)\n",
    "\n",
    "y_pred=xgb_model.predict(X_test)\n",
    "# Assess the model on the test set\n",
    "mae = mean_absolute_error(y_test, y_pred)\n",
    "mse = mean_squared_error(y_test, y_pred)\n",
    "r2score = r2_score(y_test, y_pred)\n",
    "print(\"TESTING\")\n",
    "print(\"Mean Absolute Error (MAE):\", mae)\n",
    "print(\"Mean Squared Error on Test Set:\", mse)\n",
    "print(\"R2 Score:\", r2score)"
   ]
  },
  {
   "cell_type": "code",
   "execution_count": 41,
   "metadata": {},
   "outputs": [
    {
     "data": {
      "text/plain": [
       "['xgb_delta_delta.pkl']"
      ]
     },
     "execution_count": 41,
     "metadata": {},
     "output_type": "execute_result"
    }
   ],
   "source": [
    "import joblib\n",
    "joblib.dump(xgb_model, 'xgb_delta_delta.pkl')"
   ]
  },
  {
   "cell_type": "code",
   "execution_count": null,
   "metadata": {},
   "outputs": [],
   "source": []
  }
 ],
 "metadata": {
  "kernelspec": {
   "display_name": "Python 3",
   "language": "python",
   "name": "python3"
  },
  "language_info": {
   "codemirror_mode": {
    "name": "ipython",
    "version": 3
   },
   "file_extension": ".py",
   "mimetype": "text/x-python",
   "name": "python",
   "nbconvert_exporter": "python",
   "pygments_lexer": "ipython3",
   "version": "3.9.13"
  }
 },
 "nbformat": 4,
 "nbformat_minor": 2
}
