{
 "cells": [
  {
   "cell_type": "code",
   "execution_count": 2,
   "metadata": {},
   "outputs": [],
   "source": [
    "import pandas as pd"
   ]
  },
  {
   "cell_type": "markdown",
   "metadata": {},
   "source": [
    "#### Reading datasets"
   ]
  },
  {
   "cell_type": "code",
   "execution_count": 3,
   "metadata": {},
   "outputs": [],
   "source": [
    "df1 = pd.read_csv(\"Combined_Flights_2018.csv\")"
   ]
  },
  {
   "cell_type": "code",
   "execution_count": 4,
   "metadata": {},
   "outputs": [],
   "source": [
    "df2 = pd.read_csv(\"Combined_Flights_2019.csv\")"
   ]
  },
  {
   "cell_type": "code",
   "execution_count": 5,
   "metadata": {},
   "outputs": [],
   "source": [
    "df3 = pd.read_csv(\"Combined_Flights_2020.csv\")"
   ]
  },
  {
   "cell_type": "code",
   "execution_count": 6,
   "metadata": {},
   "outputs": [],
   "source": [
    "df4 = pd.read_csv(\"Combined_Flights_2021.csv\")"
   ]
  },
  {
   "cell_type": "code",
   "execution_count": 7,
   "metadata": {},
   "outputs": [],
   "source": [
    "df5 = pd.read_csv(\"Combined_Flights_2022.csv\")"
   ]
  },
  {
   "cell_type": "markdown",
   "metadata": {},
   "source": [
    "#### Extracting data for Delta Air Lines"
   ]
  },
  {
   "cell_type": "code",
   "execution_count": 8,
   "metadata": {},
   "outputs": [],
   "source": [
    "df18 = df1[df1['Airline'] == 'Delta Air Lines Inc.']\n",
    "df19 = df2[df2['Airline'] == 'Delta Air Lines Inc.']\n",
    "df20 = df3[df3['Airline'] == 'Delta Air Lines Inc.']\n",
    "df21 = df4[df4['Airline'] == 'Delta Air Lines Inc.']"
   ]
  },
  {
   "cell_type": "code",
   "execution_count": 11,
   "metadata": {},
   "outputs": [
    {
     "data": {
      "text/html": [
       "<div>\n",
       "<style scoped>\n",
       "    .dataframe tbody tr th:only-of-type {\n",
       "        vertical-align: middle;\n",
       "    }\n",
       "\n",
       "    .dataframe tbody tr th {\n",
       "        vertical-align: top;\n",
       "    }\n",
       "\n",
       "    .dataframe thead th {\n",
       "        text-align: right;\n",
       "    }\n",
       "</style>\n",
       "<table border=\"1\" class=\"dataframe\">\n",
       "  <thead>\n",
       "    <tr style=\"text-align: right;\">\n",
       "      <th></th>\n",
       "      <th>FlightDate</th>\n",
       "      <th>Airline</th>\n",
       "      <th>Origin</th>\n",
       "      <th>Dest</th>\n",
       "      <th>Cancelled</th>\n",
       "      <th>Diverted</th>\n",
       "      <th>CRSDepTime</th>\n",
       "      <th>DepTime</th>\n",
       "      <th>DepDelayMinutes</th>\n",
       "      <th>DepDelay</th>\n",
       "      <th>...</th>\n",
       "      <th>WheelsOff</th>\n",
       "      <th>WheelsOn</th>\n",
       "      <th>TaxiIn</th>\n",
       "      <th>CRSArrTime</th>\n",
       "      <th>ArrDelay</th>\n",
       "      <th>ArrDel15</th>\n",
       "      <th>ArrivalDelayGroups</th>\n",
       "      <th>ArrTimeBlk</th>\n",
       "      <th>DistanceGroup</th>\n",
       "      <th>DivAirportLandings</th>\n",
       "    </tr>\n",
       "  </thead>\n",
       "  <tbody>\n",
       "    <tr>\n",
       "      <th>88119</th>\n",
       "      <td>2018-01-27</td>\n",
       "      <td>Delta Air Lines Inc.</td>\n",
       "      <td>ATL</td>\n",
       "      <td>ORF</td>\n",
       "      <td>False</td>\n",
       "      <td>False</td>\n",
       "      <td>1608</td>\n",
       "      <td>1606.0</td>\n",
       "      <td>0.0</td>\n",
       "      <td>-2.0</td>\n",
       "      <td>...</td>\n",
       "      <td>1614.0</td>\n",
       "      <td>1727.0</td>\n",
       "      <td>3.0</td>\n",
       "      <td>1743</td>\n",
       "      <td>-13.0</td>\n",
       "      <td>0.0</td>\n",
       "      <td>-1.0</td>\n",
       "      <td>1700-1759</td>\n",
       "      <td>3</td>\n",
       "      <td>0.0</td>\n",
       "    </tr>\n",
       "    <tr>\n",
       "      <th>88120</th>\n",
       "      <td>2018-01-27</td>\n",
       "      <td>Delta Air Lines Inc.</td>\n",
       "      <td>ATL</td>\n",
       "      <td>GSO</td>\n",
       "      <td>False</td>\n",
       "      <td>False</td>\n",
       "      <td>1700</td>\n",
       "      <td>1656.0</td>\n",
       "      <td>0.0</td>\n",
       "      <td>-4.0</td>\n",
       "      <td>...</td>\n",
       "      <td>1706.0</td>\n",
       "      <td>1754.0</td>\n",
       "      <td>3.0</td>\n",
       "      <td>1815</td>\n",
       "      <td>-18.0</td>\n",
       "      <td>0.0</td>\n",
       "      <td>-2.0</td>\n",
       "      <td>1800-1859</td>\n",
       "      <td>2</td>\n",
       "      <td>0.0</td>\n",
       "    </tr>\n",
       "    <tr>\n",
       "      <th>88121</th>\n",
       "      <td>2018-01-27</td>\n",
       "      <td>Delta Air Lines Inc.</td>\n",
       "      <td>TPA</td>\n",
       "      <td>MSP</td>\n",
       "      <td>False</td>\n",
       "      <td>False</td>\n",
       "      <td>720</td>\n",
       "      <td>716.0</td>\n",
       "      <td>0.0</td>\n",
       "      <td>-4.0</td>\n",
       "      <td>...</td>\n",
       "      <td>731.0</td>\n",
       "      <td>924.0</td>\n",
       "      <td>4.0</td>\n",
       "      <td>947</td>\n",
       "      <td>-19.0</td>\n",
       "      <td>0.0</td>\n",
       "      <td>-2.0</td>\n",
       "      <td>0900-0959</td>\n",
       "      <td>6</td>\n",
       "      <td>0.0</td>\n",
       "    </tr>\n",
       "    <tr>\n",
       "      <th>88122</th>\n",
       "      <td>2018-01-27</td>\n",
       "      <td>Delta Air Lines Inc.</td>\n",
       "      <td>LIH</td>\n",
       "      <td>LAX</td>\n",
       "      <td>False</td>\n",
       "      <td>False</td>\n",
       "      <td>2225</td>\n",
       "      <td>2219.0</td>\n",
       "      <td>0.0</td>\n",
       "      <td>-6.0</td>\n",
       "      <td>...</td>\n",
       "      <td>2236.0</td>\n",
       "      <td>547.0</td>\n",
       "      <td>4.0</td>\n",
       "      <td>544</td>\n",
       "      <td>7.0</td>\n",
       "      <td>0.0</td>\n",
       "      <td>0.0</td>\n",
       "      <td>0001-0559</td>\n",
       "      <td>11</td>\n",
       "      <td>0.0</td>\n",
       "    </tr>\n",
       "    <tr>\n",
       "      <th>88123</th>\n",
       "      <td>2018-01-27</td>\n",
       "      <td>Delta Air Lines Inc.</td>\n",
       "      <td>SMF</td>\n",
       "      <td>SLC</td>\n",
       "      <td>False</td>\n",
       "      <td>False</td>\n",
       "      <td>600</td>\n",
       "      <td>553.0</td>\n",
       "      <td>0.0</td>\n",
       "      <td>-7.0</td>\n",
       "      <td>...</td>\n",
       "      <td>605.0</td>\n",
       "      <td>818.0</td>\n",
       "      <td>6.0</td>\n",
       "      <td>843</td>\n",
       "      <td>-19.0</td>\n",
       "      <td>0.0</td>\n",
       "      <td>-2.0</td>\n",
       "      <td>0800-0859</td>\n",
       "      <td>3</td>\n",
       "      <td>0.0</td>\n",
       "    </tr>\n",
       "  </tbody>\n",
       "</table>\n",
       "<p>5 rows × 61 columns</p>\n",
       "</div>"
      ],
      "text/plain": [
       "       FlightDate               Airline Origin Dest  Cancelled  Diverted  \\\n",
       "88119  2018-01-27  Delta Air Lines Inc.    ATL  ORF      False     False   \n",
       "88120  2018-01-27  Delta Air Lines Inc.    ATL  GSO      False     False   \n",
       "88121  2018-01-27  Delta Air Lines Inc.    TPA  MSP      False     False   \n",
       "88122  2018-01-27  Delta Air Lines Inc.    LIH  LAX      False     False   \n",
       "88123  2018-01-27  Delta Air Lines Inc.    SMF  SLC      False     False   \n",
       "\n",
       "       CRSDepTime  DepTime  DepDelayMinutes  DepDelay  ...  WheelsOff  \\\n",
       "88119        1608   1606.0              0.0      -2.0  ...     1614.0   \n",
       "88120        1700   1656.0              0.0      -4.0  ...     1706.0   \n",
       "88121         720    716.0              0.0      -4.0  ...      731.0   \n",
       "88122        2225   2219.0              0.0      -6.0  ...     2236.0   \n",
       "88123         600    553.0              0.0      -7.0  ...      605.0   \n",
       "\n",
       "       WheelsOn  TaxiIn  CRSArrTime  ArrDelay  ArrDel15  ArrivalDelayGroups  \\\n",
       "88119    1727.0     3.0        1743     -13.0       0.0                -1.0   \n",
       "88120    1754.0     3.0        1815     -18.0       0.0                -2.0   \n",
       "88121     924.0     4.0         947     -19.0       0.0                -2.0   \n",
       "88122     547.0     4.0         544       7.0       0.0                 0.0   \n",
       "88123     818.0     6.0         843     -19.0       0.0                -2.0   \n",
       "\n",
       "       ArrTimeBlk  DistanceGroup  DivAirportLandings  \n",
       "88119   1700-1759              3                 0.0  \n",
       "88120   1800-1859              2                 0.0  \n",
       "88121   0900-0959              6                 0.0  \n",
       "88122   0001-0559             11                 0.0  \n",
       "88123   0800-0859              3                 0.0  \n",
       "\n",
       "[5 rows x 61 columns]"
      ]
     },
     "execution_count": 11,
     "metadata": {},
     "output_type": "execute_result"
    }
   ],
   "source": [
    "data_for_delta_train = pd.concat([df18, df19])\n",
    "data_for_delta_train = pd.concat([data_for_delta_train, df20])\n",
    "data_for_delta_train = pd.concat([data_for_delta_train, df21])\n",
    "data_for_delta_train.head()"
   ]
  },
  {
   "cell_type": "code",
   "execution_count": 14,
   "metadata": {},
   "outputs": [],
   "source": [
    "data_for_delta_test = df5[df5['Airline'] == 'Delta Air Lines Inc.']"
   ]
  },
  {
   "cell_type": "code",
   "execution_count": 15,
   "metadata": {},
   "outputs": [],
   "source": [
    "data_for_delta_train.to_csv('delta_train.csv', index=False)\n",
    "data_for_delta_test.to_csv('delta_test.csv', index=False)"
   ]
  },
  {
   "cell_type": "code",
   "execution_count": null,
   "metadata": {},
   "outputs": [],
   "source": [
    "print(\"Hello\")"
   ]
  }
 ],
 "metadata": {
  "kernelspec": {
   "display_name": "base",
   "language": "python",
   "name": "python3"
  },
  "language_info": {
   "codemirror_mode": {
    "name": "ipython",
    "version": 3
   },
   "file_extension": ".py",
   "mimetype": "text/x-python",
   "name": "python",
   "nbconvert_exporter": "python",
   "pygments_lexer": "ipython3",
   "version": "3.11.4"
  }
 },
 "nbformat": 4,
 "nbformat_minor": 2
}
