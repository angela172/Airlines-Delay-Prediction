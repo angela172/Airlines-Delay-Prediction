{
 "cells": [
  {
   "cell_type": "code",
   "execution_count": 103,
   "metadata": {},
   "outputs": [],
   "source": [
    "import pandas as pd"
   ]
  },
  {
   "cell_type": "markdown",
   "metadata": {},
   "source": [
    "## Training Data"
   ]
  },
  {
   "cell_type": "code",
   "execution_count": 156,
   "metadata": {},
   "outputs": [],
   "source": [
    "df = pd.read_csv(\"delta_train.csv\")"
   ]
  },
  {
   "cell_type": "code",
   "execution_count": 157,
   "metadata": {},
   "outputs": [
    {
     "name": "stdout",
     "output_type": "stream",
     "text": [
      "DepTime                 2072\n",
      "DepDelayMinutes         2072\n",
      "DepDelay                2072\n",
      "ArrTime                 2218\n",
      "ArrDelayMinutes         2842\n",
      "AirTime                 2842\n",
      "ActualElapsedTime       2842\n",
      "DepDel15                2072\n",
      "DepartureDelayGroups    2072\n",
      "TaxiOut                 2135\n",
      "WheelsOff               2135\n",
      "WheelsOn                2218\n",
      "TaxiIn                  2218\n",
      "ArrDelay                2842\n",
      "ArrDel15                2842\n",
      "ArrivalDelayGroups      2842\n",
      "dtype: int64\n"
     ]
    }
   ],
   "source": [
    "# Check for missing values in each column\n",
    "missing_values = df.isnull().sum()\n",
    "\n",
    "# Display columns with missing values\n",
    "print(missing_values[missing_values > 0])\n"
   ]
  },
  {
   "cell_type": "code",
   "execution_count": 158,
   "metadata": {},
   "outputs": [
    {
     "name": "stdout",
     "output_type": "stream",
     "text": [
      "<class 'pandas.core.frame.DataFrame'>\n",
      "RangeIndex: 445808 entries, 0 to 445807\n",
      "Data columns (total 61 columns):\n",
      " #   Column                                   Non-Null Count   Dtype  \n",
      "---  ------                                   --------------   -----  \n",
      " 0   FlightDate                               445808 non-null  object \n",
      " 1   Airline                                  445808 non-null  object \n",
      " 2   Origin                                   445808 non-null  object \n",
      " 3   Dest                                     445808 non-null  object \n",
      " 4   Cancelled                                445808 non-null  bool   \n",
      " 5   Diverted                                 445808 non-null  bool   \n",
      " 6   CRSDepTime                               445808 non-null  int64  \n",
      " 7   DepTime                                  443736 non-null  float64\n",
      " 8   DepDelayMinutes                          443736 non-null  float64\n",
      " 9   DepDelay                                 443736 non-null  float64\n",
      " 10  ArrTime                                  443590 non-null  float64\n",
      " 11  ArrDelayMinutes                          442966 non-null  float64\n",
      " 12  AirTime                                  442966 non-null  float64\n",
      " 13  CRSElapsedTime                           445808 non-null  float64\n",
      " 14  ActualElapsedTime                        442966 non-null  float64\n",
      " 15  Distance                                 445808 non-null  float64\n",
      " 16  Year                                     445808 non-null  int64  \n",
      " 17  Quarter                                  445808 non-null  int64  \n",
      " 18  Month                                    445808 non-null  int64  \n",
      " 19  DayofMonth                               445808 non-null  int64  \n",
      " 20  DayOfWeek                                445808 non-null  int64  \n",
      " 21  Marketing_Airline_Network                445808 non-null  object \n",
      " 22  Operated_or_Branded_Code_Share_Partners  445808 non-null  object \n",
      " 23  DOT_ID_Marketing_Airline                 445808 non-null  int64  \n",
      " 24  IATA_Code_Marketing_Airline              445808 non-null  object \n",
      " 25  Flight_Number_Marketing_Airline          445808 non-null  int64  \n",
      " 26  Operating_Airline                        445808 non-null  object \n",
      " 27  DOT_ID_Operating_Airline                 445808 non-null  int64  \n",
      " 28  IATA_Code_Operating_Airline              445808 non-null  object \n",
      " 29  Tail_Number                              445808 non-null  object \n",
      " 30  Flight_Number_Operating_Airline          445808 non-null  int64  \n",
      " 31  OriginAirportID                          445808 non-null  int64  \n",
      " 32  OriginAirportSeqID                       445808 non-null  int64  \n",
      " 33  OriginCityMarketID                       445808 non-null  int64  \n",
      " 34  OriginCityName                           445808 non-null  object \n",
      " 35  OriginState                              445808 non-null  object \n",
      " 36  OriginStateFips                          445808 non-null  int64  \n",
      " 37  OriginStateName                          445808 non-null  object \n",
      " 38  OriginWac                                445808 non-null  int64  \n",
      " 39  DestAirportID                            445808 non-null  int64  \n",
      " 40  DestAirportSeqID                         445808 non-null  int64  \n",
      " 41  DestCityMarketID                         445808 non-null  int64  \n",
      " 42  DestCityName                             445808 non-null  object \n",
      " 43  DestState                                445808 non-null  object \n",
      " 44  DestStateFips                            445808 non-null  int64  \n",
      " 45  DestStateName                            445808 non-null  object \n",
      " 46  DestWac                                  445808 non-null  int64  \n",
      " 47  DepDel15                                 443736 non-null  float64\n",
      " 48  DepartureDelayGroups                     443736 non-null  float64\n",
      " 49  DepTimeBlk                               445808 non-null  object \n",
      " 50  TaxiOut                                  443673 non-null  float64\n",
      " 51  WheelsOff                                443673 non-null  float64\n",
      " 52  WheelsOn                                 443590 non-null  float64\n",
      " 53  TaxiIn                                   443590 non-null  float64\n",
      " 54  CRSArrTime                               445808 non-null  int64  \n",
      " 55  ArrDelay                                 442966 non-null  float64\n",
      " 56  ArrDel15                                 442966 non-null  float64\n",
      " 57  ArrivalDelayGroups                       442966 non-null  float64\n",
      " 58  ArrTimeBlk                               445808 non-null  object \n",
      " 59  DistanceGroup                            445808 non-null  int64  \n",
      " 60  DivAirportLandings                       445808 non-null  float64\n",
      "dtypes: bool(2), float64(19), int64(22), object(18)\n",
      "memory usage: 201.5+ MB\n"
     ]
    }
   ],
   "source": [
    "df.info()"
   ]
  },
  {
   "cell_type": "markdown",
   "metadata": {},
   "source": [
    "#### Removing unwanted columns"
   ]
  },
  {
   "cell_type": "code",
   "execution_count": 159,
   "metadata": {},
   "outputs": [],
   "source": [
    "df_notcancelled = df[df[\"Cancelled\"]==False]\n",
    "df_train = df_notcancelled[df_notcancelled['Diverted']==False]\n"
   ]
  },
  {
   "cell_type": "code",
   "execution_count": 160,
   "metadata": {},
   "outputs": [],
   "source": [
    "df_train=df_train.drop('Cancelled',axis=1)\n",
    "df_train = df_train.drop('Diverted',axis = 1)\n",
    "df_train = df_train.drop('Airline',axis=1)\n",
    "df_train = df_train.drop('DivAirportLandings',axis = 1)\n",
    "df_train = df_train.drop('DistanceGroup',axis = 1)\n",
    "df_train = df_train.drop('ArrivalDelayGroups',axis = 1)\n",
    "df_train = df_train.drop('DepartureDelayGroups',axis = 1)\n",
    "df_train = df_train.drop('ArrDelay',axis = 1)\n",
    "df_train = df_train.drop('DepDelay',axis = 1)\n",
    "df_train = df_train.drop('ArrDel15',axis = 1)\n",
    "df_train = df_train.drop('ArrTimeBlk',axis = 1)\n",
    "df_train = df_train.drop('DepTimeBlk',axis = 1)\n",
    "df_train= df_train.drop('Year', axis = 1)\n"
   ]
  },
  {
   "cell_type": "code",
   "execution_count": 161,
   "metadata": {},
   "outputs": [],
   "source": [
    "\n",
    "df_train= df_train.drop(['AirTime',\t\n",
    "                         'CRSElapsedTime',\n",
    "                         'ActualElapsedTime',\n",
    "                         'Flight_Number_Marketing_Airline', \n",
    "                         'DOT_ID_Operating_Airline',\n",
    "                         'Operating_Airline', \n",
    "                         'WheelsOn',\n",
    "                         'WheelsOff',\n",
    "                         'IATA_Code_Operating_Airline', \n",
    "                         'Tail_Number', \n",
    "                         'Flight_Number_Operating_Airline', \n",
    "                         'OriginAirportID', \n",
    "                         'OriginAirportSeqID', \n",
    "                         'OriginCityMarketID', \n",
    "                         'OriginCityName', \n",
    "                         'OriginState',\n",
    "                         'OriginStateFips', \n",
    "                         'OriginStateName', \n",
    "                         'OriginWac', \n",
    "                         'DestAirportID',\n",
    "                         'DestAirportSeqID',\n",
    "                         'DestCityMarketID', \n",
    "                         'DestCityName', \n",
    "                         'DestState', \n",
    "                         'DestStateFips', \n",
    "                         'DestStateName', \n",
    "                         'DestWac',\n",
    "                         'DepDel15', \n",
    "                         'Marketing_Airline_Network', \n",
    "                         'Operated_or_Branded_Code_Share_Partners', \n",
    "                         'DOT_ID_Marketing_Airline', \n",
    "                         'IATA_Code_Marketing_Airline'], axis = 1)\n",
    "\n",
    "\n"
   ]
  },
  {
   "cell_type": "code",
   "execution_count": 162,
   "metadata": {},
   "outputs": [
    {
     "data": {
      "text/plain": [
       "(442966, 16)"
      ]
     },
     "execution_count": 162,
     "metadata": {},
     "output_type": "execute_result"
    }
   ],
   "source": [
    "df_train.shape"
   ]
  },
  {
   "cell_type": "markdown",
   "metadata": {},
   "source": [
    "#### Checking for missing values"
   ]
  },
  {
   "cell_type": "code",
   "execution_count": 163,
   "metadata": {},
   "outputs": [
    {
     "name": "stdout",
     "output_type": "stream",
     "text": [
      "Series([], dtype: int64)\n"
     ]
    }
   ],
   "source": [
    "# Check for missing values in each column\n",
    "missing_values = df_train.isnull().sum()\n",
    "\n",
    "# Display columns with missing values\n",
    "print(missing_values[missing_values > 0])\n"
   ]
  },
  {
   "cell_type": "code",
   "execution_count": 164,
   "metadata": {},
   "outputs": [
    {
     "name": "stdout",
     "output_type": "stream",
     "text": [
      "Number of records with null DepTime: 0\n"
     ]
    }
   ],
   "source": [
    "null_dep_time_count = df_train[\"DepTime\"].isnull().sum()\n",
    "print(\"Number of records with null DepTime:\", null_dep_time_count)"
   ]
  },
  {
   "cell_type": "code",
   "execution_count": 165,
   "metadata": {},
   "outputs": [
    {
     "data": {
      "text/html": [
       "<div>\n",
       "<style scoped>\n",
       "    .dataframe tbody tr th:only-of-type {\n",
       "        vertical-align: middle;\n",
       "    }\n",
       "\n",
       "    .dataframe tbody tr th {\n",
       "        vertical-align: top;\n",
       "    }\n",
       "\n",
       "    .dataframe thead th {\n",
       "        text-align: right;\n",
       "    }\n",
       "</style>\n",
       "<table border=\"1\" class=\"dataframe\">\n",
       "  <thead>\n",
       "    <tr style=\"text-align: right;\">\n",
       "      <th></th>\n",
       "      <th>FlightDate</th>\n",
       "      <th>Origin</th>\n",
       "      <th>Dest</th>\n",
       "      <th>CRSDepTime</th>\n",
       "      <th>DepTime</th>\n",
       "      <th>DepDelayMinutes</th>\n",
       "      <th>ArrTime</th>\n",
       "      <th>ArrDelayMinutes</th>\n",
       "      <th>Distance</th>\n",
       "      <th>Quarter</th>\n",
       "      <th>Month</th>\n",
       "      <th>DayofMonth</th>\n",
       "      <th>DayOfWeek</th>\n",
       "      <th>TaxiOut</th>\n",
       "      <th>TaxiIn</th>\n",
       "      <th>CRSArrTime</th>\n",
       "    </tr>\n",
       "  </thead>\n",
       "  <tbody>\n",
       "    <tr>\n",
       "      <th>0</th>\n",
       "      <td>2018-01-27</td>\n",
       "      <td>ATL</td>\n",
       "      <td>ORF</td>\n",
       "      <td>1608</td>\n",
       "      <td>1606.0</td>\n",
       "      <td>0.0</td>\n",
       "      <td>1730.0</td>\n",
       "      <td>0.0</td>\n",
       "      <td>516.0</td>\n",
       "      <td>1</td>\n",
       "      <td>1</td>\n",
       "      <td>27</td>\n",
       "      <td>6</td>\n",
       "      <td>8.0</td>\n",
       "      <td>3.0</td>\n",
       "      <td>1743</td>\n",
       "    </tr>\n",
       "    <tr>\n",
       "      <th>1</th>\n",
       "      <td>2018-01-27</td>\n",
       "      <td>ATL</td>\n",
       "      <td>GSO</td>\n",
       "      <td>1700</td>\n",
       "      <td>1656.0</td>\n",
       "      <td>0.0</td>\n",
       "      <td>1757.0</td>\n",
       "      <td>0.0</td>\n",
       "      <td>306.0</td>\n",
       "      <td>1</td>\n",
       "      <td>1</td>\n",
       "      <td>27</td>\n",
       "      <td>6</td>\n",
       "      <td>10.0</td>\n",
       "      <td>3.0</td>\n",
       "      <td>1815</td>\n",
       "    </tr>\n",
       "    <tr>\n",
       "      <th>2</th>\n",
       "      <td>2018-01-27</td>\n",
       "      <td>TPA</td>\n",
       "      <td>MSP</td>\n",
       "      <td>720</td>\n",
       "      <td>716.0</td>\n",
       "      <td>0.0</td>\n",
       "      <td>928.0</td>\n",
       "      <td>0.0</td>\n",
       "      <td>1306.0</td>\n",
       "      <td>1</td>\n",
       "      <td>1</td>\n",
       "      <td>27</td>\n",
       "      <td>6</td>\n",
       "      <td>15.0</td>\n",
       "      <td>4.0</td>\n",
       "      <td>947</td>\n",
       "    </tr>\n",
       "    <tr>\n",
       "      <th>3</th>\n",
       "      <td>2018-01-27</td>\n",
       "      <td>LIH</td>\n",
       "      <td>LAX</td>\n",
       "      <td>2225</td>\n",
       "      <td>2219.0</td>\n",
       "      <td>0.0</td>\n",
       "      <td>551.0</td>\n",
       "      <td>7.0</td>\n",
       "      <td>2615.0</td>\n",
       "      <td>1</td>\n",
       "      <td>1</td>\n",
       "      <td>27</td>\n",
       "      <td>6</td>\n",
       "      <td>17.0</td>\n",
       "      <td>4.0</td>\n",
       "      <td>544</td>\n",
       "    </tr>\n",
       "    <tr>\n",
       "      <th>4</th>\n",
       "      <td>2018-01-27</td>\n",
       "      <td>SMF</td>\n",
       "      <td>SLC</td>\n",
       "      <td>600</td>\n",
       "      <td>553.0</td>\n",
       "      <td>0.0</td>\n",
       "      <td>824.0</td>\n",
       "      <td>0.0</td>\n",
       "      <td>532.0</td>\n",
       "      <td>1</td>\n",
       "      <td>1</td>\n",
       "      <td>27</td>\n",
       "      <td>6</td>\n",
       "      <td>12.0</td>\n",
       "      <td>6.0</td>\n",
       "      <td>843</td>\n",
       "    </tr>\n",
       "  </tbody>\n",
       "</table>\n",
       "</div>"
      ],
      "text/plain": [
       "   FlightDate Origin Dest  CRSDepTime  DepTime  DepDelayMinutes  ArrTime  \\\n",
       "0  2018-01-27    ATL  ORF        1608   1606.0              0.0   1730.0   \n",
       "1  2018-01-27    ATL  GSO        1700   1656.0              0.0   1757.0   \n",
       "2  2018-01-27    TPA  MSP         720    716.0              0.0    928.0   \n",
       "3  2018-01-27    LIH  LAX        2225   2219.0              0.0    551.0   \n",
       "4  2018-01-27    SMF  SLC         600    553.0              0.0    824.0   \n",
       "\n",
       "   ArrDelayMinutes  Distance  Quarter  Month  DayofMonth  DayOfWeek  TaxiOut  \\\n",
       "0              0.0     516.0        1      1          27          6      8.0   \n",
       "1              0.0     306.0        1      1          27          6     10.0   \n",
       "2              0.0    1306.0        1      1          27          6     15.0   \n",
       "3              7.0    2615.0        1      1          27          6     17.0   \n",
       "4              0.0     532.0        1      1          27          6     12.0   \n",
       "\n",
       "   TaxiIn  CRSArrTime  \n",
       "0     3.0        1743  \n",
       "1     3.0        1815  \n",
       "2     4.0         947  \n",
       "3     4.0         544  \n",
       "4     6.0         843  "
      ]
     },
     "execution_count": 165,
     "metadata": {},
     "output_type": "execute_result"
    }
   ],
   "source": [
    "df_train.head()"
   ]
  },
  {
   "cell_type": "code",
   "execution_count": 166,
   "metadata": {},
   "outputs": [
    {
     "data": {
      "text/plain": [
       "(442966, 16)"
      ]
     },
     "execution_count": 166,
     "metadata": {},
     "output_type": "execute_result"
    }
   ],
   "source": [
    "df_train.shape"
   ]
  },
  {
   "cell_type": "markdown",
   "metadata": {},
   "source": [
    "## Testing Data"
   ]
  },
  {
   "cell_type": "code",
   "execution_count": 141,
   "metadata": {},
   "outputs": [],
   "source": [
    "df_test = pd.read_csv(\"delta_test.csv\")"
   ]
  },
  {
   "cell_type": "markdown",
   "metadata": {},
   "source": [
    "#### Removing Unwanted Columns"
   ]
  },
  {
   "cell_type": "code",
   "execution_count": 142,
   "metadata": {},
   "outputs": [],
   "source": [
    "df_notcancelled = df_test[df_test[\"Cancelled\"]==False]\n",
    "df_test = df_notcancelled[df_notcancelled['Diverted']==False]\n"
   ]
  },
  {
   "cell_type": "code",
   "execution_count": 143,
   "metadata": {},
   "outputs": [],
   "source": [
    "df_test=df_test.drop('Cancelled',axis=1)\n",
    "df_test = df_test.drop('Diverted',axis = 1)\n",
    "df_test = df_test.drop('Airline',axis=1)\n",
    "df_test = df_test.drop('DivAirportLandings',axis = 1)\n",
    "df_test = df_test.drop('DistanceGroup',axis = 1)\n",
    "df_test = df_test.drop('ArrivalDelayGroups',axis = 1)\n",
    "df_test = df_test.drop('DepartureDelayGroups',axis = 1)\n",
    "df_test = df_test.drop('ArrDelay',axis = 1)\n",
    "df_test = df_test.drop('DepDelay',axis = 1)\n",
    "df_test = df_test.drop('ArrDel15',axis = 1)\n",
    "df_test = df_test.drop('ArrTimeBlk',axis = 1)\n",
    "df_test = df_test.drop('DepTimeBlk',axis = 1)\n",
    "df_test= df_test.drop('Year', axis = 1)\n",
    "df_test= df_test.drop('FlightDate', axis = 1)\n"
   ]
  },
  {
   "cell_type": "code",
   "execution_count": 144,
   "metadata": {},
   "outputs": [],
   "source": [
    "\n",
    "df_test= df_test.drop(['AirTime',\t\n",
    "                         'CRSElapsedTime',\n",
    "                         'ActualElapsedTime',\n",
    "                         'Flight_Number_Marketing_Airline', \n",
    "                         'DOT_ID_Operating_Airline',\n",
    "                         'Operating_Airline', \n",
    "                         'WheelsOn',\n",
    "                         'WheelsOff',\n",
    "                         'IATA_Code_Operating_Airline', \n",
    "                         'Tail_Number', \n",
    "                         'Flight_Number_Operating_Airline', \n",
    "                         'OriginAirportID', \n",
    "                         'OriginAirportSeqID', \n",
    "                         'OriginCityMarketID', \n",
    "                         'OriginCityName', \n",
    "                         'OriginState',\n",
    "                         'OriginStateFips', \n",
    "                         'OriginStateName', \n",
    "                         'OriginWac', \n",
    "                         'DestAirportID',\n",
    "                         'DestAirportSeqID',\n",
    "                         'DestCityMarketID', \n",
    "                         'DestCityName', \n",
    "                         'DestState', \n",
    "                         'DestStateFips', \n",
    "                         'DestStateName', \n",
    "                         'DestWac',\n",
    "                         'DepDel15', \n",
    "                         'Marketing_Airline_Network', \n",
    "                         'Operated_or_Branded_Code_Share_Partners', \n",
    "                         'DOT_ID_Marketing_Airline', \n",
    "                         'IATA_Code_Marketing_Airline'], axis = 1)\n",
    "\n",
    "\n"
   ]
  },
  {
   "cell_type": "code",
   "execution_count": 145,
   "metadata": {},
   "outputs": [
    {
     "data": {
      "text/plain": [
       "(500710, 15)"
      ]
     },
     "execution_count": 145,
     "metadata": {},
     "output_type": "execute_result"
    }
   ],
   "source": [
    "df_test.shape\n"
   ]
  },
  {
   "cell_type": "markdown",
   "metadata": {},
   "source": [
    "#### Checking for missing values"
   ]
  },
  {
   "cell_type": "code",
   "execution_count": 146,
   "metadata": {},
   "outputs": [
    {
     "name": "stdout",
     "output_type": "stream",
     "text": [
      "Series([], dtype: int64)\n"
     ]
    }
   ],
   "source": [
    "# Check for missing values in each column\n",
    "missing_values = df_test.isnull().sum()\n",
    "\n",
    "# Display columns with missing values\n",
    "print(missing_values[missing_values > 0])\n"
   ]
  },
  {
   "cell_type": "code",
   "execution_count": 147,
   "metadata": {},
   "outputs": [
    {
     "name": "stdout",
     "output_type": "stream",
     "text": [
      "Number of records with null DepTime: 0\n"
     ]
    }
   ],
   "source": [
    "null_dep_time_count = df_test[\"DepTime\"].isnull().sum()\n",
    "print(\"Number of records with null DepTime:\", null_dep_time_count)"
   ]
  },
  {
   "cell_type": "code",
   "execution_count": 148,
   "metadata": {},
   "outputs": [
    {
     "data": {
      "text/html": [
       "<div>\n",
       "<style scoped>\n",
       "    .dataframe tbody tr th:only-of-type {\n",
       "        vertical-align: middle;\n",
       "    }\n",
       "\n",
       "    .dataframe tbody tr th {\n",
       "        vertical-align: top;\n",
       "    }\n",
       "\n",
       "    .dataframe thead th {\n",
       "        text-align: right;\n",
       "    }\n",
       "</style>\n",
       "<table border=\"1\" class=\"dataframe\">\n",
       "  <thead>\n",
       "    <tr style=\"text-align: right;\">\n",
       "      <th></th>\n",
       "      <th>Origin</th>\n",
       "      <th>Dest</th>\n",
       "      <th>CRSDepTime</th>\n",
       "      <th>DepTime</th>\n",
       "      <th>DepDelayMinutes</th>\n",
       "      <th>ArrTime</th>\n",
       "      <th>ArrDelayMinutes</th>\n",
       "      <th>Distance</th>\n",
       "      <th>Quarter</th>\n",
       "      <th>Month</th>\n",
       "      <th>DayofMonth</th>\n",
       "      <th>DayOfWeek</th>\n",
       "      <th>TaxiOut</th>\n",
       "      <th>TaxiIn</th>\n",
       "      <th>CRSArrTime</th>\n",
       "    </tr>\n",
       "  </thead>\n",
       "  <tbody>\n",
       "    <tr>\n",
       "      <th>0</th>\n",
       "      <td>ATL</td>\n",
       "      <td>DFW</td>\n",
       "      <td>1925</td>\n",
       "      <td>2026.0</td>\n",
       "      <td>61.0</td>\n",
       "      <td>2159.0</td>\n",
       "      <td>64.0</td>\n",
       "      <td>731.0</td>\n",
       "      <td>2</td>\n",
       "      <td>4</td>\n",
       "      <td>1</td>\n",
       "      <td>5</td>\n",
       "      <td>32.0</td>\n",
       "      <td>4.0</td>\n",
       "      <td>2055</td>\n",
       "    </tr>\n",
       "    <tr>\n",
       "      <th>1</th>\n",
       "      <td>ATL</td>\n",
       "      <td>DFW</td>\n",
       "      <td>1830</td>\n",
       "      <td>1830.0</td>\n",
       "      <td>0.0</td>\n",
       "      <td>2003.0</td>\n",
       "      <td>4.0</td>\n",
       "      <td>731.0</td>\n",
       "      <td>2</td>\n",
       "      <td>4</td>\n",
       "      <td>2</td>\n",
       "      <td>6</td>\n",
       "      <td>25.0</td>\n",
       "      <td>16.0</td>\n",
       "      <td>1959</td>\n",
       "    </tr>\n",
       "    <tr>\n",
       "      <th>2</th>\n",
       "      <td>ATL</td>\n",
       "      <td>DFW</td>\n",
       "      <td>1925</td>\n",
       "      <td>1934.0</td>\n",
       "      <td>9.0</td>\n",
       "      <td>2046.0</td>\n",
       "      <td>0.0</td>\n",
       "      <td>731.0</td>\n",
       "      <td>2</td>\n",
       "      <td>4</td>\n",
       "      <td>3</td>\n",
       "      <td>7</td>\n",
       "      <td>17.0</td>\n",
       "      <td>7.0</td>\n",
       "      <td>2055</td>\n",
       "    </tr>\n",
       "    <tr>\n",
       "      <th>3</th>\n",
       "      <td>ATL</td>\n",
       "      <td>DFW</td>\n",
       "      <td>1925</td>\n",
       "      <td>1945.0</td>\n",
       "      <td>20.0</td>\n",
       "      <td>2056.0</td>\n",
       "      <td>1.0</td>\n",
       "      <td>731.0</td>\n",
       "      <td>2</td>\n",
       "      <td>4</td>\n",
       "      <td>4</td>\n",
       "      <td>1</td>\n",
       "      <td>12.0</td>\n",
       "      <td>5.0</td>\n",
       "      <td>2055</td>\n",
       "    </tr>\n",
       "    <tr>\n",
       "      <th>4</th>\n",
       "      <td>ATL</td>\n",
       "      <td>DFW</td>\n",
       "      <td>1925</td>\n",
       "      <td>2001.0</td>\n",
       "      <td>36.0</td>\n",
       "      <td>2115.0</td>\n",
       "      <td>20.0</td>\n",
       "      <td>731.0</td>\n",
       "      <td>2</td>\n",
       "      <td>4</td>\n",
       "      <td>5</td>\n",
       "      <td>2</td>\n",
       "      <td>18.0</td>\n",
       "      <td>5.0</td>\n",
       "      <td>2055</td>\n",
       "    </tr>\n",
       "  </tbody>\n",
       "</table>\n",
       "</div>"
      ],
      "text/plain": [
       "  Origin Dest  CRSDepTime  DepTime  DepDelayMinutes  ArrTime  ArrDelayMinutes  \\\n",
       "0    ATL  DFW        1925   2026.0             61.0   2159.0             64.0   \n",
       "1    ATL  DFW        1830   1830.0              0.0   2003.0              4.0   \n",
       "2    ATL  DFW        1925   1934.0              9.0   2046.0              0.0   \n",
       "3    ATL  DFW        1925   1945.0             20.0   2056.0              1.0   \n",
       "4    ATL  DFW        1925   2001.0             36.0   2115.0             20.0   \n",
       "\n",
       "   Distance  Quarter  Month  DayofMonth  DayOfWeek  TaxiOut  TaxiIn  \\\n",
       "0     731.0        2      4           1          5     32.0     4.0   \n",
       "1     731.0        2      4           2          6     25.0    16.0   \n",
       "2     731.0        2      4           3          7     17.0     7.0   \n",
       "3     731.0        2      4           4          1     12.0     5.0   \n",
       "4     731.0        2      4           5          2     18.0     5.0   \n",
       "\n",
       "   CRSArrTime  \n",
       "0        2055  \n",
       "1        1959  \n",
       "2        2055  \n",
       "3        2055  \n",
       "4        2055  "
      ]
     },
     "execution_count": 148,
     "metadata": {},
     "output_type": "execute_result"
    }
   ],
   "source": [
    "df_test.head()"
   ]
  },
  {
   "cell_type": "code",
   "execution_count": 149,
   "metadata": {},
   "outputs": [
    {
     "data": {
      "text/plain": [
       "(500710, 15)"
      ]
     },
     "execution_count": 149,
     "metadata": {},
     "output_type": "execute_result"
    }
   ],
   "source": [
    "df_test.shape"
   ]
  },
  {
   "cell_type": "markdown",
   "metadata": {},
   "source": [
    "## Feature Encoding"
   ]
  },
  {
   "cell_type": "markdown",
   "metadata": {},
   "source": [
    "### Train Data"
   ]
  },
  {
   "cell_type": "markdown",
   "metadata": {},
   "source": [
    "#### Column Origin"
   ]
  },
  {
   "cell_type": "code",
   "execution_count": 167,
   "metadata": {},
   "outputs": [
    {
     "data": {
      "text/plain": [
       "Origin\n",
       "ABE    0.000375\n",
       "ABQ    0.001490\n",
       "AGS    0.000950\n",
       "ALB    0.001508\n",
       "ANC    0.001567\n",
       "         ...   \n",
       "TUS    0.001043\n",
       "TVC    0.000185\n",
       "TYS    0.001434\n",
       "VPS    0.002192\n",
       "XNA    0.000646\n",
       "Length: 152, dtype: float64"
      ]
     },
     "execution_count": 167,
     "metadata": {},
     "output_type": "execute_result"
    }
   ],
   "source": [
    "enc_nom_1 = (df_train.groupby('Origin').size()) / len(df_train)\n",
    "enc_nom_1"
   ]
  },
  {
   "cell_type": "code",
   "execution_count": 168,
   "metadata": {},
   "outputs": [
    {
     "data": {
      "text/html": [
       "<div>\n",
       "<style scoped>\n",
       "    .dataframe tbody tr th:only-of-type {\n",
       "        vertical-align: middle;\n",
       "    }\n",
       "\n",
       "    .dataframe tbody tr th {\n",
       "        vertical-align: top;\n",
       "    }\n",
       "\n",
       "    .dataframe thead th {\n",
       "        text-align: right;\n",
       "    }\n",
       "</style>\n",
       "<table border=\"1\" class=\"dataframe\">\n",
       "  <thead>\n",
       "    <tr style=\"text-align: right;\">\n",
       "      <th></th>\n",
       "      <th>FlightDate</th>\n",
       "      <th>Origin</th>\n",
       "      <th>Dest</th>\n",
       "      <th>CRSDepTime</th>\n",
       "      <th>DepTime</th>\n",
       "      <th>DepDelayMinutes</th>\n",
       "      <th>ArrTime</th>\n",
       "      <th>ArrDelayMinutes</th>\n",
       "      <th>Distance</th>\n",
       "      <th>Quarter</th>\n",
       "      <th>Month</th>\n",
       "      <th>DayofMonth</th>\n",
       "      <th>DayOfWeek</th>\n",
       "      <th>TaxiOut</th>\n",
       "      <th>TaxiIn</th>\n",
       "      <th>CRSArrTime</th>\n",
       "      <th>Origin_enc</th>\n",
       "    </tr>\n",
       "  </thead>\n",
       "  <tbody>\n",
       "    <tr>\n",
       "      <th>0</th>\n",
       "      <td>2018-01-27</td>\n",
       "      <td>ATL</td>\n",
       "      <td>ORF</td>\n",
       "      <td>1608</td>\n",
       "      <td>1606.0</td>\n",
       "      <td>0.0</td>\n",
       "      <td>1730.0</td>\n",
       "      <td>0.0</td>\n",
       "      <td>516.0</td>\n",
       "      <td>1</td>\n",
       "      <td>1</td>\n",
       "      <td>27</td>\n",
       "      <td>6</td>\n",
       "      <td>8.0</td>\n",
       "      <td>3.0</td>\n",
       "      <td>1743</td>\n",
       "      <td>0.259921</td>\n",
       "    </tr>\n",
       "    <tr>\n",
       "      <th>1</th>\n",
       "      <td>2018-01-27</td>\n",
       "      <td>ATL</td>\n",
       "      <td>GSO</td>\n",
       "      <td>1700</td>\n",
       "      <td>1656.0</td>\n",
       "      <td>0.0</td>\n",
       "      <td>1757.0</td>\n",
       "      <td>0.0</td>\n",
       "      <td>306.0</td>\n",
       "      <td>1</td>\n",
       "      <td>1</td>\n",
       "      <td>27</td>\n",
       "      <td>6</td>\n",
       "      <td>10.0</td>\n",
       "      <td>3.0</td>\n",
       "      <td>1815</td>\n",
       "      <td>0.259921</td>\n",
       "    </tr>\n",
       "    <tr>\n",
       "      <th>2</th>\n",
       "      <td>2018-01-27</td>\n",
       "      <td>TPA</td>\n",
       "      <td>MSP</td>\n",
       "      <td>720</td>\n",
       "      <td>716.0</td>\n",
       "      <td>0.0</td>\n",
       "      <td>928.0</td>\n",
       "      <td>0.0</td>\n",
       "      <td>1306.0</td>\n",
       "      <td>1</td>\n",
       "      <td>1</td>\n",
       "      <td>27</td>\n",
       "      <td>6</td>\n",
       "      <td>15.0</td>\n",
       "      <td>4.0</td>\n",
       "      <td>947</td>\n",
       "      <td>0.012326</td>\n",
       "    </tr>\n",
       "    <tr>\n",
       "      <th>3</th>\n",
       "      <td>2018-01-27</td>\n",
       "      <td>LIH</td>\n",
       "      <td>LAX</td>\n",
       "      <td>2225</td>\n",
       "      <td>2219.0</td>\n",
       "      <td>0.0</td>\n",
       "      <td>551.0</td>\n",
       "      <td>7.0</td>\n",
       "      <td>2615.0</td>\n",
       "      <td>1</td>\n",
       "      <td>1</td>\n",
       "      <td>27</td>\n",
       "      <td>6</td>\n",
       "      <td>17.0</td>\n",
       "      <td>4.0</td>\n",
       "      <td>544</td>\n",
       "      <td>0.000600</td>\n",
       "    </tr>\n",
       "    <tr>\n",
       "      <th>4</th>\n",
       "      <td>2018-01-27</td>\n",
       "      <td>SMF</td>\n",
       "      <td>SLC</td>\n",
       "      <td>600</td>\n",
       "      <td>553.0</td>\n",
       "      <td>0.0</td>\n",
       "      <td>824.0</td>\n",
       "      <td>0.0</td>\n",
       "      <td>532.0</td>\n",
       "      <td>1</td>\n",
       "      <td>1</td>\n",
       "      <td>27</td>\n",
       "      <td>6</td>\n",
       "      <td>12.0</td>\n",
       "      <td>6.0</td>\n",
       "      <td>843</td>\n",
       "      <td>0.002734</td>\n",
       "    </tr>\n",
       "  </tbody>\n",
       "</table>\n",
       "</div>"
      ],
      "text/plain": [
       "   FlightDate Origin Dest  CRSDepTime  DepTime  DepDelayMinutes  ArrTime  \\\n",
       "0  2018-01-27    ATL  ORF        1608   1606.0              0.0   1730.0   \n",
       "1  2018-01-27    ATL  GSO        1700   1656.0              0.0   1757.0   \n",
       "2  2018-01-27    TPA  MSP         720    716.0              0.0    928.0   \n",
       "3  2018-01-27    LIH  LAX        2225   2219.0              0.0    551.0   \n",
       "4  2018-01-27    SMF  SLC         600    553.0              0.0    824.0   \n",
       "\n",
       "   ArrDelayMinutes  Distance  Quarter  Month  DayofMonth  DayOfWeek  TaxiOut  \\\n",
       "0              0.0     516.0        1      1          27          6      8.0   \n",
       "1              0.0     306.0        1      1          27          6     10.0   \n",
       "2              0.0    1306.0        1      1          27          6     15.0   \n",
       "3              7.0    2615.0        1      1          27          6     17.0   \n",
       "4              0.0     532.0        1      1          27          6     12.0   \n",
       "\n",
       "   TaxiIn  CRSArrTime  Origin_enc  \n",
       "0     3.0        1743    0.259921  \n",
       "1     3.0        1815    0.259921  \n",
       "2     4.0         947    0.012326  \n",
       "3     4.0         544    0.000600  \n",
       "4     6.0         843    0.002734  "
      ]
     },
     "execution_count": 168,
     "metadata": {},
     "output_type": "execute_result"
    }
   ],
   "source": [
    "df_train['Origin_enc'] = df_train['Origin'].apply(lambda x : enc_nom_1[x])\n",
    "df_train.head()"
   ]
  },
  {
   "cell_type": "markdown",
   "metadata": {},
   "source": [
    "#### Column Destination"
   ]
  },
  {
   "cell_type": "code",
   "execution_count": 169,
   "metadata": {},
   "outputs": [
    {
     "data": {
      "text/plain": [
       "Dest\n",
       "ABE    0.000375\n",
       "ABQ    0.001492\n",
       "AGS    0.000930\n",
       "ALB    0.001510\n",
       "ANC    0.001576\n",
       "         ...   \n",
       "TUS    0.001043\n",
       "TVC    0.000187\n",
       "TYS    0.001424\n",
       "VPS    0.002199\n",
       "XNA    0.000639\n",
       "Length: 152, dtype: float64"
      ]
     },
     "execution_count": 169,
     "metadata": {},
     "output_type": "execute_result"
    }
   ],
   "source": [
    "enc_nom_2 = (df_train.groupby('Dest').size()) / len(df_train)\n",
    "enc_nom_2"
   ]
  },
  {
   "cell_type": "code",
   "execution_count": 170,
   "metadata": {},
   "outputs": [
    {
     "data": {
      "text/html": [
       "<div>\n",
       "<style scoped>\n",
       "    .dataframe tbody tr th:only-of-type {\n",
       "        vertical-align: middle;\n",
       "    }\n",
       "\n",
       "    .dataframe tbody tr th {\n",
       "        vertical-align: top;\n",
       "    }\n",
       "\n",
       "    .dataframe thead th {\n",
       "        text-align: right;\n",
       "    }\n",
       "</style>\n",
       "<table border=\"1\" class=\"dataframe\">\n",
       "  <thead>\n",
       "    <tr style=\"text-align: right;\">\n",
       "      <th></th>\n",
       "      <th>FlightDate</th>\n",
       "      <th>Origin</th>\n",
       "      <th>Dest</th>\n",
       "      <th>CRSDepTime</th>\n",
       "      <th>DepTime</th>\n",
       "      <th>DepDelayMinutes</th>\n",
       "      <th>ArrTime</th>\n",
       "      <th>ArrDelayMinutes</th>\n",
       "      <th>Distance</th>\n",
       "      <th>Quarter</th>\n",
       "      <th>Month</th>\n",
       "      <th>DayofMonth</th>\n",
       "      <th>DayOfWeek</th>\n",
       "      <th>TaxiOut</th>\n",
       "      <th>TaxiIn</th>\n",
       "      <th>CRSArrTime</th>\n",
       "      <th>Origin_enc</th>\n",
       "      <th>Dest_enc</th>\n",
       "    </tr>\n",
       "  </thead>\n",
       "  <tbody>\n",
       "    <tr>\n",
       "      <th>0</th>\n",
       "      <td>2018-01-27</td>\n",
       "      <td>ATL</td>\n",
       "      <td>ORF</td>\n",
       "      <td>1608</td>\n",
       "      <td>1606.0</td>\n",
       "      <td>0.0</td>\n",
       "      <td>1730.0</td>\n",
       "      <td>0.0</td>\n",
       "      <td>516.0</td>\n",
       "      <td>1</td>\n",
       "      <td>1</td>\n",
       "      <td>27</td>\n",
       "      <td>6</td>\n",
       "      <td>8.0</td>\n",
       "      <td>3.0</td>\n",
       "      <td>1743</td>\n",
       "      <td>0.259921</td>\n",
       "      <td>0.003032</td>\n",
       "    </tr>\n",
       "    <tr>\n",
       "      <th>1</th>\n",
       "      <td>2018-01-27</td>\n",
       "      <td>ATL</td>\n",
       "      <td>GSO</td>\n",
       "      <td>1700</td>\n",
       "      <td>1656.0</td>\n",
       "      <td>0.0</td>\n",
       "      <td>1757.0</td>\n",
       "      <td>0.0</td>\n",
       "      <td>306.0</td>\n",
       "      <td>1</td>\n",
       "      <td>1</td>\n",
       "      <td>27</td>\n",
       "      <td>6</td>\n",
       "      <td>10.0</td>\n",
       "      <td>3.0</td>\n",
       "      <td>1815</td>\n",
       "      <td>0.259921</td>\n",
       "      <td>0.002872</td>\n",
       "    </tr>\n",
       "    <tr>\n",
       "      <th>2</th>\n",
       "      <td>2018-01-27</td>\n",
       "      <td>TPA</td>\n",
       "      <td>MSP</td>\n",
       "      <td>720</td>\n",
       "      <td>716.0</td>\n",
       "      <td>0.0</td>\n",
       "      <td>928.0</td>\n",
       "      <td>0.0</td>\n",
       "      <td>1306.0</td>\n",
       "      <td>1</td>\n",
       "      <td>1</td>\n",
       "      <td>27</td>\n",
       "      <td>6</td>\n",
       "      <td>15.0</td>\n",
       "      <td>4.0</td>\n",
       "      <td>947</td>\n",
       "      <td>0.012326</td>\n",
       "      <td>0.068403</td>\n",
       "    </tr>\n",
       "    <tr>\n",
       "      <th>3</th>\n",
       "      <td>2018-01-27</td>\n",
       "      <td>LIH</td>\n",
       "      <td>LAX</td>\n",
       "      <td>2225</td>\n",
       "      <td>2219.0</td>\n",
       "      <td>0.0</td>\n",
       "      <td>551.0</td>\n",
       "      <td>7.0</td>\n",
       "      <td>2615.0</td>\n",
       "      <td>1</td>\n",
       "      <td>1</td>\n",
       "      <td>27</td>\n",
       "      <td>6</td>\n",
       "      <td>17.0</td>\n",
       "      <td>4.0</td>\n",
       "      <td>544</td>\n",
       "      <td>0.000600</td>\n",
       "      <td>0.036606</td>\n",
       "    </tr>\n",
       "    <tr>\n",
       "      <th>4</th>\n",
       "      <td>2018-01-27</td>\n",
       "      <td>SMF</td>\n",
       "      <td>SLC</td>\n",
       "      <td>600</td>\n",
       "      <td>553.0</td>\n",
       "      <td>0.0</td>\n",
       "      <td>824.0</td>\n",
       "      <td>0.0</td>\n",
       "      <td>532.0</td>\n",
       "      <td>1</td>\n",
       "      <td>1</td>\n",
       "      <td>27</td>\n",
       "      <td>6</td>\n",
       "      <td>12.0</td>\n",
       "      <td>6.0</td>\n",
       "      <td>843</td>\n",
       "      <td>0.002734</td>\n",
       "      <td>0.046794</td>\n",
       "    </tr>\n",
       "  </tbody>\n",
       "</table>\n",
       "</div>"
      ],
      "text/plain": [
       "   FlightDate Origin Dest  CRSDepTime  DepTime  DepDelayMinutes  ArrTime  \\\n",
       "0  2018-01-27    ATL  ORF        1608   1606.0              0.0   1730.0   \n",
       "1  2018-01-27    ATL  GSO        1700   1656.0              0.0   1757.0   \n",
       "2  2018-01-27    TPA  MSP         720    716.0              0.0    928.0   \n",
       "3  2018-01-27    LIH  LAX        2225   2219.0              0.0    551.0   \n",
       "4  2018-01-27    SMF  SLC         600    553.0              0.0    824.0   \n",
       "\n",
       "   ArrDelayMinutes  Distance  Quarter  Month  DayofMonth  DayOfWeek  TaxiOut  \\\n",
       "0              0.0     516.0        1      1          27          6      8.0   \n",
       "1              0.0     306.0        1      1          27          6     10.0   \n",
       "2              0.0    1306.0        1      1          27          6     15.0   \n",
       "3              7.0    2615.0        1      1          27          6     17.0   \n",
       "4              0.0     532.0        1      1          27          6     12.0   \n",
       "\n",
       "   TaxiIn  CRSArrTime  Origin_enc  Dest_enc  \n",
       "0     3.0        1743    0.259921  0.003032  \n",
       "1     3.0        1815    0.259921  0.002872  \n",
       "2     4.0         947    0.012326  0.068403  \n",
       "3     4.0         544    0.000600  0.036606  \n",
       "4     6.0         843    0.002734  0.046794  "
      ]
     },
     "execution_count": 170,
     "metadata": {},
     "output_type": "execute_result"
    }
   ],
   "source": [
    "df_train['Dest_enc'] = df_train['Dest'].apply(lambda x : enc_nom_2[x])\n",
    "df_train.head()"
   ]
  },
  {
   "cell_type": "code",
   "execution_count": 171,
   "metadata": {},
   "outputs": [
    {
     "data": {
      "text/plain": [
       "(442966, 16)"
      ]
     },
     "execution_count": 171,
     "metadata": {},
     "output_type": "execute_result"
    }
   ],
   "source": [
    "df_train = df_train.drop('Origin',axis = 1)\n",
    "df_train = df_train.drop('Dest',axis = 1)\n",
    "df_train.shape"
   ]
  },
  {
   "cell_type": "code",
   "execution_count": 172,
   "metadata": {},
   "outputs": [
    {
     "data": {
      "text/html": [
       "<div>\n",
       "<style scoped>\n",
       "    .dataframe tbody tr th:only-of-type {\n",
       "        vertical-align: middle;\n",
       "    }\n",
       "\n",
       "    .dataframe tbody tr th {\n",
       "        vertical-align: top;\n",
       "    }\n",
       "\n",
       "    .dataframe thead th {\n",
       "        text-align: right;\n",
       "    }\n",
       "</style>\n",
       "<table border=\"1\" class=\"dataframe\">\n",
       "  <thead>\n",
       "    <tr style=\"text-align: right;\">\n",
       "      <th></th>\n",
       "      <th>FlightDate</th>\n",
       "      <th>CRSDepTime</th>\n",
       "      <th>DepTime</th>\n",
       "      <th>DepDelayMinutes</th>\n",
       "      <th>ArrTime</th>\n",
       "      <th>ArrDelayMinutes</th>\n",
       "      <th>Distance</th>\n",
       "      <th>Quarter</th>\n",
       "      <th>Month</th>\n",
       "      <th>DayofMonth</th>\n",
       "      <th>DayOfWeek</th>\n",
       "      <th>TaxiOut</th>\n",
       "      <th>TaxiIn</th>\n",
       "      <th>CRSArrTime</th>\n",
       "      <th>Origin_enc</th>\n",
       "      <th>Dest_enc</th>\n",
       "    </tr>\n",
       "  </thead>\n",
       "  <tbody>\n",
       "    <tr>\n",
       "      <th>0</th>\n",
       "      <td>2018-01-27</td>\n",
       "      <td>1608</td>\n",
       "      <td>1606.0</td>\n",
       "      <td>0.0</td>\n",
       "      <td>1730.0</td>\n",
       "      <td>0.0</td>\n",
       "      <td>516.0</td>\n",
       "      <td>1</td>\n",
       "      <td>1</td>\n",
       "      <td>27</td>\n",
       "      <td>6</td>\n",
       "      <td>8.0</td>\n",
       "      <td>3.0</td>\n",
       "      <td>1743</td>\n",
       "      <td>0.259921</td>\n",
       "      <td>0.003032</td>\n",
       "    </tr>\n",
       "    <tr>\n",
       "      <th>1</th>\n",
       "      <td>2018-01-27</td>\n",
       "      <td>1700</td>\n",
       "      <td>1656.0</td>\n",
       "      <td>0.0</td>\n",
       "      <td>1757.0</td>\n",
       "      <td>0.0</td>\n",
       "      <td>306.0</td>\n",
       "      <td>1</td>\n",
       "      <td>1</td>\n",
       "      <td>27</td>\n",
       "      <td>6</td>\n",
       "      <td>10.0</td>\n",
       "      <td>3.0</td>\n",
       "      <td>1815</td>\n",
       "      <td>0.259921</td>\n",
       "      <td>0.002872</td>\n",
       "    </tr>\n",
       "    <tr>\n",
       "      <th>2</th>\n",
       "      <td>2018-01-27</td>\n",
       "      <td>720</td>\n",
       "      <td>716.0</td>\n",
       "      <td>0.0</td>\n",
       "      <td>928.0</td>\n",
       "      <td>0.0</td>\n",
       "      <td>1306.0</td>\n",
       "      <td>1</td>\n",
       "      <td>1</td>\n",
       "      <td>27</td>\n",
       "      <td>6</td>\n",
       "      <td>15.0</td>\n",
       "      <td>4.0</td>\n",
       "      <td>947</td>\n",
       "      <td>0.012326</td>\n",
       "      <td>0.068403</td>\n",
       "    </tr>\n",
       "    <tr>\n",
       "      <th>3</th>\n",
       "      <td>2018-01-27</td>\n",
       "      <td>2225</td>\n",
       "      <td>2219.0</td>\n",
       "      <td>0.0</td>\n",
       "      <td>551.0</td>\n",
       "      <td>7.0</td>\n",
       "      <td>2615.0</td>\n",
       "      <td>1</td>\n",
       "      <td>1</td>\n",
       "      <td>27</td>\n",
       "      <td>6</td>\n",
       "      <td>17.0</td>\n",
       "      <td>4.0</td>\n",
       "      <td>544</td>\n",
       "      <td>0.000600</td>\n",
       "      <td>0.036606</td>\n",
       "    </tr>\n",
       "    <tr>\n",
       "      <th>4</th>\n",
       "      <td>2018-01-27</td>\n",
       "      <td>600</td>\n",
       "      <td>553.0</td>\n",
       "      <td>0.0</td>\n",
       "      <td>824.0</td>\n",
       "      <td>0.0</td>\n",
       "      <td>532.0</td>\n",
       "      <td>1</td>\n",
       "      <td>1</td>\n",
       "      <td>27</td>\n",
       "      <td>6</td>\n",
       "      <td>12.0</td>\n",
       "      <td>6.0</td>\n",
       "      <td>843</td>\n",
       "      <td>0.002734</td>\n",
       "      <td>0.046794</td>\n",
       "    </tr>\n",
       "  </tbody>\n",
       "</table>\n",
       "</div>"
      ],
      "text/plain": [
       "   FlightDate  CRSDepTime  DepTime  DepDelayMinutes  ArrTime  ArrDelayMinutes  \\\n",
       "0  2018-01-27        1608   1606.0              0.0   1730.0              0.0   \n",
       "1  2018-01-27        1700   1656.0              0.0   1757.0              0.0   \n",
       "2  2018-01-27         720    716.0              0.0    928.0              0.0   \n",
       "3  2018-01-27        2225   2219.0              0.0    551.0              7.0   \n",
       "4  2018-01-27         600    553.0              0.0    824.0              0.0   \n",
       "\n",
       "   Distance  Quarter  Month  DayofMonth  DayOfWeek  TaxiOut  TaxiIn  \\\n",
       "0     516.0        1      1          27          6      8.0     3.0   \n",
       "1     306.0        1      1          27          6     10.0     3.0   \n",
       "2    1306.0        1      1          27          6     15.0     4.0   \n",
       "3    2615.0        1      1          27          6     17.0     4.0   \n",
       "4     532.0        1      1          27          6     12.0     6.0   \n",
       "\n",
       "   CRSArrTime  Origin_enc  Dest_enc  \n",
       "0        1743    0.259921  0.003032  \n",
       "1        1815    0.259921  0.002872  \n",
       "2         947    0.012326  0.068403  \n",
       "3         544    0.000600  0.036606  \n",
       "4         843    0.002734  0.046794  "
      ]
     },
     "execution_count": 172,
     "metadata": {},
     "output_type": "execute_result"
    }
   ],
   "source": [
    "df_train.head()"
   ]
  },
  {
   "cell_type": "markdown",
   "metadata": {},
   "source": [
    "### Test Data"
   ]
  },
  {
   "cell_type": "markdown",
   "metadata": {},
   "source": [
    "#### Column Origin"
   ]
  },
  {
   "cell_type": "code",
   "execution_count": 151,
   "metadata": {},
   "outputs": [
    {
     "data": {
      "text/plain": [
       "Origin\n",
       "ABQ    0.001258\n",
       "AGS    0.000112\n",
       "ALB    0.001224\n",
       "ANC    0.002844\n",
       "ATL    0.236814\n",
       "         ...   \n",
       "TUS    0.001434\n",
       "TVC    0.000136\n",
       "TYS    0.001562\n",
       "VPS    0.002419\n",
       "XNA    0.000585\n",
       "Length: 144, dtype: float64"
      ]
     },
     "execution_count": 151,
     "metadata": {},
     "output_type": "execute_result"
    }
   ],
   "source": [
    "enc_nom_1 = (df_test.groupby('Origin').size()) / len(df_test)\n",
    "enc_nom_1"
   ]
  },
  {
   "cell_type": "code",
   "execution_count": 152,
   "metadata": {},
   "outputs": [
    {
     "data": {
      "text/html": [
       "<div>\n",
       "<style scoped>\n",
       "    .dataframe tbody tr th:only-of-type {\n",
       "        vertical-align: middle;\n",
       "    }\n",
       "\n",
       "    .dataframe tbody tr th {\n",
       "        vertical-align: top;\n",
       "    }\n",
       "\n",
       "    .dataframe thead th {\n",
       "        text-align: right;\n",
       "    }\n",
       "</style>\n",
       "<table border=\"1\" class=\"dataframe\">\n",
       "  <thead>\n",
       "    <tr style=\"text-align: right;\">\n",
       "      <th></th>\n",
       "      <th>Origin</th>\n",
       "      <th>Dest</th>\n",
       "      <th>CRSDepTime</th>\n",
       "      <th>DepTime</th>\n",
       "      <th>DepDelayMinutes</th>\n",
       "      <th>ArrTime</th>\n",
       "      <th>ArrDelayMinutes</th>\n",
       "      <th>Distance</th>\n",
       "      <th>Quarter</th>\n",
       "      <th>Month</th>\n",
       "      <th>DayofMonth</th>\n",
       "      <th>DayOfWeek</th>\n",
       "      <th>TaxiOut</th>\n",
       "      <th>TaxiIn</th>\n",
       "      <th>CRSArrTime</th>\n",
       "      <th>Origin_enc</th>\n",
       "    </tr>\n",
       "  </thead>\n",
       "  <tbody>\n",
       "    <tr>\n",
       "      <th>0</th>\n",
       "      <td>ATL</td>\n",
       "      <td>DFW</td>\n",
       "      <td>1925</td>\n",
       "      <td>2026.0</td>\n",
       "      <td>61.0</td>\n",
       "      <td>2159.0</td>\n",
       "      <td>64.0</td>\n",
       "      <td>731.0</td>\n",
       "      <td>2</td>\n",
       "      <td>4</td>\n",
       "      <td>1</td>\n",
       "      <td>5</td>\n",
       "      <td>32.0</td>\n",
       "      <td>4.0</td>\n",
       "      <td>2055</td>\n",
       "      <td>0.236814</td>\n",
       "    </tr>\n",
       "    <tr>\n",
       "      <th>1</th>\n",
       "      <td>ATL</td>\n",
       "      <td>DFW</td>\n",
       "      <td>1830</td>\n",
       "      <td>1830.0</td>\n",
       "      <td>0.0</td>\n",
       "      <td>2003.0</td>\n",
       "      <td>4.0</td>\n",
       "      <td>731.0</td>\n",
       "      <td>2</td>\n",
       "      <td>4</td>\n",
       "      <td>2</td>\n",
       "      <td>6</td>\n",
       "      <td>25.0</td>\n",
       "      <td>16.0</td>\n",
       "      <td>1959</td>\n",
       "      <td>0.236814</td>\n",
       "    </tr>\n",
       "    <tr>\n",
       "      <th>2</th>\n",
       "      <td>ATL</td>\n",
       "      <td>DFW</td>\n",
       "      <td>1925</td>\n",
       "      <td>1934.0</td>\n",
       "      <td>9.0</td>\n",
       "      <td>2046.0</td>\n",
       "      <td>0.0</td>\n",
       "      <td>731.0</td>\n",
       "      <td>2</td>\n",
       "      <td>4</td>\n",
       "      <td>3</td>\n",
       "      <td>7</td>\n",
       "      <td>17.0</td>\n",
       "      <td>7.0</td>\n",
       "      <td>2055</td>\n",
       "      <td>0.236814</td>\n",
       "    </tr>\n",
       "    <tr>\n",
       "      <th>3</th>\n",
       "      <td>ATL</td>\n",
       "      <td>DFW</td>\n",
       "      <td>1925</td>\n",
       "      <td>1945.0</td>\n",
       "      <td>20.0</td>\n",
       "      <td>2056.0</td>\n",
       "      <td>1.0</td>\n",
       "      <td>731.0</td>\n",
       "      <td>2</td>\n",
       "      <td>4</td>\n",
       "      <td>4</td>\n",
       "      <td>1</td>\n",
       "      <td>12.0</td>\n",
       "      <td>5.0</td>\n",
       "      <td>2055</td>\n",
       "      <td>0.236814</td>\n",
       "    </tr>\n",
       "    <tr>\n",
       "      <th>4</th>\n",
       "      <td>ATL</td>\n",
       "      <td>DFW</td>\n",
       "      <td>1925</td>\n",
       "      <td>2001.0</td>\n",
       "      <td>36.0</td>\n",
       "      <td>2115.0</td>\n",
       "      <td>20.0</td>\n",
       "      <td>731.0</td>\n",
       "      <td>2</td>\n",
       "      <td>4</td>\n",
       "      <td>5</td>\n",
       "      <td>2</td>\n",
       "      <td>18.0</td>\n",
       "      <td>5.0</td>\n",
       "      <td>2055</td>\n",
       "      <td>0.236814</td>\n",
       "    </tr>\n",
       "  </tbody>\n",
       "</table>\n",
       "</div>"
      ],
      "text/plain": [
       "  Origin Dest  CRSDepTime  DepTime  DepDelayMinutes  ArrTime  ArrDelayMinutes  \\\n",
       "0    ATL  DFW        1925   2026.0             61.0   2159.0             64.0   \n",
       "1    ATL  DFW        1830   1830.0              0.0   2003.0              4.0   \n",
       "2    ATL  DFW        1925   1934.0              9.0   2046.0              0.0   \n",
       "3    ATL  DFW        1925   1945.0             20.0   2056.0              1.0   \n",
       "4    ATL  DFW        1925   2001.0             36.0   2115.0             20.0   \n",
       "\n",
       "   Distance  Quarter  Month  DayofMonth  DayOfWeek  TaxiOut  TaxiIn  \\\n",
       "0     731.0        2      4           1          5     32.0     4.0   \n",
       "1     731.0        2      4           2          6     25.0    16.0   \n",
       "2     731.0        2      4           3          7     17.0     7.0   \n",
       "3     731.0        2      4           4          1     12.0     5.0   \n",
       "4     731.0        2      4           5          2     18.0     5.0   \n",
       "\n",
       "   CRSArrTime  Origin_enc  \n",
       "0        2055    0.236814  \n",
       "1        1959    0.236814  \n",
       "2        2055    0.236814  \n",
       "3        2055    0.236814  \n",
       "4        2055    0.236814  "
      ]
     },
     "execution_count": 152,
     "metadata": {},
     "output_type": "execute_result"
    }
   ],
   "source": [
    "df_test['Origin_enc'] = df_test['Origin'].apply(lambda x : enc_nom_1[x])\n",
    "df_test.head()"
   ]
  },
  {
   "cell_type": "markdown",
   "metadata": {},
   "source": [
    "#### Column Destination"
   ]
  },
  {
   "cell_type": "code",
   "execution_count": 153,
   "metadata": {},
   "outputs": [
    {
     "data": {
      "text/plain": [
       "Dest\n",
       "ABQ    0.001262\n",
       "AGS    0.000112\n",
       "ALB    0.001230\n",
       "ANC    0.002838\n",
       "ATL    0.236510\n",
       "         ...   \n",
       "TUS    0.001434\n",
       "TVC    0.000138\n",
       "TYS    0.001570\n",
       "VPS    0.002423\n",
       "XNA    0.000587\n",
       "Length: 144, dtype: float64"
      ]
     },
     "execution_count": 153,
     "metadata": {},
     "output_type": "execute_result"
    }
   ],
   "source": [
    "enc_nom_2 = (df_test.groupby('Dest').size()) / len(df_test)\n",
    "enc_nom_2"
   ]
  },
  {
   "cell_type": "code",
   "execution_count": 154,
   "metadata": {},
   "outputs": [
    {
     "data": {
      "text/html": [
       "<div>\n",
       "<style scoped>\n",
       "    .dataframe tbody tr th:only-of-type {\n",
       "        vertical-align: middle;\n",
       "    }\n",
       "\n",
       "    .dataframe tbody tr th {\n",
       "        vertical-align: top;\n",
       "    }\n",
       "\n",
       "    .dataframe thead th {\n",
       "        text-align: right;\n",
       "    }\n",
       "</style>\n",
       "<table border=\"1\" class=\"dataframe\">\n",
       "  <thead>\n",
       "    <tr style=\"text-align: right;\">\n",
       "      <th></th>\n",
       "      <th>Origin</th>\n",
       "      <th>Dest</th>\n",
       "      <th>CRSDepTime</th>\n",
       "      <th>DepTime</th>\n",
       "      <th>DepDelayMinutes</th>\n",
       "      <th>ArrTime</th>\n",
       "      <th>ArrDelayMinutes</th>\n",
       "      <th>Distance</th>\n",
       "      <th>Quarter</th>\n",
       "      <th>Month</th>\n",
       "      <th>DayofMonth</th>\n",
       "      <th>DayOfWeek</th>\n",
       "      <th>TaxiOut</th>\n",
       "      <th>TaxiIn</th>\n",
       "      <th>CRSArrTime</th>\n",
       "      <th>Origin_enc</th>\n",
       "      <th>Dest_enc</th>\n",
       "    </tr>\n",
       "  </thead>\n",
       "  <tbody>\n",
       "    <tr>\n",
       "      <th>0</th>\n",
       "      <td>ATL</td>\n",
       "      <td>DFW</td>\n",
       "      <td>1925</td>\n",
       "      <td>2026.0</td>\n",
       "      <td>61.0</td>\n",
       "      <td>2159.0</td>\n",
       "      <td>64.0</td>\n",
       "      <td>731.0</td>\n",
       "      <td>2</td>\n",
       "      <td>4</td>\n",
       "      <td>1</td>\n",
       "      <td>5</td>\n",
       "      <td>32.0</td>\n",
       "      <td>4.0</td>\n",
       "      <td>2055</td>\n",
       "      <td>0.236814</td>\n",
       "      <td>0.012215</td>\n",
       "    </tr>\n",
       "    <tr>\n",
       "      <th>1</th>\n",
       "      <td>ATL</td>\n",
       "      <td>DFW</td>\n",
       "      <td>1830</td>\n",
       "      <td>1830.0</td>\n",
       "      <td>0.0</td>\n",
       "      <td>2003.0</td>\n",
       "      <td>4.0</td>\n",
       "      <td>731.0</td>\n",
       "      <td>2</td>\n",
       "      <td>4</td>\n",
       "      <td>2</td>\n",
       "      <td>6</td>\n",
       "      <td>25.0</td>\n",
       "      <td>16.0</td>\n",
       "      <td>1959</td>\n",
       "      <td>0.236814</td>\n",
       "      <td>0.012215</td>\n",
       "    </tr>\n",
       "    <tr>\n",
       "      <th>2</th>\n",
       "      <td>ATL</td>\n",
       "      <td>DFW</td>\n",
       "      <td>1925</td>\n",
       "      <td>1934.0</td>\n",
       "      <td>9.0</td>\n",
       "      <td>2046.0</td>\n",
       "      <td>0.0</td>\n",
       "      <td>731.0</td>\n",
       "      <td>2</td>\n",
       "      <td>4</td>\n",
       "      <td>3</td>\n",
       "      <td>7</td>\n",
       "      <td>17.0</td>\n",
       "      <td>7.0</td>\n",
       "      <td>2055</td>\n",
       "      <td>0.236814</td>\n",
       "      <td>0.012215</td>\n",
       "    </tr>\n",
       "    <tr>\n",
       "      <th>3</th>\n",
       "      <td>ATL</td>\n",
       "      <td>DFW</td>\n",
       "      <td>1925</td>\n",
       "      <td>1945.0</td>\n",
       "      <td>20.0</td>\n",
       "      <td>2056.0</td>\n",
       "      <td>1.0</td>\n",
       "      <td>731.0</td>\n",
       "      <td>2</td>\n",
       "      <td>4</td>\n",
       "      <td>4</td>\n",
       "      <td>1</td>\n",
       "      <td>12.0</td>\n",
       "      <td>5.0</td>\n",
       "      <td>2055</td>\n",
       "      <td>0.236814</td>\n",
       "      <td>0.012215</td>\n",
       "    </tr>\n",
       "    <tr>\n",
       "      <th>4</th>\n",
       "      <td>ATL</td>\n",
       "      <td>DFW</td>\n",
       "      <td>1925</td>\n",
       "      <td>2001.0</td>\n",
       "      <td>36.0</td>\n",
       "      <td>2115.0</td>\n",
       "      <td>20.0</td>\n",
       "      <td>731.0</td>\n",
       "      <td>2</td>\n",
       "      <td>4</td>\n",
       "      <td>5</td>\n",
       "      <td>2</td>\n",
       "      <td>18.0</td>\n",
       "      <td>5.0</td>\n",
       "      <td>2055</td>\n",
       "      <td>0.236814</td>\n",
       "      <td>0.012215</td>\n",
       "    </tr>\n",
       "  </tbody>\n",
       "</table>\n",
       "</div>"
      ],
      "text/plain": [
       "  Origin Dest  CRSDepTime  DepTime  DepDelayMinutes  ArrTime  ArrDelayMinutes  \\\n",
       "0    ATL  DFW        1925   2026.0             61.0   2159.0             64.0   \n",
       "1    ATL  DFW        1830   1830.0              0.0   2003.0              4.0   \n",
       "2    ATL  DFW        1925   1934.0              9.0   2046.0              0.0   \n",
       "3    ATL  DFW        1925   1945.0             20.0   2056.0              1.0   \n",
       "4    ATL  DFW        1925   2001.0             36.0   2115.0             20.0   \n",
       "\n",
       "   Distance  Quarter  Month  DayofMonth  DayOfWeek  TaxiOut  TaxiIn  \\\n",
       "0     731.0        2      4           1          5     32.0     4.0   \n",
       "1     731.0        2      4           2          6     25.0    16.0   \n",
       "2     731.0        2      4           3          7     17.0     7.0   \n",
       "3     731.0        2      4           4          1     12.0     5.0   \n",
       "4     731.0        2      4           5          2     18.0     5.0   \n",
       "\n",
       "   CRSArrTime  Origin_enc  Dest_enc  \n",
       "0        2055    0.236814  0.012215  \n",
       "1        1959    0.236814  0.012215  \n",
       "2        2055    0.236814  0.012215  \n",
       "3        2055    0.236814  0.012215  \n",
       "4        2055    0.236814  0.012215  "
      ]
     },
     "execution_count": 154,
     "metadata": {},
     "output_type": "execute_result"
    }
   ],
   "source": [
    "df_test['Dest_enc'] = df_test['Dest'].apply(lambda x : enc_nom_2[x])\n",
    "df_test.head()"
   ]
  },
  {
   "cell_type": "code",
   "execution_count": 155,
   "metadata": {},
   "outputs": [
    {
     "data": {
      "text/plain": [
       "(500710, 15)"
      ]
     },
     "execution_count": 155,
     "metadata": {},
     "output_type": "execute_result"
    }
   ],
   "source": [
    "df_test = df_test.drop('Origin',axis = 1)\n",
    "df_test = df_test.drop('Dest',axis = 1)\n",
    "df_test.shape"
   ]
  },
  {
   "cell_type": "markdown",
   "metadata": {},
   "source": [
    "## Correlation matrix"
   ]
  },
  {
   "cell_type": "code",
   "execution_count": 175,
   "metadata": {},
   "outputs": [
    {
     "data": {
      "application/vnd.plotly.v1+json": {
       "config": {
        "plotlyServerURL": "https://plot.ly"
       },
       "data": [
        {
         "coloraxis": "coloraxis",
         "hovertemplate": "x: %{x}<br>y: %{y}<br>Correlation: %{z}<extra></extra>",
         "name": "0",
         "type": "heatmap",
         "x": [
          "CRSDepTime",
          "DepTime",
          "DepDelayMinutes",
          "ArrTime",
          "ArrDelayMinutes",
          "Distance",
          "Quarter",
          "Month",
          "DayofMonth",
          "DayOfWeek",
          "TaxiOut",
          "TaxiIn",
          "CRSArrTime",
          "Origin_enc",
          "Dest_enc"
         ],
         "xaxis": "x",
         "y": [
          "CRSDepTime",
          "DepTime",
          "DepDelayMinutes",
          "ArrTime",
          "ArrDelayMinutes",
          "Distance",
          "Quarter",
          "Month",
          "DayofMonth",
          "DayOfWeek",
          "TaxiOut",
          "TaxiIn",
          "CRSArrTime",
          "Origin_enc",
          "Dest_enc"
         ],
         "yaxis": "y",
         "z": [
          [
           1,
           0.976436710302707,
           0.0492484176873695,
           0.6660679275043453,
           0.030826200439787677,
           -0.027531491999076063,
           0.003015621312009785,
           0.002721733214653482,
           -0.0015018545568826474,
           0.016534990169364785,
           -0.03810017744626561,
           -0.022266885244164362,
           0.7028936243488383,
           0.24110638639748477,
           -0.21034824449749542
          ],
          [
           0.976436710302707,
           1,
           0.08315062648102992,
           0.6807758328444308,
           0.06283558452265642,
           -0.02513295202153089,
           0.0006446447968601311,
           0.0003946418878964082,
           -0.0029920472969664096,
           0.014321294357513965,
           -0.028696737288563513,
           -0.016690350543040397,
           0.7045610632408332,
           0.2362046251575919,
           -0.20650305596819774
          ],
          [
           0.0492484176873695,
           0.08315062648102992,
           1,
           0.01073418012480258,
           0.9702931816995829,
           0.01836972074904452,
           -0.040316804179437005,
           -0.04057108759471075,
           -0.015247221342105493,
           -0.012111301417095424,
           0.08069728911271744,
           0.045341896796628735,
           0.050828575278742454,
           -0.009061884548906725,
           -0.0026814474530158167
          ],
          [
           0.6660679275043453,
           0.6807758328444308,
           0.01073418012480258,
           1,
           -0.0028910211596947966,
           0.025755569460101397,
           0.003223346099202522,
           0.0038501434051618653,
           -0.0019317537887733477,
           0.011650196523653662,
           -0.009169869716189561,
           0.012899129702011165,
           0.8864652231435745,
           0.1071792939045931,
           -0.1180925967943827
          ],
          [
           0.030826200439787677,
           0.06283558452265642,
           0.9702931816995829,
           -0.0028910211596947966,
           1,
           0.009894733154486331,
           -0.034369315661291915,
           -0.03544248208007078,
           -0.01964722595424061,
           -0.013324753892552868,
           0.20091129148054562,
           0.11070435435047152,
           0.034583540687129745,
           -0.01854566972543324,
           0.007784734424220171
          ],
          [
           -0.027531491999076063,
           -0.02513295202153089,
           0.01836972074904452,
           0.025755569460101397,
           0.009894733154486331,
           1,
           -0.007192691983740725,
           -0.003927343113214626,
           0.013914552809129763,
           0.015778566078892425,
           0.09361950511813871,
           0.1053755869795299,
           0.033685951050073194,
           -0.16799172085202133,
           -0.1683029021062035
          ],
          [
           0.003015621312009785,
           0.0006446447968601311,
           -0.040316804179437005,
           0.003223346099202522,
           -0.034369315661291915,
           -0.007192691983740725,
           1,
           0.9803622117041119,
           -0.01838944357943346,
           0.025829475491012395,
           -0.02009129823168401,
           0.007042925377322815,
           0.0038142523122845413,
           -0.006668707619145116,
           -0.00610415785784909
          ],
          [
           0.002721733214653482,
           0.0003946418878964082,
           -0.04057108759471075,
           0.0038501434051618653,
           -0.03544248208007078,
           -0.003927343113214626,
           0.9803622117041119,
           1,
           -0.01583540315946034,
           0.03777213331436513,
           -0.01704467133993372,
           0.009763988387848813,
           0.004942727518318859,
           -0.006812896827718799,
           -0.006209909405747417
          ],
          [
           -0.0015018545568826474,
           -0.0029920472969664096,
           -0.015247221342105493,
           -0.0019317537887733477,
           -0.01964722595424061,
           0.013914552809129763,
           -0.01838944357943346,
           -0.01583540315946034,
           1,
           0.06409233731781987,
           -0.015267561128192738,
           -0.007074155154132482,
           -0.0014000812553630099,
           -0.0011077081631243003,
           -0.0009569533678033422
          ],
          [
           0.016534990169364785,
           0.014321294357513965,
           -0.012111301417095424,
           0.011650196523653662,
           -0.013324753892552868,
           0.015778566078892425,
           0.025829475491012395,
           0.03777213331436513,
           0.06409233731781987,
           1,
           -0.030875742594319817,
           0.0028424737799304686,
           0.013196874362982754,
           -0.0010842338640887972,
           -0.0015271157112899843
          ],
          [
           -0.03810017744626561,
           -0.028696737288563513,
           0.08069728911271744,
           -0.009169869716189561,
           0.20091129148054562,
           0.09361950511813871,
           -0.02009129823168401,
           -0.01704467133993372,
           -0.015267561128192738,
           -0.030875742594319817,
           1,
           0.02373641726926765,
           -0.009673510289819102,
           -0.08103508741147851,
           -0.03202479643759754
          ],
          [
           -0.022266885244164362,
           -0.016690350543040397,
           0.045341896796628735,
           0.012899129702011165,
           0.11070435435047152,
           0.1053755869795299,
           0.007042925377322815,
           0.009763988387848813,
           -0.007074155154132482,
           0.0028424737799304686,
           0.02373641726926765,
           1,
           0.015581115549118785,
           -0.17441132023595943,
           0.14127458212391883
          ],
          [
           0.7028936243488383,
           0.7045610632408332,
           0.050828575278742454,
           0.8864652231435745,
           0.034583540687129745,
           0.033685951050073194,
           0.0038142523122845413,
           0.004942727518318859,
           -0.0014000812553630099,
           0.013196874362982754,
           -0.009673510289819102,
           0.015581115549118785,
           1,
           0.11571261402533055,
           -0.1314432077630906
          ],
          [
           0.24110638639748477,
           0.2362046251575919,
           -0.009061884548906725,
           0.1071792939045931,
           -0.01854566972543324,
           -0.16799172085202133,
           -0.006668707619145116,
           -0.006812896827718799,
           -0.0011077081631243003,
           -0.0010842338640887972,
           -0.08103508741147851,
           -0.17441132023595943,
           0.11571261402533055,
           1,
           -0.5059597263124169
          ],
          [
           -0.21034824449749542,
           -0.20650305596819774,
           -0.0026814474530158167,
           -0.1180925967943827,
           0.007784734424220171,
           -0.1683029021062035,
           -0.00610415785784909,
           -0.006209909405747417,
           -0.0009569533678033422,
           -0.0015271157112899843,
           -0.03202479643759754,
           0.14127458212391883,
           -0.1314432077630906,
           -0.5059597263124169,
           1
          ]
         ]
        }
       ],
       "layout": {
        "coloraxis": {
         "colorbar": {
          "title": {
           "text": "Correlation"
          }
         },
         "colorscale": [
          [
           0,
           "#440154"
          ],
          [
           0.1111111111111111,
           "#482878"
          ],
          [
           0.2222222222222222,
           "#3e4989"
          ],
          [
           0.3333333333333333,
           "#31688e"
          ],
          [
           0.4444444444444444,
           "#26828e"
          ],
          [
           0.5555555555555556,
           "#1f9e89"
          ],
          [
           0.6666666666666666,
           "#35b779"
          ],
          [
           0.7777777777777778,
           "#6ece58"
          ],
          [
           0.8888888888888888,
           "#b5de2b"
          ],
          [
           1,
           "#fde725"
          ]
         ]
        },
        "height": 800,
        "template": {
         "data": {
          "bar": [
           {
            "error_x": {
             "color": "#2a3f5f"
            },
            "error_y": {
             "color": "#2a3f5f"
            },
            "marker": {
             "line": {
              "color": "#E5ECF6",
              "width": 0.5
             },
             "pattern": {
              "fillmode": "overlay",
              "size": 10,
              "solidity": 0.2
             }
            },
            "type": "bar"
           }
          ],
          "barpolar": [
           {
            "marker": {
             "line": {
              "color": "#E5ECF6",
              "width": 0.5
             },
             "pattern": {
              "fillmode": "overlay",
              "size": 10,
              "solidity": 0.2
             }
            },
            "type": "barpolar"
           }
          ],
          "carpet": [
           {
            "aaxis": {
             "endlinecolor": "#2a3f5f",
             "gridcolor": "white",
             "linecolor": "white",
             "minorgridcolor": "white",
             "startlinecolor": "#2a3f5f"
            },
            "baxis": {
             "endlinecolor": "#2a3f5f",
             "gridcolor": "white",
             "linecolor": "white",
             "minorgridcolor": "white",
             "startlinecolor": "#2a3f5f"
            },
            "type": "carpet"
           }
          ],
          "choropleth": [
           {
            "colorbar": {
             "outlinewidth": 0,
             "ticks": ""
            },
            "type": "choropleth"
           }
          ],
          "contour": [
           {
            "colorbar": {
             "outlinewidth": 0,
             "ticks": ""
            },
            "colorscale": [
             [
              0,
              "#0d0887"
             ],
             [
              0.1111111111111111,
              "#46039f"
             ],
             [
              0.2222222222222222,
              "#7201a8"
             ],
             [
              0.3333333333333333,
              "#9c179e"
             ],
             [
              0.4444444444444444,
              "#bd3786"
             ],
             [
              0.5555555555555556,
              "#d8576b"
             ],
             [
              0.6666666666666666,
              "#ed7953"
             ],
             [
              0.7777777777777778,
              "#fb9f3a"
             ],
             [
              0.8888888888888888,
              "#fdca26"
             ],
             [
              1,
              "#f0f921"
             ]
            ],
            "type": "contour"
           }
          ],
          "contourcarpet": [
           {
            "colorbar": {
             "outlinewidth": 0,
             "ticks": ""
            },
            "type": "contourcarpet"
           }
          ],
          "heatmap": [
           {
            "colorbar": {
             "outlinewidth": 0,
             "ticks": ""
            },
            "colorscale": [
             [
              0,
              "#0d0887"
             ],
             [
              0.1111111111111111,
              "#46039f"
             ],
             [
              0.2222222222222222,
              "#7201a8"
             ],
             [
              0.3333333333333333,
              "#9c179e"
             ],
             [
              0.4444444444444444,
              "#bd3786"
             ],
             [
              0.5555555555555556,
              "#d8576b"
             ],
             [
              0.6666666666666666,
              "#ed7953"
             ],
             [
              0.7777777777777778,
              "#fb9f3a"
             ],
             [
              0.8888888888888888,
              "#fdca26"
             ],
             [
              1,
              "#f0f921"
             ]
            ],
            "type": "heatmap"
           }
          ],
          "heatmapgl": [
           {
            "colorbar": {
             "outlinewidth": 0,
             "ticks": ""
            },
            "colorscale": [
             [
              0,
              "#0d0887"
             ],
             [
              0.1111111111111111,
              "#46039f"
             ],
             [
              0.2222222222222222,
              "#7201a8"
             ],
             [
              0.3333333333333333,
              "#9c179e"
             ],
             [
              0.4444444444444444,
              "#bd3786"
             ],
             [
              0.5555555555555556,
              "#d8576b"
             ],
             [
              0.6666666666666666,
              "#ed7953"
             ],
             [
              0.7777777777777778,
              "#fb9f3a"
             ],
             [
              0.8888888888888888,
              "#fdca26"
             ],
             [
              1,
              "#f0f921"
             ]
            ],
            "type": "heatmapgl"
           }
          ],
          "histogram": [
           {
            "marker": {
             "pattern": {
              "fillmode": "overlay",
              "size": 10,
              "solidity": 0.2
             }
            },
            "type": "histogram"
           }
          ],
          "histogram2d": [
           {
            "colorbar": {
             "outlinewidth": 0,
             "ticks": ""
            },
            "colorscale": [
             [
              0,
              "#0d0887"
             ],
             [
              0.1111111111111111,
              "#46039f"
             ],
             [
              0.2222222222222222,
              "#7201a8"
             ],
             [
              0.3333333333333333,
              "#9c179e"
             ],
             [
              0.4444444444444444,
              "#bd3786"
             ],
             [
              0.5555555555555556,
              "#d8576b"
             ],
             [
              0.6666666666666666,
              "#ed7953"
             ],
             [
              0.7777777777777778,
              "#fb9f3a"
             ],
             [
              0.8888888888888888,
              "#fdca26"
             ],
             [
              1,
              "#f0f921"
             ]
            ],
            "type": "histogram2d"
           }
          ],
          "histogram2dcontour": [
           {
            "colorbar": {
             "outlinewidth": 0,
             "ticks": ""
            },
            "colorscale": [
             [
              0,
              "#0d0887"
             ],
             [
              0.1111111111111111,
              "#46039f"
             ],
             [
              0.2222222222222222,
              "#7201a8"
             ],
             [
              0.3333333333333333,
              "#9c179e"
             ],
             [
              0.4444444444444444,
              "#bd3786"
             ],
             [
              0.5555555555555556,
              "#d8576b"
             ],
             [
              0.6666666666666666,
              "#ed7953"
             ],
             [
              0.7777777777777778,
              "#fb9f3a"
             ],
             [
              0.8888888888888888,
              "#fdca26"
             ],
             [
              1,
              "#f0f921"
             ]
            ],
            "type": "histogram2dcontour"
           }
          ],
          "mesh3d": [
           {
            "colorbar": {
             "outlinewidth": 0,
             "ticks": ""
            },
            "type": "mesh3d"
           }
          ],
          "parcoords": [
           {
            "line": {
             "colorbar": {
              "outlinewidth": 0,
              "ticks": ""
             }
            },
            "type": "parcoords"
           }
          ],
          "pie": [
           {
            "automargin": true,
            "type": "pie"
           }
          ],
          "scatter": [
           {
            "fillpattern": {
             "fillmode": "overlay",
             "size": 10,
             "solidity": 0.2
            },
            "type": "scatter"
           }
          ],
          "scatter3d": [
           {
            "line": {
             "colorbar": {
              "outlinewidth": 0,
              "ticks": ""
             }
            },
            "marker": {
             "colorbar": {
              "outlinewidth": 0,
              "ticks": ""
             }
            },
            "type": "scatter3d"
           }
          ],
          "scattercarpet": [
           {
            "marker": {
             "colorbar": {
              "outlinewidth": 0,
              "ticks": ""
             }
            },
            "type": "scattercarpet"
           }
          ],
          "scattergeo": [
           {
            "marker": {
             "colorbar": {
              "outlinewidth": 0,
              "ticks": ""
             }
            },
            "type": "scattergeo"
           }
          ],
          "scattergl": [
           {
            "marker": {
             "colorbar": {
              "outlinewidth": 0,
              "ticks": ""
             }
            },
            "type": "scattergl"
           }
          ],
          "scattermapbox": [
           {
            "marker": {
             "colorbar": {
              "outlinewidth": 0,
              "ticks": ""
             }
            },
            "type": "scattermapbox"
           }
          ],
          "scatterpolar": [
           {
            "marker": {
             "colorbar": {
              "outlinewidth": 0,
              "ticks": ""
             }
            },
            "type": "scatterpolar"
           }
          ],
          "scatterpolargl": [
           {
            "marker": {
             "colorbar": {
              "outlinewidth": 0,
              "ticks": ""
             }
            },
            "type": "scatterpolargl"
           }
          ],
          "scatterternary": [
           {
            "marker": {
             "colorbar": {
              "outlinewidth": 0,
              "ticks": ""
             }
            },
            "type": "scatterternary"
           }
          ],
          "surface": [
           {
            "colorbar": {
             "outlinewidth": 0,
             "ticks": ""
            },
            "colorscale": [
             [
              0,
              "#0d0887"
             ],
             [
              0.1111111111111111,
              "#46039f"
             ],
             [
              0.2222222222222222,
              "#7201a8"
             ],
             [
              0.3333333333333333,
              "#9c179e"
             ],
             [
              0.4444444444444444,
              "#bd3786"
             ],
             [
              0.5555555555555556,
              "#d8576b"
             ],
             [
              0.6666666666666666,
              "#ed7953"
             ],
             [
              0.7777777777777778,
              "#fb9f3a"
             ],
             [
              0.8888888888888888,
              "#fdca26"
             ],
             [
              1,
              "#f0f921"
             ]
            ],
            "type": "surface"
           }
          ],
          "table": [
           {
            "cells": {
             "fill": {
              "color": "#EBF0F8"
             },
             "line": {
              "color": "white"
             }
            },
            "header": {
             "fill": {
              "color": "#C8D4E3"
             },
             "line": {
              "color": "white"
             }
            },
            "type": "table"
           }
          ]
         },
         "layout": {
          "annotationdefaults": {
           "arrowcolor": "#2a3f5f",
           "arrowhead": 0,
           "arrowwidth": 1
          },
          "autotypenumbers": "strict",
          "coloraxis": {
           "colorbar": {
            "outlinewidth": 0,
            "ticks": ""
           }
          },
          "colorscale": {
           "diverging": [
            [
             0,
             "#8e0152"
            ],
            [
             0.1,
             "#c51b7d"
            ],
            [
             0.2,
             "#de77ae"
            ],
            [
             0.3,
             "#f1b6da"
            ],
            [
             0.4,
             "#fde0ef"
            ],
            [
             0.5,
             "#f7f7f7"
            ],
            [
             0.6,
             "#e6f5d0"
            ],
            [
             0.7,
             "#b8e186"
            ],
            [
             0.8,
             "#7fbc41"
            ],
            [
             0.9,
             "#4d9221"
            ],
            [
             1,
             "#276419"
            ]
           ],
           "sequential": [
            [
             0,
             "#0d0887"
            ],
            [
             0.1111111111111111,
             "#46039f"
            ],
            [
             0.2222222222222222,
             "#7201a8"
            ],
            [
             0.3333333333333333,
             "#9c179e"
            ],
            [
             0.4444444444444444,
             "#bd3786"
            ],
            [
             0.5555555555555556,
             "#d8576b"
            ],
            [
             0.6666666666666666,
             "#ed7953"
            ],
            [
             0.7777777777777778,
             "#fb9f3a"
            ],
            [
             0.8888888888888888,
             "#fdca26"
            ],
            [
             1,
             "#f0f921"
            ]
           ],
           "sequentialminus": [
            [
             0,
             "#0d0887"
            ],
            [
             0.1111111111111111,
             "#46039f"
            ],
            [
             0.2222222222222222,
             "#7201a8"
            ],
            [
             0.3333333333333333,
             "#9c179e"
            ],
            [
             0.4444444444444444,
             "#bd3786"
            ],
            [
             0.5555555555555556,
             "#d8576b"
            ],
            [
             0.6666666666666666,
             "#ed7953"
            ],
            [
             0.7777777777777778,
             "#fb9f3a"
            ],
            [
             0.8888888888888888,
             "#fdca26"
            ],
            [
             1,
             "#f0f921"
            ]
           ]
          },
          "colorway": [
           "#636efa",
           "#EF553B",
           "#00cc96",
           "#ab63fa",
           "#FFA15A",
           "#19d3f3",
           "#FF6692",
           "#B6E880",
           "#FF97FF",
           "#FECB52"
          ],
          "font": {
           "color": "#2a3f5f"
          },
          "geo": {
           "bgcolor": "white",
           "lakecolor": "white",
           "landcolor": "#E5ECF6",
           "showlakes": true,
           "showland": true,
           "subunitcolor": "white"
          },
          "hoverlabel": {
           "align": "left"
          },
          "hovermode": "closest",
          "mapbox": {
           "style": "light"
          },
          "paper_bgcolor": "white",
          "plot_bgcolor": "#E5ECF6",
          "polar": {
           "angularaxis": {
            "gridcolor": "white",
            "linecolor": "white",
            "ticks": ""
           },
           "bgcolor": "#E5ECF6",
           "radialaxis": {
            "gridcolor": "white",
            "linecolor": "white",
            "ticks": ""
           }
          },
          "scene": {
           "xaxis": {
            "backgroundcolor": "#E5ECF6",
            "gridcolor": "white",
            "gridwidth": 2,
            "linecolor": "white",
            "showbackground": true,
            "ticks": "",
            "zerolinecolor": "white"
           },
           "yaxis": {
            "backgroundcolor": "#E5ECF6",
            "gridcolor": "white",
            "gridwidth": 2,
            "linecolor": "white",
            "showbackground": true,
            "ticks": "",
            "zerolinecolor": "white"
           },
           "zaxis": {
            "backgroundcolor": "#E5ECF6",
            "gridcolor": "white",
            "gridwidth": 2,
            "linecolor": "white",
            "showbackground": true,
            "ticks": "",
            "zerolinecolor": "white"
           }
          },
          "shapedefaults": {
           "line": {
            "color": "#2a3f5f"
           }
          },
          "ternary": {
           "aaxis": {
            "gridcolor": "white",
            "linecolor": "white",
            "ticks": ""
           },
           "baxis": {
            "gridcolor": "white",
            "linecolor": "white",
            "ticks": ""
           },
           "bgcolor": "#E5ECF6",
           "caxis": {
            "gridcolor": "white",
            "linecolor": "white",
            "ticks": ""
           }
          },
          "title": {
           "x": 0.05
          },
          "xaxis": {
           "automargin": true,
           "gridcolor": "white",
           "linecolor": "white",
           "ticks": "",
           "title": {
            "standoff": 15
           },
           "zerolinecolor": "white",
           "zerolinewidth": 2
          },
          "yaxis": {
           "automargin": true,
           "gridcolor": "white",
           "linecolor": "white",
           "ticks": "",
           "title": {
            "standoff": 15
           },
           "zerolinecolor": "white",
           "zerolinewidth": 2
          }
         }
        },
        "title": {
         "text": "Correlation Matrix"
        },
        "width": 800,
        "xaxis": {
         "anchor": "y",
         "constrain": "domain",
         "domain": [
          0,
          1
         ],
         "scaleanchor": "y"
        },
        "yaxis": {
         "anchor": "x",
         "autorange": "reversed",
         "constrain": "domain",
         "domain": [
          0,
          1
         ]
        }
       }
      }
     },
     "metadata": {},
     "output_type": "display_data"
    }
   ],
   "source": [
    "import plotly.express as px\n",
    "df_corr=df_train.drop('FlightDate',axis=1)\n",
    "corrmat = df_corr.corr() \n",
    "fig = px.imshow(corrmat,\n",
    "                labels = dict(color='Correlation'),\n",
    "                x=corrmat.columns,\n",
    "                y=corrmat.index,\n",
    "                color_continuous_scale='Viridis',\n",
    "                title='Correlation Matrix')\n",
    "fig.update_layout(width=800, height=800)\n",
    "fig.show()"
   ]
  },
  {
   "cell_type": "code",
   "execution_count": null,
   "metadata": {},
   "outputs": [],
   "source": []
  }
 ],
 "metadata": {
  "kernelspec": {
   "display_name": "Python 3",
   "language": "python",
   "name": "python3"
  },
  "language_info": {
   "codemirror_mode": {
    "name": "ipython",
    "version": 3
   },
   "file_extension": ".py",
   "mimetype": "text/x-python",
   "name": "python",
   "nbconvert_exporter": "python",
   "pygments_lexer": "ipython3",
   "version": "3.11.4"
  }
 },
 "nbformat": 4,
 "nbformat_minor": 2
}
